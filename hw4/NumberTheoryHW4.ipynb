{
 "cells": [
  {
   "cell_type": "markdown",
   "metadata": {},
   "source": [
    "## HW4\n",
    "Number Theory, Fall 2020, UTK\n",
    "\n",
    "Gregory Croisdale"
   ]
  },
  {
   "cell_type": "markdown",
   "metadata": {},
   "source": [
    "### 1.3"
   ]
  },
  {
   "cell_type": "markdown",
   "metadata": {},
   "source": [
    "#### 18. Prove that $(a^2, b^2)=c^2$ if $(a, b) = c$.\n",
    "\n",
    "By the Fundamental Theorem of Arithmetic, $a$ and $b$ can be uniquely defined by a product of prime factors. We can write $a$ and $b$ as products of the same primes $f_i$ raised to different exponents $n_i, m_i$ as illustrated below:\n",
    "\n",
    "$\\Rightarrow a = f_1^{n_1} \\cdot f_2^{n_2} \\cdot ... f_r^{n_r}$ where $f_i, n_i, r \\in \\mathbb{Z}$ and $n_i \\ge 0$ and\n",
    "\n",
    "$\\Rightarrow b = f_1^{m_1} \\cdot f_2^{m_2} \\cdot ... f_r^{m_r}$ where $m_i \\in \\mathbb{Z}$ and $m_i \\ge 0$.\n",
    "\n",
    "By the definition of the $gcd$, $gcd(a,b)=f_1^{k_1}\\cdot f_2^{k_2} \\cdot...f_r^{k_r}$ where $k_i = \\textrm{min}(n_i, m_i)$.\n",
    "\n",
    "$\\Rightarrow gcd(a^2, b^2)=f_1^{j_1}\\cdot f_2^{j_2} \\cdot...f_r^{j_r}$ where $j_i = 2 k_i$, as squaring $a$ and $b$ is as simple as doubling the exponents to which each of the factors are raised.\n",
    "\n",
    "Similarly, we can say that $gcd(a,b)^2=f_1^{2k_1}\\cdot f_2^{2k_2} \\cdot...f_r^{2k_r}$.\n",
    "\n",
    "$\\Rightarrow gcd(a^2, b^2)=gcd(a,b)^2$."
   ]
  },
  {
   "cell_type": "markdown",
   "metadata": {},
   "source": [
    "#### 44. If $2^n-1$ is a prime, prove that $n$ itself is a prime."
   ]
  },
  {
   "cell_type": "markdown",
   "metadata": {},
   "source": [
    "Let's prove this by contradiction.\n",
    "\n",
    "Let $n = ab$ and $1 < a \\leq b$.\n",
    "\n",
    "For the polynomial $2^{ab}-1$ where $a,b \\in \\mathbb{N}$, $2^{ab}-1=(2^{a}-1)\\cdot(1+2^a+2^{2a}+2^{3a}+...2^{a(b-1)})$ due to the existence of a factorization.\n",
    "\n",
    "Because $n$ is composite, $(2^a-1) \\neq 1$ and $(2^a-1) | (2^n-1)$ which contradicts $2^n-1$'s primality."
   ]
  },
  {
   "cell_type": "markdown",
   "metadata": {},
   "source": [
    "### 2.1"
   ]
  },
  {
   "cell_type": "code",
   "execution_count": 1,
   "metadata": {},
   "outputs": [],
   "source": [
    "# Recursive form of gcd\n",
    "def gcd(a, b):\n",
    "    return b if a == 0 else gcd(b%a, a)\n",
    "\n",
    "# List comprension to find number of coprimes less than n\n",
    "def tot(n):\n",
    "    return len([i for i in range(n) if gcd(n, i) == 1])"
   ]
  },
  {
   "cell_type": "markdown",
   "metadata": {},
   "source": [
    "#### 10. Evaluate $\\phi(m)$ for $m \\in \\{1,2,3...12\\}$."
   ]
  },
  {
   "cell_type": "code",
   "execution_count": 2,
   "metadata": {},
   "outputs": [
    {
     "name": "stdout",
     "output_type": "stream",
     "text": [
      "ϕ( 1) = 1\n",
      "ϕ( 2) = 1\n",
      "ϕ( 3) = 2\n",
      "ϕ( 4) = 2\n",
      "ϕ( 5) = 4\n",
      "ϕ( 6) = 2\n",
      "ϕ( 7) = 6\n",
      "ϕ( 8) = 4\n",
      "ϕ( 9) = 6\n",
      "ϕ(10) = 4\n",
      "ϕ(11) = 10\n",
      "ϕ(12) = 4\n"
     ]
    }
   ],
   "source": [
    "for i in range(1,13):\n",
    "    print(\"ϕ({:2}) = {}\".format(i, tot(i)))"
   ]
  },
  {
   "cell_type": "markdown",
   "metadata": {},
   "source": [
    "#### 11. Find the least positive integer $x$ such that $13|(x^2+1)$."
   ]
  },
  {
   "cell_type": "code",
   "execution_count": 3,
   "metadata": {},
   "outputs": [
    {
     "name": "stdout",
     "output_type": "stream",
     "text": [
      "5\n"
     ]
    }
   ],
   "source": [
    "print([i for i in range(100) if (i ** 2 + 1) % 13 == 0][0])"
   ]
  },
  {
   "cell_type": "markdown",
   "metadata": {},
   "source": [
    "#### 12. Prove that $19$ is not a divisor of $4n^2+4$ for any integer $n$.\n",
    "\n",
    "Let us assume that this is not the case; i.e. $\\exists n \\in \\mathbb{Z}: 19|4n^2+4$.\n",
    "\n",
    "$$19|4n^2+4\\implies 4n^2+4\\equiv 0 \\mod 19$$\n",
    "$$\\implies 4n^2 \\equiv -4 \\mod 19$$\n",
    "$$\\implies n^2 \\equiv -1 \\mod 19 \\textrm{ because 4 has an inverse mod 19}.$$\n",
    "\n",
    "Now, let us consider the group $\\frac{\\mathbb{Z}}{19\\mathbb{Z}}^*$. Notice that this group has order $18 \\implies \\forall \\textrm{ elements } e \\in \\frac{\\mathbb{Z}}{19\\mathbb{Z}}^*,$ the order of $e$ divides $18$.\n",
    "\n",
    "However, $[n]^2=[-1]\\implies[n]$ has order $4$ and $4 \\nmid 18$.\n",
    "\n",
    "Therefore, $[n]$ cannot possibly be in the group."
   ]
  },
  {
   "cell_type": "markdown",
   "metadata": {},
   "source": [
    "#### 14. Show that $7|(3^{2n+1}+2^{n+2})$ for all $n$.\n",
    "\n",
    "\n",
    "Let's work in group $\\frac{\\mathbb{Z}}{7\\mathbb{Z}}$.\n",
    "\n",
    "We seek to prove that $[3]^{2n+1}+[2]^{n+2}=[0]$.\n",
    "\n",
    "$[3]^{2n+1}+[2]^{n+2}=[3]^{2n}[3]^{1}+[2]^{n}[2]^2=[2]^n[3]+[2]^n[4]=[2]^n([3]+[4])=[2]^n([0])=[0]$."
   ]
  },
  {
   "cell_type": "markdown",
   "metadata": {},
   "source": [
    "#### 18. Show that if $p \\equiv 3(\\mod 4)$, then $\\frac{p-1}{2}!\\equiv \\pm 1 (\\mod p)$"
   ]
  },
  {
   "cell_type": "markdown",
   "metadata": {},
   "source": [
    "$(p-1)!=1\\cdot 2 \\cdot 3 ... \\frac{p-1}{2} \\cdot \\frac{p+1}{2} \\cdot ... (p-1) \\equiv -1 \\mod p$ by Wilson's Theorem.\n",
    "\n",
    "This can be equivalently written as $(\\frac{p-1}{2}!)((-1)^{\\frac{p-1}{2}}\\frac{p-1}{2}!)$ which, when $p$ is of form $4n+3$, must be $-((\\frac{p-1}{2})!)^2$ because $\\frac{4n+2}{2} \\equiv 1 \\mod 2$.\n",
    "\n",
    "$\\implies (p-1)!=-((\\frac{p-1}{2})!)^2\\equiv -1 \\mod p \\implies ((\\frac{p-1}{2})!)=\\pm 1 \\mod p$."
   ]
  }
 ],
 "metadata": {
  "kernelspec": {
   "display_name": "Python 3",
   "language": "python",
   "name": "python3"
  },
  "language_info": {
   "codemirror_mode": {
    "name": "ipython",
    "version": 3
   },
   "file_extension": ".py",
   "mimetype": "text/x-python",
   "name": "python",
   "nbconvert_exporter": "python",
   "pygments_lexer": "ipython3",
   "version": "3.8.2"
  }
 },
 "nbformat": 4,
 "nbformat_minor": 4
}
