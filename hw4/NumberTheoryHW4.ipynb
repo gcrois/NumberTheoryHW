{
 "cells": [
  {
   "cell_type": "markdown",
   "metadata": {},
   "source": [
    "### 1.3\n",
    "#### 18, 44"
   ]
  },
  {
   "cell_type": "markdown",
   "metadata": {},
   "source": [
    "#### 18. Prove that $(a^2, b^2)=c^2$ if $(a, b) = c$."
   ]
  },
  {
   "cell_type": "markdown",
   "metadata": {},
   "source": [
    "#### 44. If $2^n-1$ is a prime, prove that $n$ itself is a prime."
   ]
  },
  {
   "cell_type": "markdown",
   "metadata": {},
   "source": [
    "### 2.1\n",
    "#### 10, 11, 12 ,14, 18"
   ]
  },
  {
   "cell_type": "markdown",
   "metadata": {},
   "source": [
    "#### 10. Evaluate $\\phi(m)$ for $m \\in \\{1,2,3...12\\}$."
   ]
  },
  {
   "cell_type": "code",
   "execution_count": 65,
   "metadata": {},
   "outputs": [
    {
     "name": "stdout",
     "output_type": "stream",
     "text": [
      "5+6i / 1+2i = (-1+3i, 12+5i)\n",
      "-1+3i * 1+2i = -7+1i\n",
      "5+6i % 1+2i = -7+1i\n"
     ]
    }
   ],
   "source": [
    "class GaussInt:\n",
    "    def __init__(self, real, imaginary=None):\n",
    "        if (imaginary == None):\n",
    "            self.r = int(real.real)\n",
    "            self.i = int(real.imag)\n",
    "        else:\n",
    "            self.r = real\n",
    "            self.i = imaginary\n",
    "        \n",
    "    def __mul__(self, other):\n",
    "        if not isinstance(other, GaussInt):\n",
    "            other = GaussInt(other)      \n",
    "            \n",
    "        # (a + bi) (c + di) = ac - bd\n",
    "        a, b, c, d = self.r, self.i, other.r, other.i\n",
    "        r = (a * c) - (b * d)\n",
    "        i = (a * d) + (b * c)\n",
    "        return GaussInt(r, i)\n",
    "    \n",
    "    def __truediv__(self, other):\n",
    "        if not isinstance(other, GaussInt):\n",
    "            return GaussInt(self.r / other, self.i / other)\n",
    "        else:\n",
    "            a, b, c, d = self.r, self.i, other.r, other.i\n",
    "            # (a + bi) / (c + di)\n",
    "            # (a + bi) * (c + di) / ((c + di) * (c + di))\n",
    "            # (a + bi) * (c + di) / (c ** 2 - d ** 2)\n",
    "            res = (self * other) / (other * GaussInt(other.r, other.i * -1)).r\n",
    "            r_r = int(round(res.r))\n",
    "            r_i = int(round(res.i))\n",
    "            return GaussInt(r_r, r_i), self - (GaussInt(r_r, r_i) * other)\n",
    "        \n",
    "    def __sub__(self, other):\n",
    "        return self + (other * -1)\n",
    "    \n",
    "    def __add__(self, other):\n",
    "        if not isinstance(other, GaussInt):\n",
    "            other = GaussInt(other)\n",
    "            \n",
    "        return GaussInt(self.r + other.r, self.i + other.i)\n",
    "\n",
    "    def __repr__(self):\n",
    "        return \"{}{}{}i\".format(self.r, \"+\" if (self.i > 0) else \"\", self.i)\n",
    "    \n",
    "    def norm(self):\n",
    "        return self.r ** 2 + self.i ** 2\n",
    "\n",
    "a = GaussInt(5+6j)\n",
    "b = GaussInt(1+2j)\n",
    "\n",
    "print(\"{} / {} = {}\".format(a, b, a/b))\n",
    "print(\"{} * {} = {}\".format((a/b)[0], b, (a/b)[0] * b))\n",
    "print(\"{} % {} = {}\".format(a, b, (b * (a / b)[0])))"
   ]
  }
 ],
 "metadata": {
  "kernelspec": {
   "display_name": "Python 3",
   "language": "python",
   "name": "python3"
  },
  "language_info": {
   "codemirror_mode": {
    "name": "ipython",
    "version": 3
   },
   "file_extension": ".py",
   "mimetype": "text/x-python",
   "name": "python",
   "nbconvert_exporter": "python",
   "pygments_lexer": "ipython3",
   "version": "3.8.2"
  }
 },
 "nbformat": 4,
 "nbformat_minor": 4
}
