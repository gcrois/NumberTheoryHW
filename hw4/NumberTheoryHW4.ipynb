{
 "cells": [
  {
   "cell_type": "markdown",
   "metadata": {},
   "source": [
    "### 1.3"
   ]
  },
  {
   "cell_type": "markdown",
   "metadata": {},
   "source": [
    "#### 18. Prove that $(a^2, b^2)=c^2$ if $(a, b) = c$.\n",
    "\n",
    "By the Fundamental Theorem of Arithmetic, $a$ can be expressed as a unique product of factors $f_1 \\cdot f_2 \\cdot ... f_n=a$ where $f_1, f_2, ..., f_n, n \\in \\mathbb{Z}$.\n",
    "\n",
    "Likewise, $b$ can be expressed as a unique product of factors $g_1 \\cdot g_2 \\cdot ... g_n=a$ where $g_1, g_2, ..., g_n, n \\in \\mathbb{Z}$.\n",
    "\n",
    "By the definition of the $gcd$, $gcd(a,b)=\\Pi[f_1,f_2,...f_n]\\cap[g_1, g_2, ..., g_n]$. (The product of all common factors, maintaining duplicity).\n",
    "\n",
    "$a^2=a\\cdot a=(f_1 \\cdot f_2 \\cdot ... f_n) \\cdot (f_1 \\cdot f_2 \\cdot ... f_n) = f_1^2 \\cdot f_2^2 \\cdot ... f_n^2$\n",
    "\n",
    "Likewise, $b^2 = g_1^2 \\cdot g_2^2 \\cdot ... g_n^2$.\n",
    "\n",
    "$\\implies gcd(a^2,b^2) = \\Pi f_i^2 \\cdot g_i^2: f_i, g_i \\in [f_1,f_2,...f_n]\\cap[g_1, g_2, ..., g_n]=gcd(a,b)^2$"
   ]
  },
  {
   "cell_type": "markdown",
   "metadata": {},
   "source": [
    "#### 44. If $2^n-1$ is a prime, prove that $n$ itself is a prime."
   ]
  },
  {
   "cell_type": "markdown",
   "metadata": {},
   "source": [
    "### 2.1"
   ]
  },
  {
   "cell_type": "code",
   "execution_count": 1,
   "metadata": {},
   "outputs": [],
   "source": [
    "# Recursive form of gcd\n",
    "def gcd(a, b):\n",
    "    return b if a == 0 else gcd(b%a, a)\n",
    "\n",
    "# List comprension to find number of coprimes less than n\n",
    "def tot(n):\n",
    "    return len([i for i in range(n) if gcd(n, i) == 1])"
   ]
  },
  {
   "cell_type": "markdown",
   "metadata": {},
   "source": [
    "#### 10. Evaluate $\\phi(m)$ for $m \\in \\{1,2,3...12\\}$."
   ]
  },
  {
   "cell_type": "code",
   "execution_count": 2,
   "metadata": {},
   "outputs": [
    {
     "name": "stdout",
     "output_type": "stream",
     "text": [
      "ϕ( 1) = 1\n",
      "ϕ( 2) = 1\n",
      "ϕ( 3) = 2\n",
      "ϕ( 4) = 2\n",
      "ϕ( 5) = 4\n",
      "ϕ( 6) = 2\n",
      "ϕ( 7) = 6\n",
      "ϕ( 8) = 4\n",
      "ϕ( 9) = 6\n",
      "ϕ(10) = 4\n",
      "ϕ(11) = 10\n",
      "ϕ(12) = 4\n"
     ]
    }
   ],
   "source": [
    "for i in range(1,13):\n",
    "    print(\"ϕ({:2}) = {}\".format(i, tot(i)))"
   ]
  },
  {
   "cell_type": "markdown",
   "metadata": {},
   "source": [
    "#### 11. Find the least positive integer $x$ such that $13|(x^2+1)$."
   ]
  },
  {
   "cell_type": "code",
   "execution_count": 3,
   "metadata": {},
   "outputs": [
    {
     "name": "stdout",
     "output_type": "stream",
     "text": [
      "5\n"
     ]
    }
   ],
   "source": [
    "print([i for i in range(100) if (i ** 2 + 1) % 13 == 0][0])"
   ]
  },
  {
   "cell_type": "markdown",
   "metadata": {},
   "source": [
    "#### 12. Prove that $19$ is not a divisor of $4n^2+4$ for any integer $n$.\n",
    "\n",
    "Let us assume that this is not the case; i.e. $\\exists n \\in \\mathbb{Z}: 19|4n^2+4$.\n",
    "\n",
    "$$19|4n^2+4\\implies 19|4(n^2+1)\\implies 19|(n^2+1) \\textrm{, as } 19 \\textrm{ and } 4 \\textrm{ are coprime.}$$\n",
    "\n",
    "$$\\implies 19 \\equiv 1 \\mod n \\implies $$"
   ]
  },
  {
   "cell_type": "markdown",
   "metadata": {},
   "source": [
    "#### 14. Show that $7|(3^{2n+1}+2^{n+2})$ for all $n$.\n",
    "\n",
    "$$(3^{2n+1}+2^{n+2})=(3^13^{2n}+2^22^n)$$"
   ]
  },
  {
   "cell_type": "markdown",
   "metadata": {},
   "source": [
    "#### 18. Show that if $p \\equiv 3(\\mod 4)$, then $\\frac{p-1}{2}!\\equiv \\pm 1 (\\mod p)$"
   ]
  },
  {
   "cell_type": "code",
   "execution_count": 4,
   "metadata": {},
   "outputs": [
    {
     "data": {
      "text/plain": [
       "(5-4i)"
      ]
     },
     "execution_count": 4,
     "metadata": {},
     "output_type": "execute_result"
    }
   ],
   "source": [
    "class GaussInt:\n",
    "    def __init__(self, real, imaginary=None):\n",
    "        # allow native complex type construction or parameter construction\n",
    "        if (imaginary == None):\n",
    "            self.r = int(real.real)\n",
    "            self.i = int(real.imag)\n",
    "        else:\n",
    "            self.r = real\n",
    "            self.i = imaginary\n",
    "        \n",
    "    def __mul__(self, other):\n",
    "        # construct GaussInt from non-GaussInt\n",
    "        if not isinstance(other, GaussInt):\n",
    "            other = GaussInt(other)      \n",
    "\n",
    "        # (a + bi) (c + di) = ac - bd\n",
    "        a, b, c, d = self.r, self.i, other.r, other.i\n",
    "        r = (a * c) - (b * d)\n",
    "        i = (a * d) + (b * c)\n",
    "        return GaussInt(r, i)\n",
    "    \n",
    "    def divide(self, other):\n",
    "        if not isinstance(other, GaussInt):\n",
    "            r_r = int(round(self.r / other))\n",
    "            r_i = int(round(self.i / other))\n",
    "            return GaussInt(r_r, r_i), self - (GaussInt(r_r, r_i) * other)\n",
    "        else:\n",
    "            a, b, c, d = self.r, self.i, other.r, other.i\n",
    "            conj = GaussInt(other.r, -other.i)\n",
    "            # (a + bi) / (c + di)\n",
    "            # (a + bi) * (c - di) / ((c + di) * (c - di))\n",
    "            # (a + bi) * (c + di) / (c ** 2 - d ** 2)\n",
    "            res = (self * conj) / (other * conj).r\n",
    "            \n",
    "            r_r = int(round(res.r))\n",
    "            r_i = int(round(res.i))\n",
    "            return GaussInt(r_r, r_i), self - (GaussInt(r_r, r_i) * other)\n",
    "    \n",
    "    def __truediv__(self, other):\n",
    "        return self.divide(other)[0]\n",
    "    \n",
    "    def __mod__(self, other):\n",
    "        return self.divide(other)[1]\n",
    "        \n",
    "    def __sub__(self, other):\n",
    "        return self + (other * -1)\n",
    "    \n",
    "    def __add__(self, other):\n",
    "        if not isinstance(other, GaussInt):\n",
    "            other = GaussInt(other)\n",
    "            \n",
    "        return GaussInt(self.r + other.r, self.i + other.i)\n",
    "\n",
    "    def __repr__(self):\n",
    "        return \"({}{}{}i)\".format(self.r, \"+\" if (self.i >= 0) else \"\", self.i)\n",
    "    \n",
    "    def __eq__(self, other):\n",
    "        # construct GaussInt from non-GaussInt\n",
    "        if not isinstance(other, GaussInt):\n",
    "            other = GaussInt(other)\n",
    "        return (self.r == other.r) and (self.i == other.i)\n",
    "    \n",
    "    def __neq__(self, other):\n",
    "        return not (self == other)\n",
    "    \n",
    "    def norm(self):\n",
    "        return self.r ** 2 + self.i ** 2\n",
    "\n",
    "a = GaussInt(5+6j)\n",
    "b = GaussInt(1+2j)\n",
    "\n",
    "(a % 10)"
   ]
  }
 ],
 "metadata": {
  "kernelspec": {
   "display_name": "Python 3",
   "language": "python",
   "name": "python3"
  },
  "language_info": {
   "codemirror_mode": {
    "name": "ipython",
    "version": 3
   },
   "file_extension": ".py",
   "mimetype": "text/x-python",
   "name": "python",
   "nbconvert_exporter": "python",
   "pygments_lexer": "ipython3",
   "version": "3.8.2"
  }
 },
 "nbformat": 4,
 "nbformat_minor": 4
}
