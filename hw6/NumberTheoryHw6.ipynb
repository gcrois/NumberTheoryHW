{
 "cells": [
  {
   "cell_type": "code",
   "execution_count": 1,
   "metadata": {},
   "outputs": [],
   "source": [
    "# Short prime finder\n",
    "prime_list = [2] + [*filter(lambda i:all(i%j for j in range(3,i,2)), range(3,10000,2))]\n",
    "prime_set = set(prime_list)"
   ]
  },
  {
   "cell_type": "code",
   "execution_count": 2,
   "metadata": {},
   "outputs": [],
   "source": [
    "def is_prime(n):\n",
    "      return n in prime_set"
   ]
  },
  {
   "cell_type": "code",
   "execution_count": 3,
   "metadata": {},
   "outputs": [],
   "source": [
    "# determines if a is a quadratic residue of p\n",
    "def legendre(a, p, d = 2):\n",
    "    # if p is prime, simply return the \n",
    "    if is_prime(p):\n",
    "        symbol = ((a) ** ((p - 1) // d)) % p\n",
    "        # handles negative -1\n",
    "        return symbol if symbol < 2 else -1\n",
    "    \n",
    "    # otherwise, return product of prime factors\n",
    "    product = 1\n",
    "    factors = fact(p)\n",
    "    for i in factors:\n",
    "        product *= (legendre(i) ** factors[i])\n",
    "    return product\n",
    "        "
   ]
  },
  {
   "cell_type": "code",
   "execution_count": 4,
   "metadata": {},
   "outputs": [],
   "source": [
    "# Recursive form of gcd\n",
    "def gcd(a, b):\n",
    "    return b if a == 0 else gcd(b%a, a)"
   ]
  },
  {
   "cell_type": "code",
   "execution_count": 5,
   "metadata": {},
   "outputs": [],
   "source": [
    "## Extended Euclidean Algorithm\n",
    "def ext_euclid(a, b):\n",
    "    a, b = sorted((a, b % a))\n",
    "    \n",
    "    # remainders\n",
    "    r = [b, a]\n",
    "    \n",
    "    # coefficient of b\n",
    "    s = [1, 0]\n",
    "    \n",
    "    # coefficient of a\n",
    "    t = [0, 1]\n",
    "    \n",
    "    # compute values until remainder is 0\n",
    "    i = 1\n",
    "    while(r[i] != 0):\n",
    "        q = (r[i - 1] // r[i])\n",
    "        r.append(r[i - 1] - q * r[i])\n",
    "        s.append(s[i - 1] - q * s[i])\n",
    "        t.append(t[i - 1] - q * t[i])\n",
    "        i += 1\n",
    "        \n",
    "    # return relevant coefficients and remainder\n",
    "    return t[i - 1] % b, s[i - 1], r[i - 1]"
   ]
  },
  {
   "cell_type": "code",
   "execution_count": 6,
   "metadata": {},
   "outputs": [],
   "source": [
    "# cathode ray tu-- sorry... Chinese Remainder Theorem\n",
    "# x = a_k mod n_k\n",
    "def crt(a: list, n: list):\n",
    "    # first, verify lists are of same size\n",
    "    assert len(a) == len(n)\n",
    "    \n",
    "    # next, verify coprimality and generate product\n",
    "    N = 1\n",
    "    for i in n:\n",
    "        assert (gcd(i, N) == 1)\n",
    "        N *= i\n",
    "        \n",
    "    # now, add element N / n_i = y_i to each n\n",
    "    n = [(i, N // i) for i in n]\n",
    "    \n",
    "    # next, add element multiplicative inverse of y_i = z_i to each n\n",
    "    n = [i + tuple([ext_euclid(*i)[0]]) for i in n]\n",
    "\n",
    "    # now, return x = sum(a * y * z) and uniqueness factor\n",
    "    return sum([a[i] * n[i][1] * n[i][2] for i in range(len(n))]) % N, N"
   ]
  },
  {
   "cell_type": "code",
   "execution_count": 7,
   "metadata": {},
   "outputs": [],
   "source": [
    "# Prime Factorialization\n",
    "from collections import defaultdict\n",
    "\n",
    "# Prime Factoring Algorithm\n",
    "def fact(n):\n",
    "    # dictionary with default value\n",
    "    out = defaultdict(int)\n",
    "    \n",
    "    # fresh new prime list\n",
    "    primes = prime_list.copy()\n",
    "\n",
    "    f = primes.pop(0)\n",
    "    while f <= n:\n",
    "        if n % f == 0:\n",
    "            out[f] += 1\n",
    "            n //= f\n",
    "        else:\n",
    "            f = primes.pop(0)\n",
    "    return dict(out) # [j for k in [([i] * out[i]) for i in out] for j in k]"
   ]
  },
  {
   "cell_type": "code",
   "execution_count": 8,
   "metadata": {},
   "outputs": [],
   "source": [
    "# List comprension to find number of coprimes less than n\n",
    "def naiive_tot(n):\n",
    "    return len([i for i in range(n) if gcd(n, i) == 1])"
   ]
  },
  {
   "cell_type": "code",
   "execution_count": 9,
   "metadata": {},
   "outputs": [],
   "source": [
    "# totient of a power of a prime\n",
    "def p_tot(p, n):\n",
    "    return (p - 1) * p ** (n - 1)"
   ]
  },
  {
   "cell_type": "code",
   "execution_count": 10,
   "metadata": {},
   "outputs": [],
   "source": [
    "# finds the totient of a number using its factorialization\n",
    "def smart_tot(n):\n",
    "    out     = 1\n",
    "    factors = fact(n)\n",
    "    for i in factors:\n",
    "        out *= p_tot(i, factors[i])\n",
    "    return out"
   ]
  },
  {
   "cell_type": "markdown",
   "metadata": {},
   "source": [
    "### 2.3"
   ]
  },
  {
   "cell_type": "markdown",
   "metadata": {},
   "source": [
    "#### 2. Find all integers that satisfy simultaneously:\n",
    "\n",
    "$x \\equiv 2 (\\mod 3)$, $x \\equiv 3(\\mod 5)$, $x \\equiv 5 (\\mod 2)$"
   ]
  },
  {
   "cell_type": "code",
   "execution_count": 11,
   "metadata": {},
   "outputs": [
    {
     "name": "stdout",
     "output_type": "stream",
     "text": [
      "23 + 30n = 2 mod 3\n",
      "23 + 30n = 3 mod 5\n",
      "23 + 30n = 5 mod 2\n"
     ]
    }
   ],
   "source": [
    "congr = [2, 3, 5]\n",
    "p     = [3, 5, 2]\n",
    "\n",
    "# find such an integer using chinese remainder theorem\n",
    "r = crt(congr, p)\n",
    "\n",
    "# verify results and print\n",
    "for i in range(len(p)):\n",
    "    assert r[0] % p[i] == congr[i] % p[i]\n",
    "    print(\"{} + {}n = {} mod {}\".format(r[0], r[1], congr[i], p[i]))"
   ]
  },
  {
   "cell_type": "markdown",
   "metadata": {},
   "source": [
    "#### 4. Find all integers that give the remainders $1,2,3$ when divided by $3,4,5$, respectively."
   ]
  },
  {
   "cell_type": "code",
   "execution_count": 12,
   "metadata": {},
   "outputs": [
    {
     "name": "stdout",
     "output_type": "stream",
     "text": [
      "58 + 60n = 1 mod 3\n",
      "58 + 60n = 2 mod 4\n",
      "58 + 60n = 3 mod 5\n"
     ]
    }
   ],
   "source": [
    "congr = [1, 2, 3]\n",
    "p     = [3, 4, 5]\n",
    "\n",
    "# find such an integer using chinese remainder theorem\n",
    "r = crt(congr, p)\n",
    "\n",
    "# verify results and print\n",
    "for i in range(len(p)):\n",
    "    assert r[0] % p[i] == congr[i] % p[i]\n",
    "    print(\"{} + {}n = {} mod {}\".format(r[0], r[1], congr[i], p[i]))"
   ]
  },
  {
   "cell_type": "markdown",
   "metadata": {},
   "source": [
    "#### 9. For what values of $n$ is $\\phi(n)$ odd?"
   ]
  },
  {
   "cell_type": "markdown",
   "metadata": {},
   "source": [
    "$n > 1$ can be expressed as the product of primes, so $n=2^mp_1^{a_1} ... p_k^{a_k}$ where $a_i$ is an odd prime.\n",
    "\n",
    "Therefore, $\\phi(n)$ can be expressed as $\\phi(2^m)\\phi(p_1^{a_1}) ... \\phi({p_k^{a_k}})$.\n",
    "\n",
    "$\\phi(p) = p^{k-1}(p-1)$ where $p$ is a prime.\n",
    "\n",
    "$2 \\nmid \\phi(p^k)$ where $p$ is prime $\\iff 2 \\nmid p^{k-1}(p-1) \\implies p = 2^1$.\n",
    "\n",
    "Because all prime numbers except for $2$ have even totients, $2 \\nmid \\phi(n)  \\iff 2 \\nmid \\phi(2^m)\\phi(p_1^{a_1}) ... \\phi({p_k^{a_k}}) \\iff n = 2$ if $n > 1$.\n",
    "\n",
    "By observation, $\\phi(1)=1$. Also, note that multiplication by a unit does not affect the value of the totient.\n",
    "\n",
    "Therefore, $\\phi(n)$ is odd $\\iff n \\in {-2,-1,1,2}$."
   ]
  },
  {
   "cell_type": "markdown",
   "metadata": {},
   "source": [
    "#### 10. Find the number of positive integers $\\leq 3600$ that are prime to $3600$."
   ]
  },
  {
   "cell_type": "code",
   "execution_count": 13,
   "metadata": {},
   "outputs": [
    {
     "name": "stdout",
     "output_type": "stream",
     "text": [
      "(2^4)(3^2)(5^2) = 3600\n",
      "ϕ(2^4)ϕ(3^2)ϕ(5^2) = ϕ(3600)\n",
      "(8)(6)(20) = 960 = ϕ(3600)     ✓\n"
     ]
    }
   ],
   "source": [
    "n = 3600\n",
    "\n",
    "# first, factor number\n",
    "factors = fact(n)\n",
    "\n",
    "# let's verify that we have the right factors\n",
    "res = 1\n",
    "for i in factors: res *= i ** factors[i]\n",
    "assert res == n\n",
    "for i in factors:\n",
    "    print(\"({}^{})\".format(i, factors[i]), end=\"\")\n",
    "print(\" = {}\".format(n))\n",
    "\n",
    "# present proposition\n",
    "tot = 1\n",
    "for i in factors:\n",
    "    print(\"ϕ({}^{})\".format(i, factors[i]), end=\"\")\n",
    "print(\" = ϕ({})\".format(n))\n",
    "\n",
    "# print results of totient of factors\n",
    "for i in factors:\n",
    "    tot *= (e_tot := p_tot(i, factors[i]))\n",
    "    print(\"({})\".format(e_tot), end=\"\")\n",
    "print(\" = {} = ϕ({})\".format(tot, n), end=\"\")\n",
    "\n",
    "# check with naaive approach\n",
    "if (naiive_tot(n) == tot):\n",
    "    print(\"{}✓\".format(\" \" * 5))\n",
    "else:\n",
    "    print(\"{}:(\".format(\" \" * 5))"
   ]
  },
  {
   "cell_type": "markdown",
   "metadata": {},
   "source": [
    "### 2.6"
   ]
  },
  {
   "cell_type": "markdown",
   "metadata": {},
   "source": [
    "#### 3. Solve $f(x)=x^3+x+57\\equiv 0 (\\mod 5 ^ 3)$"
   ]
  },
  {
   "cell_type": "markdown",
   "metadata": {},
   "source": [
    "We will be using Hensel's Lemma.\n",
    "\n",
    "Note that $f(4)=(4)^3+(4)+57=125\\equiv 0 (\\mod 5)$.\n",
    "\n",
    "Additionally, $f'(4)=48+1=49 \\equiv 4 (\\mod 5) \\not\\equiv 0 (\\mod 5)$.\n",
    "\n",
    "By Hensel's Lemma, there exists a unique solution to the equation $f(x)\\equiv 0 (\\mod 5^{1+2})$ and $x \\equiv 4 (\\mod 5^{1})$.\n",
    "\n",
    "$x = 4 - f(4) \\cdot a$ where $a \\equiv [f'(4)]^{-1} \\mod 5^2$.\n",
    "\n",
    "A valid integer for $a$ is $4$.\n",
    "\n",
    "Therefore, $x = 4 - 4 * 125 = -496$.\n",
    "\n",
    "Verifying, $(-496)^3 - 496 + 57 = -122024375 \\equiv 0 (\\mod 5^3)$ 😃"
   ]
  },
  {
   "cell_type": "code",
   "execution_count": 14,
   "metadata": {},
   "outputs": [],
   "source": [
    "assert (4 ** 3 + 4 + 57) % 5 == 0\n",
    "assert 3 * (4) ** 2 + 1 == 49\n",
    "assert ((-496) ** 3 - 496 + 57) % (5 ** 3) == 0"
   ]
  },
  {
   "cell_type": "markdown",
   "metadata": {},
   "source": [
    "### 3.2"
   ]
  },
  {
   "cell_type": "markdown",
   "metadata": {},
   "source": [
    "#### 2. Prove that if $p$ and $q$ are distinct primes of the form $4k+3$, and if $x^2\\equiv p (\\mod q))$ has no solution, then $x^2 \\equiv q (\\mod p)$ has two solutions. "
   ]
  },
  {
   "cell_type": "markdown",
   "metadata": {},
   "source": [
    "By the principle of quadratic reciprocity, $(\\frac{p}{q})(\\frac{q}{p})=(-1)^{\\frac{p-1}{2}\\frac{q-1}{2}}=-1$ because $\\frac{4k+3-1}{2}=2k+1$ which is odd.\n",
    "\n",
    "Because $x^2 \\equiv p (\\mod q)$ as no solutions, $(\\frac{p}{q})=-1$.\n",
    "\n",
    "$\\implies (\\frac{q}{p})=1 \\implies \\exists x: (\\pm x) ^ 2 \\equiv q(\\mod p)$."
   ]
  },
  {
   "cell_type": "markdown",
   "metadata": {},
   "source": [
    "#### 6. Decide whether $x^2 \\equiv 150 (\\mod 1009)$ is solvable or not."
   ]
  },
  {
   "cell_type": "code",
   "execution_count": 15,
   "metadata": {},
   "outputs": [],
   "source": [
    "assert (139 ** 2) % 1009 == 150\n",
    "assert legendre(150, 1009) == 1"
   ]
  },
  {
   "cell_type": "markdown",
   "metadata": {},
   "source": [
    "139 is a solution, so it must be solvable.\n",
    "\n",
    "Additionally, 150 is a quadratic residue of 1009, so it solvable."
   ]
  },
  {
   "cell_type": "markdown",
   "metadata": {},
   "source": [
    "#### 7. Find all primes $p$ such that $x^2 \\equiv 13 (\\mod p)$ has a solution."
   ]
  },
  {
   "cell_type": "markdown",
   "metadata": {},
   "source": [
    "First, we can easily confirm that $p=2$ has the solution $1^2=13\\pmod p$.\n",
    "\n",
    "For larger, odd primes, we know that $(\\frac{13}{p})(\\frac{p}{13})=1$, as $13$ is of the form $4n+1$, so $(\\frac{13}{p})=1 \\iff (\\frac{p}{13})=1$.\n",
    "\n",
    "We can quickly find all numbers with $(\\frac{n}{13})$, $\\{1,3,4,9,10,12\\}$, so all of the solutions are $p \\equiv 1,3,4,9,10,12 \\pmod{13}$ or $p=2,13$."
   ]
  },
  {
   "cell_type": "code",
   "execution_count": 16,
   "metadata": {},
   "outputs": [],
   "source": [
    "# quick verification script!\n",
    "\n",
    "for i in range(10000):\n",
    "    # check that all prime residues have anticipated congruences\n",
    "    if is_prime(i) and legendre(13, i) == 1:\n",
    "        assert (i in [2]) or (i % 13) in [1, 3, 4, 9, 10, 12]\n",
    "        continue\n",
    "\n",
    "    # check that all primes with congruences have already been found\n",
    "    if is_prime(i) and ((i in [2]) or (i % 13) in [1, 3, 4, 9, 10, 12]):\n",
    "        assert False"
   ]
  },
  {
   "cell_type": "markdown",
   "metadata": {},
   "source": [
    "#### 10. Of which primes is $-2$ a quadratic residue? "
   ]
  },
  {
   "cell_type": "markdown",
   "metadata": {},
   "source": [
    "First, we know that $-2$ is clearly a quadratic residue of $2$, as $0^2 \\equiv -2 \\mod 2 \\equiv 0 \\mod 2$.\n",
    "\n",
    "$(\\frac{-2}{p})=(\\frac{-1}{p})(\\frac{2}{p})$ by the properties of the Legendre symbol.\n",
    "\n",
    "$(\\frac{-1}{p})(\\frac{2}{p})=1 \\iff (\\frac{-1}{p})=1$ and $(\\frac{2}{p})=1$ or $(\\frac{-1}{p})=-1$ and $(\\frac{2}{p})=-1$.\n",
    "\n",
    "$(\\frac{2}{p})=1 \\iff p \\equiv 1 $ or $ 7 \\pmod 8$ (This is a consequence of quadratic reciprocity explained in this document on page 10 https://www.math.brown.edu/~jhs/Frint4thChapter21.pdf).\n",
    "\n",
    "$(\\frac{-1}{p})=1 \\iff p \\equiv 1 \\pmod 4$. (see the aforementioned document)\n",
    "\n",
    "Therefore, $-2$ is a quadratic residue of $p$ if $p$ is of the form $1 \\pmod 8$.\n",
    "\n",
    "Now, we need to account for when $(\\frac{2}{p}) = -1$ and $(\\frac{-1}{p})=-1$.\n",
    "\n",
    "Similarly, we can infer that $(\\frac{2}{p})= -1 \\iff p \\equiv 3 $ or $ 5 \\pmod 8$ and $(\\frac{-1}{p})=-1 \\iff p \\equiv 3 \\pmod 4$, so $-2$ is a quadratic residue of $p$ if $p$ is of the form $3 \\pmod 8$.\n",
    "\n",
    "Now that we have expressed all of the possibilities for $(\\frac{-1}{p})(\\frac{2}{p}) = 1$, we can definitively say that $-2$ is a quadratic residue of a prime $p \\iff p$ is of the form $1 \\pmod 8$ or $3 \\pmod 8$ or $p = 2$."
   ]
  },
  {
   "cell_type": "code",
   "execution_count": 18,
   "metadata": {},
   "outputs": [],
   "source": [
    "# quick verification script!\n",
    "\n",
    "for i in range(10000):\n",
    "    # check that all anticipated values are quadratic residues\n",
    "    if ((i % 8) == 1 or (i % 8) == 3 or i == 2) and is_prime(i):\n",
    "        assert legendre(-2, i) == 1\n",
    "        continue\n",
    "    \n",
    "    # make sure that all quadratic residues have been accounted for\n",
    "    if is_prime(i) and legendre(-2, i) == 1:\n",
    "        assert False"
   ]
  }
 ],
 "metadata": {
  "kernelspec": {
   "display_name": "Python 3",
   "language": "python",
   "name": "python3"
  },
  "language_info": {
   "codemirror_mode": {
    "name": "ipython",
    "version": 3
   },
   "file_extension": ".py",
   "mimetype": "text/x-python",
   "name": "python",
   "nbconvert_exporter": "python",
   "pygments_lexer": "ipython3",
   "version": "3.8.2"
  }
 },
 "nbformat": 4,
 "nbformat_minor": 4
}
