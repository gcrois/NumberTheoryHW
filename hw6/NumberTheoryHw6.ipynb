{
 "cells": [
  {
   "cell_type": "code",
   "execution_count": 4,
   "metadata": {},
   "outputs": [],
   "source": [
    "# determines if a is a quadratic residue of p\n",
    "def legendre(a, p, d = 2):\n",
    "    symbol = ((a) ** ((p - 1) // d)) % p\n",
    "    # handles negative -1\n",
    "    return symbol if symbol < 2 else -1"
   ]
  },
  {
   "cell_type": "code",
   "execution_count": 18,
   "metadata": {},
   "outputs": [],
   "source": [
    "# Recursive form of gcd\n",
    "def gcd(a, b):\n",
    "    return b if a == 0 else gcd(b%a, a)"
   ]
  },
  {
   "cell_type": "code",
   "execution_count": 166,
   "metadata": {},
   "outputs": [],
   "source": [
    "## Extended Euclidean Algorithm\n",
    "def ext_euclid(a, b):\n",
    "    a, b = sorted((a, b % a))\n",
    "    \n",
    "    # remainders\n",
    "    r = [b, a]\n",
    "    \n",
    "    # coefficient of b\n",
    "    s = [1, 0]\n",
    "    \n",
    "    # coefficient of a\n",
    "    t = [0, 1]\n",
    "    \n",
    "    # compute values until remainder is 0\n",
    "    i = 1\n",
    "    while(r[i] != 0):\n",
    "        q = (r[i - 1] // r[i])\n",
    "        r.append(r[i - 1] - q * r[i])\n",
    "        s.append(s[i - 1] - q * s[i])\n",
    "        t.append(t[i - 1] - q * t[i])\n",
    "        i += 1\n",
    "        \n",
    "    # return relevant coefficients and remainder\n",
    "    return t[i - 1] % b, s[i - 1], r[i - 1]"
   ]
  },
  {
   "cell_type": "code",
   "execution_count": 192,
   "metadata": {},
   "outputs": [],
   "source": [
    "# cathode ray tu-- sorry... Chinese Remainder Theorem\n",
    "# x = a_k mod n_k\n",
    "def crt(a: list, n: list):\n",
    "    # first, verify lists are of same size\n",
    "    assert len(a) == len(n)\n",
    "    \n",
    "    # next, verify coprimality and generate product\n",
    "    N = 1\n",
    "    for i in n:\n",
    "        assert (gcd(i, N) == 1)\n",
    "        N *= i\n",
    "        \n",
    "    # now, add element N / n_i = y_i to each n\n",
    "    n = [(i, N // i) for i in n]\n",
    "    \n",
    "    # next, add element multiplicative inverse of y_i = z_i to each n\n",
    "    n = [i + tuple([ext_euclid(*i)[0]]) for i in n]\n",
    "\n",
    "    # now, return x = sum(a * y * z) and uniqueness factor\n",
    "    return sum([a[i] * n[i][1] * n[i][2] for i in range(len(n))]) % N, N"
   ]
  },
  {
   "cell_type": "code",
   "execution_count": 214,
   "metadata": {},
   "outputs": [],
   "source": [
    "# Prime Factorialization\n",
    "from collections import defaultdict\n",
    "\n",
    "# Short prime finder\n",
    "prime_list = [2] + [*filter(lambda i:all(i%j for j in range(3,i,2)), range(3,10000,2))] \n",
    "\n",
    "# Prime Factoring Algorithm\n",
    "def fact(n):\n",
    "    # dictionary with default value\n",
    "    out = defaultdict(int)\n",
    "    \n",
    "    # fresh new prime list\n",
    "    primes = prime_list.copy()\n",
    "\n",
    "    f = primes.pop(0)\n",
    "    while f <= n:\n",
    "        if n % f == 0:\n",
    "            out[f] += 1\n",
    "            n //= f\n",
    "        else:\n",
    "            f = primes.pop(0)\n",
    "    return dict(out) # [j for k in [([i] * out[i]) for i in out] for j in k]"
   ]
  },
  {
   "cell_type": "code",
   "execution_count": 201,
   "metadata": {},
   "outputs": [],
   "source": [
    "# List comprension to find number of coprimes less than n\n",
    "def naiive_tot(n):\n",
    "    return len([i for i in range(n) if gcd(n, i) == 1])"
   ]
  },
  {
   "cell_type": "code",
   "execution_count": 202,
   "metadata": {},
   "outputs": [],
   "source": [
    "# totient of a power of a prime\n",
    "def p_tot(p, n):\n",
    "    return (p - 1) * p ** (n - 1)"
   ]
  },
  {
   "cell_type": "code",
   "execution_count": 203,
   "metadata": {},
   "outputs": [],
   "source": [
    "# finds the totient of a number using its factorialization\n",
    "def smart_tot(n):\n",
    "    out     = 1\n",
    "    factors = fact(n)\n",
    "    for i in factors:\n",
    "        out *= p_tot(i, factors[i])\n",
    "    return out"
   ]
  },
  {
   "cell_type": "markdown",
   "metadata": {},
   "source": [
    "### 2.3"
   ]
  },
  {
   "cell_type": "markdown",
   "metadata": {},
   "source": [
    "#### 2. Find all integers that satisfy simultaneously:\n",
    "\n",
    "$x \\equiv 2 (\\mod 3)$, $x \\equiv 3(\\mod 5)$, $x \\equiv 5 (\\mod 2)$"
   ]
  },
  {
   "cell_type": "code",
   "execution_count": 193,
   "metadata": {},
   "outputs": [
    {
     "name": "stdout",
     "output_type": "stream",
     "text": [
      "23 + 30n = 2 mod 3\n",
      "23 + 30n = 3 mod 5\n",
      "23 + 30n = 5 mod 2\n"
     ]
    }
   ],
   "source": [
    "congr = [2, 3, 5]\n",
    "p     = [3, 5, 2]\n",
    "\n",
    "# find such an integer using chinese remainder theorem\n",
    "r = crt(congr, p)\n",
    "\n",
    "# verify results and print\n",
    "for i in range(len(p)):\n",
    "    assert r[0] % p[i] == congr[i] % p[i]\n",
    "    print(\"{} + {}n = {} mod {}\".format(r[0], r[1], congr[i], p[i]))"
   ]
  },
  {
   "cell_type": "markdown",
   "metadata": {},
   "source": [
    "#### 4. Find all integers that give the remainders $1,2,3$ when divided by $3,4,5$, respectively."
   ]
  },
  {
   "cell_type": "code",
   "execution_count": 194,
   "metadata": {},
   "outputs": [
    {
     "name": "stdout",
     "output_type": "stream",
     "text": [
      "58 + 60n = 1 mod 3\n",
      "58 + 60n = 2 mod 4\n",
      "58 + 60n = 3 mod 5\n"
     ]
    }
   ],
   "source": [
    "congr = [1, 2, 3]\n",
    "p     = [3, 4, 5]\n",
    "\n",
    "# find such an integer using chinese remainder theorem\n",
    "r = crt(congr, p)\n",
    "\n",
    "# verify results and print\n",
    "for i in range(len(p)):\n",
    "    assert r[0] % p[i] == congr[i] % p[i]\n",
    "    print(\"{} + {}n = {} mod {}\".format(r[0], r[1], congr[i], p[i]))"
   ]
  },
  {
   "cell_type": "markdown",
   "metadata": {},
   "source": [
    "#### 9. For what values of $n$ is $\\phi(n)$ odd?"
   ]
  },
  {
   "cell_type": "markdown",
   "metadata": {},
   "source": [
    "$n > 1$ can be expressed as the product of primes, so $n=2^mp_1^{a_1} ... p_k^{a_k}$ where $a_i$ is an odd prime.\n",
    "\n",
    "Therefore, $\\phi(n)$ can be expressed as $\\phi(2^m)\\phi(p_1^{a_1}) ... \\phi({p_k^{a_k}})$.\n",
    "\n",
    "$\\phi(p) = p^{k-1}(p-1)$ where $p$ is a prime.\n",
    "\n",
    "$2 \\nmid \\phi(p^k)$ where $p$ is prime $\\iff 2 \\nmid p^{k-1}(p-1) \\implies p = 2^1$.\n",
    "\n",
    "Because all prime numbers except for $2$ have even totients, $2 \\nmid \\phi(n)  \\iff 2 \\nmid \\phi(2^m)\\phi(p_1^{a_1}) ... \\phi({p_k^{a_k}}) \\iff n = 2$ if $n > 1$.\n",
    "\n",
    "By observation, $\\phi(1)=1$. Also, note that multiplication by a unit does not affect the value of the totient.\n",
    "\n",
    "Therefore, $\\phi(n)$ is odd $\\iff n \\in {-2,-1,1,2}$."
   ]
  },
  {
   "cell_type": "markdown",
   "metadata": {},
   "source": [
    "#### 10. Find the number of positive integers $\\leq 3600$ that are prime to $3600$."
   ]
  },
  {
   "cell_type": "code",
   "execution_count": 236,
   "metadata": {},
   "outputs": [
    {
     "name": "stdout",
     "output_type": "stream",
     "text": [
      "(2^4)(3^2)(5^2) = 3600\n",
      "ϕ(2^4)ϕ(3^2)ϕ(5^2) = ϕ(3600)\n",
      "(8)(6)(20) = 960 = ϕ(3600)     ✓\n"
     ]
    }
   ],
   "source": [
    "n = 3600\n",
    "\n",
    "# first, factor number\n",
    "factors = fact(n)\n",
    "\n",
    "# let's verify that we have the right factors\n",
    "res = 1\n",
    "for i in factors: res *= i ** factors[i]\n",
    "assert res == n\n",
    "for i in factors:\n",
    "    print(\"({}^{})\".format(i, factors[i]), end=\"\")\n",
    "print(\" = {}\".format(n))\n",
    "\n",
    "# present proposition\n",
    "tot = 1\n",
    "for i in factors:\n",
    "    print(\"ϕ({}^{})\".format(i, factors[i]), end=\"\")\n",
    "print(\" = ϕ({})\".format(n))\n",
    "\n",
    "# print results of totient of factors\n",
    "for i in factors:\n",
    "    tot *= (e_tot := p_tot(i, factors[i]))\n",
    "    print(\"({})\".format(e_tot), end=\"\")\n",
    "print(\" = {} = ϕ({})\".format(tot, n), end=\"\")\n",
    "\n",
    "# check with naaive approach\n",
    "if (naiive_tot(n) == tot):\n",
    "    print(\"{}✓\".format(\" \" * 5))\n",
    "else:\n",
    "    print(\"{}:(\".format(\" \" * 5))"
   ]
  },
  {
   "cell_type": "markdown",
   "metadata": {},
   "source": [
    "### 2.6"
   ]
  },
  {
   "cell_type": "markdown",
   "metadata": {},
   "source": [
    "#### 3. Solve $f(x)=x^3+x+57\\equiv 0 (\\mod 5 ^ 3)$"
   ]
  },
  {
   "cell_type": "markdown",
   "metadata": {},
   "source": [
    "We will be using Hensel's Lemma.\n",
    "\n",
    "Note that $f(4)=(4)^3+(4)+57=125\\equiv 0 (\\mod 5)$.\n",
    "\n",
    "Additionally, $f'(4)=48+1=49$.\n",
    "\n",
    "By Hensel's Lemma, there exists a unique solution to the equation $f(x)\\equiv 0 (\\mod 5^{1+2})$."
   ]
  },
  {
   "cell_type": "code",
   "execution_count": 3,
   "metadata": {},
   "outputs": [],
   "source": [
    "assert (4 ** 3 + 4 + 57) % 5 == 0\n",
    "assert 3 * (4) ** 2 + 1 == 49"
   ]
  },
  {
   "cell_type": "markdown",
   "metadata": {},
   "source": [
    "### 3.2"
   ]
  },
  {
   "cell_type": "markdown",
   "metadata": {},
   "source": [
    "#### 2. Prove that if $p$ and $q$ are distinct primes of the form $4k+3$, and if $x^2\\equiv p (\\mod q))$ has no solution, then $x^2 \\equiv q (\\mod p)$ has two solutions. "
   ]
  },
  {
   "cell_type": "markdown",
   "metadata": {},
   "source": [
    "#### 6. Decide whether $x^2 \\equiv 150 (\\mod 1009)$ is solvable or not."
   ]
  },
  {
   "cell_type": "code",
   "execution_count": 195,
   "metadata": {},
   "outputs": [],
   "source": [
    "assert (139 ** 2) % 1009 == 150\n",
    "assert legendre(150, 1009) == 1"
   ]
  },
  {
   "cell_type": "markdown",
   "metadata": {},
   "source": [
    "139 is a solution, so it must be solvable.\n",
    "\n",
    "Additionally, 150 is a quadratic residue of 1009, so it solvable."
   ]
  },
  {
   "cell_type": "markdown",
   "metadata": {},
   "source": [
    "#### 7. Find all primes $p$ such that $x^2 \\equiv 13 (\\mod p)$ has a solution."
   ]
  },
  {
   "cell_type": "markdown",
   "metadata": {},
   "source": [
    "#### 10. Of which primes is $-2$ a quadratic residue? "
   ]
  },
  {
   "cell_type": "markdown",
   "metadata": {},
   "source": [
    "$(\\frac{-2}{p})$"
   ]
  }
 ],
 "metadata": {
  "kernelspec": {
   "display_name": "Python 3",
   "language": "python",
   "name": "python3"
  },
  "language_info": {
   "codemirror_mode": {
    "name": "ipython",
    "version": 3
   },
   "file_extension": ".py",
   "mimetype": "text/x-python",
   "name": "python",
   "nbconvert_exporter": "python",
   "pygments_lexer": "ipython3",
   "version": "3.8.2"
  }
 },
 "nbformat": 4,
 "nbformat_minor": 4
}
