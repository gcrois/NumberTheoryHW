{
 "cells": [
  {
   "cell_type": "markdown",
   "metadata": {},
   "source": [
    "## Gregory Croisdale, HW2\n",
    "### 8/31/2020\n",
    "### University of Tennessee\n",
    "\n",
    "### Problems 9, 10, 11, 26, 27, 32, 42, and 47."
   ]
  },
  {
   "cell_type": "markdown",
   "metadata": {},
   "source": [
    "#### 9. Prove that any prime of the from $3k + 1$ is of the form $6k + 1$."
   ]
  },
  {
   "cell_type": "markdown",
   "metadata": {},
   "source": [
    "To say that $3k + 1$ is of the form $6k + 1$ is the same as saying that $3k + 1 = 3(2 \\cdot j) + 1$; i.e, $k$ is an even number.\n",
    "\n",
    "Let us prove this by contradiction (assuming k is odd). Assume $\\exists j \\in \\mathbb{Z}: 3(2j + 1) + 1$ is prime.\n",
    "\n",
    "This can be rewritten as $6j + 4$. However, it can be plainly seen that $2 | (6j + 4)$ and $(6j + 4) \\ne 2$ $\\forall j \\in \\mathbb{Z}$. $6j + 4$ cannot be prime.\n",
    "\n",
    "Therefore, our original assumption is false. $k$ must be even."
   ]
  },
  {
   "cell_type": "markdown",
   "metadata": {},
   "source": [
    "#### 10. Prove that any positive integer of the form $3k+2$ has a prime factor of the same form; similarly for each of the forms $4k+3$ and $6k+5$."
   ]
  },
  {
   "cell_type": "markdown",
   "metadata": {},
   "source": [
    "$3k+2$:\n",
    "\n",
    "Let us assume that $3k+2$ does not have a prime factor of the same form. We know that it must have at least one prime factor by the fundamental theory of arithmetic. Let's call it $p$. $p$ must take the form of either $p = 3a$ or $p =3a + 1$.\n",
    "\n",
    "Case I: $p = 3a \\Rightarrow p = 3$ (as 3 is the only prime in that form). However, we know that $3 \\nmid 3k+2$, so $p \\neq 3$. \n",
    "\n",
    "Case II: $p = 3a+1$. Keep in mind that we know that none of the prime factors are of the form $3k$ and we are assuming that none are of the form $3k + 2$.\n",
    "<br>\n",
    "$\\Rightarrow \\exists b \\in \\mathbb{Z}: (3b + 1) \\cdot (3a+1) | 3k + 2$.\n",
    "<br>\n",
    "However, $(3b + 1) \\cdot (3a+1) = 9ab + 3a + 3b + 1 = 1 \\mod 3$. Because $3k + 2 = 2 \\mod 3$, $(3b + 1) \\cdot (3a+1) \\nmid 3k+2$. \n",
    "\n",
    "Therefore, $p$ must be of the form $3k + 2$.\n",
    "\n",
    "<hr>\n",
    "\n",
    "$4k+3$:\n",
    "\n",
    "As a consequence of the division algorithm, we know that all integers must take the form of either $4k, 4k+1, 4k+2,$ or $4k+3$. Let's prove the existence of prove a prime factor of the form $4k+3$ by assuming that such a factor does not exist.\n",
    "\n",
    "Case I: $4k | 4k+3$. This can be instantly dismissed, as $4k$ is even and $4k+3$ is not.<br><br>\n",
    "Case II: $4k + 2 | 4k+3$. Likewise, we can dismiss this case, as $4k+2$ is even and $4k+3$ is not.<br><br>\n",
    "Case III: $4k+1 | 4k+3$. Because of the eliminations we made in Cases I and II, we can conclude that all prime factors are of the form $4k + 1$. $(4k_1+1)(4k_2+1)=4(4k_1k_2+k_1+k_2)$ which is another number of the same form. Therefore, we cannot possibly obtain a number of the form $4k+3$.\n",
    "\n",
    "Because none of these possibilities fulfill our requirements, we can conclude that a number that fulfils the form $4k+3$ has a prime factor of the same form.\n",
    "<hr>\n",
    "$6k+5$\n",
    "As a consequence of the division algorithm, we know that all integers must take the form of either $6k, 6k+1, 6k+2, 6k+3, 6k+4,$ or $6k+5$. Let's prove the existence of prove a prime factor of the form $6k+5$ by assuming that such a factor does not exist.\n",
    "\n",
    "Case I:\n",
    "$6k|6k+5$. This can be instantly dismissed, as $6k$ is even, but $6k+5$ is not.\n",
    "<br><br>\n",
    "Case II:\n",
    "$6k+2|6k+5$ This can be instantly dismissed, as $6k+2$ is even, but $6k+5$ is not.\n",
    "<br><br>\n",
    "Case III:\n",
    "$6k+3|6k+5$.\n",
    "<br><br>\n",
    "Case IV:\n",
    "$6k+4|6k+5$. This can be instantly dismissed, as $6k+4$ is even, but $6k+5$ is not.\n",
    "<br><br>\n",
    "Case II:\n",
    "$6k+1$\n",
    "<br><br>"
   ]
  },
  {
   "cell_type": "markdown",
   "metadata": {},
   "source": [
    "#### 11. If $x$ and $y$ are odd, prove that $x^2+y^2$ cannot be a perfect square."
   ]
  },
  {
   "cell_type": "markdown",
   "metadata": {},
   "source": [
    "Let $x = (2k + 1)$ and let $y = (2j + 1)$ where $k, j\\in \\mathbb{Z}$.\n",
    "\n",
    "$\\Rightarrow x^2 + y^2 = (2k+1)^2+(2j+1)^2 = 4k^2+4k+4j^2+4j+2 = 2(2k^2+2k+2j^2+2j+1)$.\n",
    "\n",
    "Let us assume that $a^2$ = $2(2k^2+2k+2j^2+2j+1)$.\n",
    "\n",
    "This implies that $a = \\pm\\sqrt{2}\\sqrt{2k^2+2k+2j^2+2j+1}$.\n",
    "\n",
    "Because $2k^2+2k+2j^2+2j+1$ is of the form $2 \\cdot n + 1$, it must be odd.\n",
    "\n",
    "Therefore, $2\\nmid2k^2+2k+2j^2+2j+1 \\Rightarrow \\sqrt{2}\\nmid\\sqrt{2k^2+2k+2j^2+2j+1}$.\n",
    "\n",
    "The only way to turn $\\sqrt{2}$ into an integer is to multiply it by itself. However, we have just proved that the expression cannot product another $\\sqrt{2}$. This means that $\\sqrt2|a\\Rightarrow a \\not\\in\\mathbb{Z}$.\n",
    "\n",
    "Therefore, $x^2 + y^2$ cannot be a perfect square."
   ]
  },
  {
   "cell_type": "markdown",
   "metadata": {},
   "source": [
    "#### 26. Prove that there are infinitely many primes of the form $4n+3$; of the form $6n+5$."
   ]
  },
  {
   "cell_type": "markdown",
   "metadata": {},
   "source": [
    "Solution:"
   ]
  },
  {
   "cell_type": "markdown",
   "metadata": {},
   "source": [
    "#### 27. Prove that any $n|(n-1)!$ for all composite $n > 4$."
   ]
  },
  {
   "cell_type": "markdown",
   "metadata": {},
   "source": [
    "$n|(n-1)! \\Rightarrow \\exists k \\in \\mathbb{Z}: kn = (n-1)!$."
   ]
  },
  {
   "cell_type": "markdown",
   "metadata": {},
   "source": [
    "#### 32. Show that $n^4 + 4$ is composite for all $n > 1$."
   ]
  },
  {
   "cell_type": "markdown",
   "metadata": {},
   "source": [
    "$n^4+4=(n^2-2n+2)(n^2+2n+2)$. If we let $a = (n^2-2n+2)$ and $b = (n^2+2n+2)$, we see that $n^4+4=ab$ and $a, b \\in \\mathbb{Z}$."
   ]
  },
  {
   "cell_type": "markdown",
   "metadata": {},
   "source": [
    "#### 42. If $2^n+1$ is an odd prime for some integer $n$, prove that $n$ is a power of 2."
   ]
  },
  {
   "cell_type": "markdown",
   "metadata": {},
   "source": [
    "Solution:"
   ]
  },
  {
   "cell_type": "markdown",
   "metadata": {},
   "source": [
    "#### 47. Prove that $2 + \\sqrt{-6}$ and $2 - \\sqrt{-6}$ are primes in the class $C$ of numbers $a + b\\sqrt{-6}$"
   ]
  },
  {
   "cell_type": "markdown",
   "metadata": {},
   "source": [
    "Solution:"
   ]
  }
 ],
 "metadata": {
  "kernelspec": {
   "display_name": "Python 3",
   "language": "python",
   "name": "python3"
  },
  "language_info": {
   "codemirror_mode": {
    "name": "ipython",
    "version": 3
   },
   "file_extension": ".py",
   "mimetype": "text/x-python",
   "name": "python",
   "nbconvert_exporter": "python",
   "pygments_lexer": "ipython3",
   "version": "3.8.2"
  }
 },
 "nbformat": 4,
 "nbformat_minor": 4
}
