{
 "cells": [
  {
   "cell_type": "markdown",
   "metadata": {},
   "source": [
    "## 2.10\n",
    "\n",
    "#### 2) Let $G$ have as elements the four pairs $(1,1),(1,-1),(-1,1),(-1,-1)$, and let $(a,b)\\oplus(c,d)=(ac,bd)$. Prove that $G$ is a group."
   ]
  },
  {
   "cell_type": "markdown",
   "metadata": {},
   "source": [
    "## 2.1\n",
    "\n",
    "#### 23) Prove that $n^{13} - n$ is divisble by $2,3,5,7$ and $13$ for any integer $n$.\n",
    "\n"
   ]
  },
  {
   "cell_type": "markdown",
   "metadata": {},
   "source": [
    "Example:\n",
    "\n",
    "Show that $x^{19}-x$ is divisible by $7$.\n",
    "\n",
    "We'll work in the group $\\frac{\\mathbb{Z}}{7\\mathbb{Z}}$.\n",
    "\n",
    "First, if $[x]=[0]$, then $[x^2-x]=[0]^2-[0]=[0]$, so $x$ is divisible by $7$.\n",
    "\n",
    "Let $[x] \\neq [0]$. Then $[x] \\in (\\frac{\\mathbb{Z}}{7\\mathbb{Z}})^*$ whose order is $7-1=6$. Therefore $[x]^6=[1]$.\n",
    "\n",
    "Since $x^{19}-x=x(x^{18}-1)$, it's sufficient to show that $7|x^{18}-1$, or equivalently, $[x]^{18}=[1]$\n",
    "\n",
    "But $[x]^{18}=[x^3]^6=[1]$."
   ]
  },
  {
   "cell_type": "markdown",
   "metadata": {},
   "source": [
    "Example:\n",
    "\n",
    "Show that $(\\frac{\\mathbb{Z}}{10\\mathbb{Z}})^*$ is ismorphic to $(\\frac{\\mathbb{Z}}{5\\mathbb{Z}})^*$."
   ]
  },
  {
   "cell_type": "code",
   "execution_count": 3,
   "metadata": {},
   "outputs": [],
   "source": [
    "## Euclidean Algorithm\n",
    "def euclid(a, b):\n",
    "    \"\"\"Finds the gcd between two numbers\"\"\"\n",
    "    a, b = sorted((a, b))\n",
    "    \n",
    "    # y = coeff(x) + rem\n",
    "    # repeat until remainder is 0\n",
    "    rem = -1\n",
    "    coeff = 0\n",
    "    \n",
    "    while(rem != 0):\n",
    "        coeff = a // b\n",
    "        rem =   a - coeff * b\n",
    "        a = b\n",
    "        b = rem\n",
    "    return a"
   ]
  },
  {
   "cell_type": "code",
   "execution_count": 6,
   "metadata": {},
   "outputs": [
    {
     "data": {
      "text/plain": [
       "([[1, 2, 3, 4], [2, 4, 1, 3], [3, 1, 4, 2], [4, 3, 2, 1]], [1, 2, 3, 4])"
      ]
     },
     "execution_count": 6,
     "metadata": {},
     "output_type": "execute_result"
    }
   ],
   "source": [
    "def mod_group(n):\n",
    "    \"\"\"Creates group (Z/nZ)*\"\"\"\n",
    "    # generate a list of coprimes < n\n",
    "    coprime = [i for i in range(1,n) if euclid(i, n) == 1]\n",
    "    out = []\n",
    "    for i in coprime:\n",
    "        row = []\n",
    "        for j in coprime:\n",
    "            row += [(i * j) % n]\n",
    "        out += [row]\n",
    "    return out, coprime\n",
    "\n",
    "mod_group(5)"
   ]
  },
  {
   "cell_type": "code",
   "execution_count": 43,
   "metadata": {},
   "outputs": [],
   "source": [
    "class Group:\n",
    "    def __init__(self, data, labels):\n",
    "        assert len(labels) == len(data)\n",
    "        \n",
    "        self.data = data\n",
    "        self.labels = labels\n",
    "        \n",
    "    def __repr__(self):\n",
    "        out = \"\"\n",
    "        # first row labels\n",
    "        for i in [\" \"] + self.labels:\n",
    "            out += \"{:3}\".format(i)\n",
    "        \n",
    "        for i in range(len(self.data)):\n",
    "            out += \"\\n\\n{:3}\".format(self.labels[i])\n",
    "            for j in self.data[i]:\n",
    "                out += \"{:3}\".format(j)\n",
    "            \n",
    "        return out\n",
    "    \n",
    "    def __eq__(self, other):\n",
    "        if set(self.labels) != set(other.labels):\n",
    "            return False\n",
    "        \n",
    "        # generate translation tables\n",
    "        o_trans = {}\n",
    "        for i in other.labels:\n",
    "            o_trans[i] = other.labels.index(i)\n",
    "        \n",
    "        # compare translated values\n",
    "        for i in range(len(self.data)):\n",
    "            for j in range(len(self.data[i])):\n",
    "                if self.data[i][j] != other.data[o_trans[self.labels[i]]][o_trans[self.labels[j]]]:\n",
    "                    return False\n",
    "        return True\n",
    "    \n",
    "    def __ne__(self, other):\n",
    "        return not self == other\n",
    "    \n",
    "    def apply_bijection(self, bijection):\n",
    "        for i in range(len(self.data)):\n",
    "            for j in range(len(self.data[i])):\n",
    "                self.data[i][j] = bijection[self.data[i][j]]\n",
    "        for i in range(len(self.labels)):\n",
    "            self.labels[i] = bijection[self.labels[i]]\n",
    "    "
   ]
  },
  {
   "cell_type": "code",
   "execution_count": 30,
   "metadata": {
    "scrolled": true
   },
   "outputs": [
    {
     "data": {
      "text/plain": [
       "[{1: 1, 2: 2, 3: 3, 4: 4},\n",
       " {1: 1, 2: 2, 3: 4, 4: 3},\n",
       " {1: 1, 2: 3, 3: 2, 4: 4},\n",
       " {1: 1, 2: 3, 3: 4, 4: 2},\n",
       " {1: 1, 2: 4, 3: 2, 4: 3},\n",
       " {1: 1, 2: 4, 3: 3, 4: 2},\n",
       " {1: 2, 2: 1, 3: 3, 4: 4},\n",
       " {1: 2, 2: 1, 3: 4, 4: 3},\n",
       " {1: 2, 2: 3, 3: 1, 4: 4},\n",
       " {1: 2, 2: 3, 3: 4, 4: 1},\n",
       " {1: 2, 2: 4, 3: 1, 4: 3},\n",
       " {1: 2, 2: 4, 3: 3, 4: 1},\n",
       " {1: 3, 2: 1, 3: 2, 4: 4},\n",
       " {1: 3, 2: 1, 3: 4, 4: 2},\n",
       " {1: 3, 2: 2, 3: 1, 4: 4},\n",
       " {1: 3, 2: 2, 3: 4, 4: 1},\n",
       " {1: 3, 2: 4, 3: 1, 4: 2},\n",
       " {1: 3, 2: 4, 3: 2, 4: 1},\n",
       " {1: 4, 2: 1, 3: 2, 4: 3},\n",
       " {1: 4, 2: 1, 3: 3, 4: 2},\n",
       " {1: 4, 2: 2, 3: 1, 4: 3},\n",
       " {1: 4, 2: 2, 3: 3, 4: 1},\n",
       " {1: 4, 2: 3, 3: 1, 4: 2},\n",
       " {1: 4, 2: 3, 3: 2, 4: 1}]"
      ]
     },
     "execution_count": 30,
     "metadata": {},
     "output_type": "execute_result"
    }
   ],
   "source": [
    "from itertools import permutations\n",
    "\n",
    "# Generates possible bijections between two sets of group elements\n",
    "def gen_biject(s_1: list, s_2: list) -> list:\n",
    "    # make sure we have compatable inputs\n",
    "    assert len(s_1) == len(s_2)\n",
    "    \n",
    "    # initialize output and generate permutations\n",
    "    out = []\n",
    "    possible = [i for i in permutations(s_1)]\n",
    "    \n",
    "    # make dictionaries from the permutations\n",
    "    for i in range(len(possible)):\n",
    "        translate = dict()\n",
    "        for j in range(len(possible[i])):\n",
    "            translate[s_2[j]] = possible[i][j]\n",
    "        out += [translate]\n",
    "    \n",
    "    # return list of bijection permutations\n",
    "    return out\n",
    "gen_biject([1,2,3,4], [1,2,3,4])"
   ]
  },
  {
   "cell_type": "code",
   "execution_count": 47,
   "metadata": {},
   "outputs": [
    {
     "name": "stdout",
     "output_type": "stream",
     "text": [
      "{1: 1, 3: 2, 7: 3, 9: 4}\n"
     ]
    }
   ],
   "source": [
    "from copy import deepcopy\n",
    "\n",
    "Z_5 = Group(*mod_group(5))\n",
    "Z_10 = Group(*mod_group(10))\n",
    "\n",
    "for i in gen_biject(Z_5.labels, Z_10.labels):\n",
    "    tmp = deepcopy(Z_10)\n",
    "    tmp.apply_bijection(i)\n",
    "    if (tmp == Z_5):\n",
    "        print(i)\n",
    "        break"
   ]
  }
 ],
 "metadata": {
  "kernelspec": {
   "display_name": "Python 3",
   "language": "python",
   "name": "python3"
  },
  "language_info": {
   "codemirror_mode": {
    "name": "ipython",
    "version": 3
   },
   "file_extension": ".py",
   "mimetype": "text/x-python",
   "name": "python",
   "nbconvert_exporter": "python",
   "pygments_lexer": "ipython3",
   "version": "3.8.2"
  }
 },
 "nbformat": 4,
 "nbformat_minor": 4
}
