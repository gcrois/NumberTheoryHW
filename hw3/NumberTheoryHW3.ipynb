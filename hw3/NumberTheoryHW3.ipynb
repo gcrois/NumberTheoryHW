{
 "cells": [
  {
   "cell_type": "code",
   "execution_count": 53,
   "metadata": {},
   "outputs": [
    {
     "name": "stdout",
     "output_type": "stream",
     "text": [
      "    |  0 |  1 |  2 |  3 |\n",
      "-------------------------\n",
      "  0 |  0 |  1 |  2 |  3 |\n",
      "-------------------------\n",
      "  1 |  1 |  2 |  3 |  0 |\n",
      "-------------------------\n",
      "  2 |  2 |  3 |  0 |  1 |\n",
      "-------------------------\n",
      "  3 |  3 |  0 |  1 |  2 |\n",
      "-------------------------\n",
      "    |  0 |  1 |\n",
      "---------------\n",
      "  0 |  0 |  1 |\n",
      "---------------\n",
      "  1 |  1 |  0 |\n",
      "---------------\n",
      "id element found: 0\n",
      "Associative           ✓\n",
      "Closed under operator ✓\n",
      "Identity element      ✓\n",
      "Inversions exist      ✓\n",
      "Is group              ✓\n",
      "True\n"
     ]
    },
    {
     "ename": "TypeError",
     "evalue": "unsupported format string passed to tuple.__format__",
     "output_type": "error",
     "traceback": [
      "\u001b[0;31m---------------------------------------------------------------------------\u001b[0m",
      "\u001b[0;31mTypeError\u001b[0m                                 Traceback (most recent call last)",
      "\u001b[0;32m<ipython-input-53-3fa5463194e1>\u001b[0m in \u001b[0;36m<module>\u001b[0;34m\u001b[0m\n\u001b[1;32m    119\u001b[0m \u001b[0mprint\u001b[0m\u001b[0;34m(\u001b[0m\u001b[0mb\u001b[0m\u001b[0;34m)\u001b[0m\u001b[0;34m\u001b[0m\u001b[0;34m\u001b[0m\u001b[0m\n\u001b[1;32m    120\u001b[0m \u001b[0mprint\u001b[0m\u001b[0;34m(\u001b[0m\u001b[0ma\u001b[0m\u001b[0;34m.\u001b[0m\u001b[0mverify\u001b[0m\u001b[0;34m(\u001b[0m\u001b[0;34m)\u001b[0m\u001b[0;34m)\u001b[0m\u001b[0;34m\u001b[0m\u001b[0;34m\u001b[0m\u001b[0m\n\u001b[0;32m--> 121\u001b[0;31m \u001b[0mprint\u001b[0m\u001b[0;34m(\u001b[0m\u001b[0;34m\"{:3}\"\u001b[0m\u001b[0;34m.\u001b[0m\u001b[0mformat\u001b[0m\u001b[0;34m(\u001b[0m\u001b[0;34m(\u001b[0m\u001b[0;36m1\u001b[0m\u001b[0;34m,\u001b[0m\u001b[0;36m2\u001b[0m\u001b[0;34m)\u001b[0m\u001b[0;34m)\u001b[0m\u001b[0;34m)\u001b[0m\u001b[0;34m\u001b[0m\u001b[0;34m\u001b[0m\u001b[0m\n\u001b[0m",
      "\u001b[0;31mTypeError\u001b[0m: unsupported format string passed to tuple.__format__"
     ]
    }
   ],
   "source": [
    "class Group:\n",
    "    def __init__(self, elm, data = {}, op = print):\n",
    "        self.data = {}\n",
    "        self.elm = set(elm)\n",
    "        self.id = None\n",
    "        \n",
    "        # Verify we have some input to go off of\n",
    "        if len(data) != len(elm):\n",
    "            if op == print:\n",
    "                raise Exception(\"Neither data nor func are well-defined\")\n",
    "            # function was passed in\n",
    "            else:\n",
    "                # make table from func\n",
    "                for i in elm:\n",
    "                    self.data[i] = {}\n",
    "                    for j in elm: \n",
    "                        self.data[i][j] = op(i, j)\n",
    "        else:\n",
    "            # data was passed in\n",
    "            # check that we have appropriate parameters\n",
    "            for i in elm:\n",
    "                # check that key exists\n",
    "                if i not in data:\n",
    "                    raise Exception(\"missing key \" + str(i))\n",
    "                # check that subkey exists\n",
    "                for j in data:\n",
    "                    if i not in data[j]:\n",
    "                        raise Exception(\"missing key \" + str(j) + \" from \" + str(i))\n",
    "            # we're good to go! save data\n",
    "            self.data = data\n",
    "    \n",
    "    def __repr__(self):\n",
    "        # sort our elements to be fancy (and stable)\n",
    "        elm = sorted(list(self.elm))\n",
    "        out = \"    |\"\n",
    "        # first row labels\n",
    "        for i in list(self.elm):\n",
    "            out += \"{:3}{:>2}\".format(i, \"|\")\n",
    "        out += \"\\n\" + \"-\" * (len(elm) + 1) * 5\n",
    "        \n",
    "        for i in elm:\n",
    "            # print row header\n",
    "            out += \"\\n{:3}{:>2}\".format(i, \"|\")\n",
    "            # print elements\n",
    "            for j in self.data[i]:\n",
    "                out += \"{:3}{:>2}\".format(self.data[i][j], \"|\")\n",
    "            out += \"\\n\" + \"-\" * (len(elm) + 1) * 5\n",
    "        return out\n",
    "    \n",
    "    def verify(self, verbose=True):\n",
    "        # find identity element, check closure, verify associativity\n",
    "        for i in self.elm:\n",
    "            # determine if elegible for id elmnt\n",
    "            id_cand = False\n",
    "            if self.data[i][i] == i:\n",
    "                id_cand = True\n",
    "            \n",
    "            for j in self.elm:\n",
    "                # if id check, make sure that id is returned\n",
    "                # otherwise, just check closure\n",
    "                if id_cand:\n",
    "                    if self.data[i][j] != j:\n",
    "                        print(str(i) + \" + \" + str(j) + \" != \" + str(j))\n",
    "                        return False\n",
    "                else:\n",
    "                    if self.data[i][j] not in self.elm:\n",
    "                        return False\n",
    "                \n",
    "                # verify associativity\n",
    "                if self.data[i][j] != self.data[j][i]:\n",
    "                    print(i + \" + \" + j + \" != \" + j + \" + \" + i)\n",
    "                    return False\n",
    "                \n",
    "            # check id\n",
    "            if id_cand:\n",
    "                if verbose: print(\"id element found: \" + str(i))\n",
    "                self.id = i\n",
    "                id_cand = False\n",
    "                \n",
    "        if verbose:\n",
    "            print(\"Associative           ✓\")\n",
    "            print(\"Closed under operator ✓\")\n",
    "\n",
    "        # check that an ID element was found\n",
    "        if self.id == None:\n",
    "            print(\"No identity element found!\")\n",
    "            return False\n",
    "        else:\n",
    "            print(\"Identity element      ✓\")\n",
    "\n",
    "        \n",
    "        # Check for inversions\n",
    "        for i in self.elm:\n",
    "            found = False\n",
    "            for j in self.elm:\n",
    "                if self.data[i][j] == self.id:\n",
    "                    found = True\n",
    "            if not found:\n",
    "                print(str(i) + \" has no inversion!\")\n",
    "                return False\n",
    "        \n",
    "        # We've checked everything!\n",
    "        if verbose:\n",
    "            print(\"Inversions exist      ✓\")\n",
    "            print(\"Is group              ✓\")\n",
    "        return True\n",
    "\n",
    "def add4(a, b):\n",
    "    return (a + b) % 4\n",
    "\n",
    "b_contents = {\n",
    "    0: {0: 0, 1: 1},\n",
    "    1: {0: 1, 1: 0},\n",
    "}\n",
    "\n",
    "a = Group([0,1,2,3], op=add4)\n",
    "b = Group([0,1], b_contents)\n",
    "print(a)\n",
    "print(b)\n",
    "print(a.verify())\n",
    "print(\"{:3}\".format((1,2)))"
   ]
  },
  {
   "cell_type": "code",
   "execution_count": 60,
   "metadata": {},
   "outputs": [],
   "source": [
    "def GroupTest(Group_1):\n",
    "    print(\"Test for Closure:\")\n",
    "    # Now, let's test for closure\n",
    "    for i in Group_1:\n",
    "        for j in Group_1:\n",
    "            print(\"{} + {} = {}\".format(i, j, i + j))\n",
    "            if i + j not in Group_1:\n",
    "                print(i + j + \" is not in the group!\")\n",
    "                return False\n",
    "\n",
    "    print(\"=\"*40)\n",
    "\n",
    "    # Now we need to find an identity element\n",
    "    identity = -1\n",
    "    for i in Group_1:\n",
    "        if i + i == i:\n",
    "            for j in Group_1:\n",
    "                if i + j != j:\n",
    "                    return False\n",
    "            print(str(i) + \" is the identity!\")\n",
    "            identity = i\n",
    "            break\n",
    "\n",
    "    print(\"=\"*40)\n",
    "\n",
    "    print(\"Inversion test:\")\n",
    "    # Check for inverses\n",
    "    for i in Group_1:\n",
    "        found = False\n",
    "        for j in Group_1:\n",
    "            if i + j == identity:\n",
    "                found = True\n",
    "                print(str(i) + \" + \" + str(j) + \" = \" + str(i + j))\n",
    "                break\n",
    "\n",
    "        if not found:\n",
    "            print(str(i) + \" does not have an inverse.\")\n",
    "            break\n",
    "\n",
    "    print(\"=\"*40)\n",
    "\n",
    "    print(\"Associativity test:\")\n",
    "    # Test for associativity\n",
    "    for i in Group_1:\n",
    "        for j in Group_1:\n",
    "            if i + j != j + i:\n",
    "                print(str(i) + \" + \" + str(j) + \" != \" + str(i) + \" + \" + str(j))\n",
    "                return False\n",
    "    print(\"Operator is associative\")\n",
    "\n",
    "    print(\"=\"*40)\n",
    "\n",
    "    # Once we are here, we know that we have a group!\n",
    "    print(str(Group_1) + \" is a group!\")\n",
    "    return True"
   ]
  },
  {
   "cell_type": "markdown",
   "metadata": {},
   "source": [
    "## 2.10\n",
    "\n",
    "#### 2) Let $G$ have as elements the four pairs $(1,1),(1,-1),(-1,1),(-1,-1)$, and let $(a,b)\\oplus(c,d)=(ac,bd)$. Prove that $G$ is a group."
   ]
  },
  {
   "cell_type": "code",
   "execution_count": 63,
   "metadata": {},
   "outputs": [
    {
     "name": "stdout",
     "output_type": "stream",
     "text": [
      "Test for Closure:\n",
      "(1, 1) + (1, 1) = (1, 1)\n",
      "(1, 1) + (1, -1) = (1, -1)\n",
      "(1, 1) + (-1, 1) = (-1, 1)\n",
      "(1, 1) + (-1, -1) = (-1, -1)\n",
      "(1, -1) + (1, 1) = (1, -1)\n",
      "(1, -1) + (1, -1) = (1, 1)\n",
      "(1, -1) + (-1, 1) = (-1, -1)\n",
      "(1, -1) + (-1, -1) = (-1, 1)\n",
      "(-1, 1) + (1, 1) = (-1, 1)\n",
      "(-1, 1) + (1, -1) = (-1, -1)\n",
      "(-1, 1) + (-1, 1) = (1, 1)\n",
      "(-1, 1) + (-1, -1) = (1, -1)\n",
      "(-1, -1) + (1, 1) = (-1, -1)\n",
      "(-1, -1) + (1, -1) = (-1, 1)\n",
      "(-1, -1) + (-1, 1) = (1, -1)\n",
      "(-1, -1) + (-1, -1) = (1, 1)\n",
      "========================================\n",
      "(1, 1) is the identity!\n",
      "========================================\n",
      "Inversion test:\n",
      "(1, 1) + (1, 1) = (1, 1)\n",
      "(1, -1) + (1, -1) = (1, 1)\n",
      "(-1, 1) + (-1, 1) = (1, 1)\n",
      "(-1, -1) + (-1, -1) = (1, 1)\n",
      "========================================\n",
      "Associativity test:\n",
      "Operator is associative\n",
      "========================================\n",
      "[(1, 1), (1, -1), (-1, 1), (-1, -1)] is a group!\n"
     ]
    },
    {
     "data": {
      "text/plain": [
       "True"
      ]
     },
     "execution_count": 63,
     "metadata": {},
     "output_type": "execute_result"
    }
   ],
   "source": [
    "# First, we need to define our binary operator\n",
    "class g_1:\n",
    "    def __init__(self, tup):\n",
    "        if len(tup) != 2:\n",
    "            raise TypeError\n",
    "        self.tup = tup\n",
    "        \n",
    "    def __add__(self, other):\n",
    "        return g_1((self.tup[0] * other.tup[0], self.tup[1] * other.tup[1]))\n",
    "    \n",
    "    def __repr__(self):\n",
    "        return str(self.tup)\n",
    "    \n",
    "    def __eq__(self, other):\n",
    "        return self.tup == other.tup\n",
    "    \n",
    "    def __ne__(self, other):\n",
    "        return not self.__eq__(other)\n",
    "    \n",
    "Group_1 = [\n",
    "    g_1((1,  1)),\n",
    "    g_1((1, -1)),\n",
    "    g_1((-1, 1)),\n",
    "    g_1((-1,-1))\n",
    "]\n",
    "\n",
    "GroupTest(Group_1)"
   ]
  },
  {
   "cell_type": "markdown",
   "metadata": {},
   "source": [
    "#### 4) Prove that the set of elements $e, a, b, c$ with the following table for the binary operation is a group. Prove that this group is isomorphic to the additive group modulo 4."
   ]
  },
  {
   "cell_type": "code",
   "execution_count": null,
   "metadata": {},
   "outputs": [],
   "source": [
    "# First, we need to define our binary operator\n",
    "class g_1:\n",
    "    def __init__(self, tup):\n",
    "        if len(tup) != 2:\n",
    "            raise TypeError\n",
    "        self.tup = tup\n",
    "        \n",
    "    def __add__(self, other):\n",
    "        return g_1((self.tup[0] * other.tup[0], self.tup[1] * other.tup[1]))\n",
    "    \n",
    "    def __repr__(self):\n",
    "        return str(self.tup)\n",
    "    \n",
    "    def __eq__(self, other):\n",
    "        return self.tup == other.tup\n",
    "    \n",
    "    def __ne__(self, other):\n",
    "        return not self.__eq__(other)"
   ]
  },
  {
   "cell_type": "markdown",
   "metadata": {},
   "source": [
    "#### 5)"
   ]
  },
  {
   "cell_type": "code",
   "execution_count": null,
   "metadata": {},
   "outputs": [],
   "source": []
  },
  {
   "cell_type": "markdown",
   "metadata": {},
   "source": [
    "#### 6)"
   ]
  },
  {
   "cell_type": "code",
   "execution_count": null,
   "metadata": {},
   "outputs": [],
   "source": []
  },
  {
   "cell_type": "markdown",
   "metadata": {},
   "source": [
    "## 2.1\n",
    "\n",
    "#### 23) Prove that $n^{13} - n$ is divisble by $2,3,5,7$ and $13$ for any integer $n$.\n",
    "\n"
   ]
  },
  {
   "cell_type": "markdown",
   "metadata": {},
   "source": [
    "Example:\n",
    "\n",
    "Show that $x^{19}-x$ is divisible by $7$.\n",
    "\n",
    "We'll work in the group $\\frac{\\mathbb{Z}}{7\\mathbb{Z}}$.\n",
    "\n",
    "First, if $[x]=[0]$, then $[x^2-x]=[0]^2-[0]=[0]$, so $x$ is divisible by $7$.\n",
    "\n",
    "Let $[x] \\neq [0]$. Then $[x] \\in (\\frac{\\mathbb{Z}}{7\\mathbb{Z}})^*$ whose order is $7-1=6$. Therefore $[x]^6=[1]$.\n",
    "\n",
    "Since $x^{19}-x=x(x^{18}-1)$, it's sufficient to show that $7|x^{18}-1$, or equivalently, $[x]^{18}=[1]$\n",
    "\n",
    "But $[x]^{18}=[x^3]^6=[1]$."
   ]
  },
  {
   "cell_type": "markdown",
   "metadata": {},
   "source": [
    "Example:\n",
    "\n",
    "Show that $(\\frac{\\mathbb{Z}}{10\\mathbb{Z}})^*$ is ismorphic to $(\\frac{\\mathbb{Z}}{5\\mathbb{Z}})^*$."
   ]
  },
  {
   "cell_type": "code",
   "execution_count": 1,
   "metadata": {},
   "outputs": [],
   "source": [
    "## Euclidean Algorithm\n",
    "def euclid(a, b):\n",
    "    \"\"\"Finds the gcd between two numbers\"\"\"\n",
    "    a, b = sorted((a, b))\n",
    "    \n",
    "    # y = coeff(x) + rem\n",
    "    # repeat until remainder is 0\n",
    "    rem = -1\n",
    "    coeff = 0\n",
    "    \n",
    "    while(rem != 0):\n",
    "        coeff = a // b\n",
    "        rem =   a - coeff * b\n",
    "        a = b\n",
    "        b = rem\n",
    "    return a"
   ]
  },
  {
   "cell_type": "code",
   "execution_count": 2,
   "metadata": {},
   "outputs": [
    {
     "data": {
      "text/plain": [
       "([[1, 2, 3, 4], [2, 4, 1, 3], [3, 1, 4, 2], [4, 3, 2, 1]], [1, 2, 3, 4])"
      ]
     },
     "execution_count": 2,
     "metadata": {},
     "output_type": "execute_result"
    }
   ],
   "source": [
    "def mod_group(n):\n",
    "    \"\"\"Creates group (Z/nZ)*\"\"\"\n",
    "    # generate a list of coprimes < n\n",
    "    coprime = [i for i in range(1,n) if euclid(i, n) == 1]\n",
    "    out = []\n",
    "    for i in coprime:\n",
    "        row = []\n",
    "        for j in coprime:\n",
    "            row += [(i * j) % n]\n",
    "        out += [row]\n",
    "    return out, coprime\n",
    "\n",
    "mod_group(5)"
   ]
  },
  {
   "cell_type": "code",
   "execution_count": 64,
   "metadata": {},
   "outputs": [
    {
     "ename": "SyntaxError",
     "evalue": "invalid syntax (<ipython-input-64-5a61b198e7a9>, line 2)",
     "output_type": "error",
     "traceback": [
      "\u001b[0;36m  File \u001b[0;32m\"<ipython-input-64-5a61b198e7a9>\"\u001b[0;36m, line \u001b[0;32m2\u001b[0m\n\u001b[0;31m    def __init__(self, labels, data = ):\u001b[0m\n\u001b[0m                                      ^\u001b[0m\n\u001b[0;31mSyntaxError\u001b[0m\u001b[0;31m:\u001b[0m invalid syntax\n"
     ]
    }
   ],
   "source": [
    "class _Group:\n",
    "    def __init__(self, labels, data = ):\n",
    "        assert len(labels) == len(data)\n",
    "        \n",
    "        self.data = data\n",
    "        self.labels = labels\n",
    "        \n",
    "    def __repr__(self):\n",
    "        out = \"\"\n",
    "        # first row labels\n",
    "        for i in [\" \"] + self.labels:\n",
    "            out += \"{:3}\".format(i)\n",
    "        \n",
    "        for i in range(len(self.data)):\n",
    "            out += \"\\n\\n{:3}\".format(self.labels[i])\n",
    "            for j in self.data[i]:\n",
    "                out += \"{:3}\".format(j)\n",
    "        return out\n",
    "    \n",
    "    def __eq__(self, other):\n",
    "        if set(self.labels) != set(other.labels):\n",
    "            return False\n",
    "        \n",
    "        # generate translation tables\n",
    "        o_trans = {}\n",
    "        for i in other.labels:\n",
    "            o_trans[i] = other.labels.index(i)\n",
    "        \n",
    "        # compare translated values\n",
    "        for i in range(len(self.data)):\n",
    "            for j in range(len(self.data[i])):\n",
    "                if self.data[i][j] != other.data[o_trans[self.labels[i]]][o_trans[self.labels[j]]]:\n",
    "                    return False\n",
    "        return True\n",
    "    \n",
    "    def __ne__(self, other):\n",
    "        return not self == other\n",
    "    \n",
    "    def apply_bijection(self, bijection):\n",
    "        for i in range(len(self.data)):\n",
    "            for j in range(len(self.data[i])):\n",
    "                self.data[i][j] = bijection[self.data[i][j]]\n",
    "        for i in range(len(self.labels)):\n",
    "            self.labels[i] = bijection[self.labels[i]]\n",
    "    "
   ]
  },
  {
   "cell_type": "code",
   "execution_count": 4,
   "metadata": {
    "scrolled": true
   },
   "outputs": [
    {
     "data": {
      "text/plain": [
       "[{1: 1, 2: 2, 3: 3, 4: 4},\n",
       " {1: 1, 2: 2, 3: 4, 4: 3},\n",
       " {1: 1, 2: 3, 3: 2, 4: 4},\n",
       " {1: 1, 2: 3, 3: 4, 4: 2},\n",
       " {1: 1, 2: 4, 3: 2, 4: 3},\n",
       " {1: 1, 2: 4, 3: 3, 4: 2},\n",
       " {1: 2, 2: 1, 3: 3, 4: 4},\n",
       " {1: 2, 2: 1, 3: 4, 4: 3},\n",
       " {1: 2, 2: 3, 3: 1, 4: 4},\n",
       " {1: 2, 2: 3, 3: 4, 4: 1},\n",
       " {1: 2, 2: 4, 3: 1, 4: 3},\n",
       " {1: 2, 2: 4, 3: 3, 4: 1},\n",
       " {1: 3, 2: 1, 3: 2, 4: 4},\n",
       " {1: 3, 2: 1, 3: 4, 4: 2},\n",
       " {1: 3, 2: 2, 3: 1, 4: 4},\n",
       " {1: 3, 2: 2, 3: 4, 4: 1},\n",
       " {1: 3, 2: 4, 3: 1, 4: 2},\n",
       " {1: 3, 2: 4, 3: 2, 4: 1},\n",
       " {1: 4, 2: 1, 3: 2, 4: 3},\n",
       " {1: 4, 2: 1, 3: 3, 4: 2},\n",
       " {1: 4, 2: 2, 3: 1, 4: 3},\n",
       " {1: 4, 2: 2, 3: 3, 4: 1},\n",
       " {1: 4, 2: 3, 3: 1, 4: 2},\n",
       " {1: 4, 2: 3, 3: 2, 4: 1}]"
      ]
     },
     "execution_count": 4,
     "metadata": {},
     "output_type": "execute_result"
    }
   ],
   "source": [
    "from itertools import permutations\n",
    "\n",
    "# Generates possible bijections between two sets of group elements\n",
    "def gen_biject(s_1: list, s_2: list) -> list:\n",
    "    # make sure we have compatable inputs\n",
    "    assert len(s_1) == len(s_2)\n",
    "    \n",
    "    # initialize output and generate permutations\n",
    "    out = []\n",
    "    possible = [i for i in permutations(s_1)]\n",
    "    \n",
    "    # make dictionaries from the permutations\n",
    "    for i in range(len(possible)):\n",
    "        translate = dict()\n",
    "        for j in range(len(possible[i])):\n",
    "            translate[s_2[j]] = possible[i][j]\n",
    "        out += [translate]\n",
    "    \n",
    "    # return list of bijection permutations\n",
    "    return out\n",
    "gen_biject([1,2,3,4], [1,2,3,4])"
   ]
  },
  {
   "cell_type": "code",
   "execution_count": 5,
   "metadata": {},
   "outputs": [
    {
     "name": "stdout",
     "output_type": "stream",
     "text": [
      "{0: 1, 1: 2, 2: 4, 3: 3}\n"
     ]
    }
   ],
   "source": [
    "from copy import deepcopy\n",
    "\n",
    "a = Group([[0,1,2,3],[1,2,3,0],[2,3,0,1],[3,0,1,2]],[0,1,2,3])\n",
    "Z_5 = Group(*mod_group(5))\n",
    "Z_10 = Group(*mod_group(10))\n",
    "\n",
    "\n",
    "for i in gen_biject(Z_5.labels, a.labels):\n",
    "    tmp = deepcopy(a)\n",
    "    tmp.apply_bijection(i)\n",
    "    if (tmp == Z_5):\n",
    "        print(i)\n",
    "        break"
   ]
  },
  {
   "cell_type": "code",
   "execution_count": 9,
   "metadata": {},
   "outputs": [
    {
     "name": "stdout",
     "output_type": "stream",
     "text": [
      "{1: 1, 2: 7, 3: 5, 4: 13, 5: 11, 6: 17}\n"
     ]
    }
   ],
   "source": [
    "abby = Group(*mod_group(18))\n",
    "Z_7 = Group(*mod_group(7))\n",
    "\n",
    "for i in gen_biject(abby.labels, Z_7.labels):\n",
    "    tmp = deepcopy(Z_7)\n",
    "    tmp.apply_bijection(i)\n",
    "    if (tmp == abby):\n",
    "        print(i)\n",
    "        break"
   ]
  }
 ],
 "metadata": {
  "kernelspec": {
   "display_name": "Python 3",
   "language": "python",
   "name": "python3"
  },
  "language_info": {
   "codemirror_mode": {
    "name": "ipython",
    "version": 3
   },
   "file_extension": ".py",
   "mimetype": "text/x-python",
   "name": "python",
   "nbconvert_exporter": "python",
   "pygments_lexer": "ipython3",
   "version": "3.8.2"
  }
 },
 "nbformat": 4,
 "nbformat_minor": 4
}
