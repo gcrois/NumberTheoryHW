{
 "cells": [
  {
   "cell_type": "markdown",
   "metadata": {},
   "source": [
    "## 2.10\n",
    "\n",
    "#### 2) Let $G$ have as elements the four pairs $(1,1),(1,-1),(-1,1),(-1,-1)$, and let $(a,b)\\oplus(c,d)=(ac,bd)$. Prove that $G$ is a group."
   ]
  },
  {
   "cell_type": "markdown",
   "metadata": {},
   "source": [
    "## 2.1\n",
    "\n",
    "#### 23) Prove that $n^{13} - n$ is divisble by $2,3,5,7$ and $13$ for any integer $n$.\n",
    "\n"
   ]
  },
  {
   "cell_type": "markdown",
   "metadata": {},
   "source": [
    "Example:\n",
    "\n",
    "Show that $x^{19}-x$ is divisible by $7$.\n",
    "\n",
    "We'll work in the group $\\frac{\\mathbb{Z}}{7\\mathbb{Z}}$.\n",
    "\n",
    "First, if $[x]=[0]$, then $[x^2-x]=[0]^2-[0]=[0]$, so $x$ is divisible by $7$.\n",
    "\n",
    "Let $[x] \\neq [0]$. Then $[x] \\in (\\frac{\\mathbb{Z}}{7\\mathbb{Z}})^*$ whose order is $7-1=6$. Therefore $[x]^6=[1]$.\n",
    "\n",
    "Since $x^{19}-x=x(x^{18}-1)$, it's sufficient to show that $7|x^{18}-1$, or equivalently, $[x]^{18}=[1]$\n",
    "\n",
    "But $[x]^{18}=[x^3]^6=[1]$."
   ]
  },
  {
   "cell_type": "markdown",
   "metadata": {},
   "source": [
    "Example:\n",
    "\n",
    "Show that $(\\frac{\\mathbb{Z}}{10\\mathbb{Z}})^*$ is ismorphic to $(\\frac{\\mathbb{Z}}{5\\mathbb{Z}})^*$."
   ]
  },
  {
   "cell_type": "code",
   "execution_count": 7,
   "metadata": {},
   "outputs": [
    {
     "data": {
      "text/plain": [
       "[{1: 0}, {2: 0}, {3: 0}, {4: 0}]"
      ]
     },
     "execution_count": 7,
     "metadata": {},
     "output_type": "execute_result"
    }
   ],
   "source": [
    "# Generates possible bijections between two sets of group elements\n",
    "def gen_biject(s_1, s_2):\n",
    "    assert len(s_1) == len(s_2)\n",
    "    out = []\n",
    "    for i in s_1:\n",
    "        res = {}\n",
    "        res[i] = 0\n",
    "        out += [res]\n",
    "    return out\n",
    "\n",
    "gen_biject({1,2,3,4}, {1,3,7,9})"
   ]
  }
 ],
 "metadata": {
  "kernelspec": {
   "display_name": "Python 3",
   "language": "python",
   "name": "python3"
  },
  "language_info": {
   "codemirror_mode": {
    "name": "ipython",
    "version": 3
   },
   "file_extension": ".py",
   "mimetype": "text/x-python",
   "name": "python",
   "nbconvert_exporter": "python",
   "pygments_lexer": "ipython3",
   "version": "3.8.2"
  }
 },
 "nbformat": 4,
 "nbformat_minor": 4
}
