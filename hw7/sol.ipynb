{
 "cells": [
  {
   "cell_type": "code",
   "execution_count": 7,
   "metadata": {},
   "outputs": [],
   "source": [
    "import numpy as np\n",
    "from copy import deepcopy\n",
    "from math import ceil, floor\n",
    "\n",
    "class Bqf:\n",
    "    def __init__(self, a, b, c):\n",
    "        self.terms = [[\"x^2\", a, lambda x, y: x^2],\n",
    "                      [\"xy\", b, lambda x, y: x * y],\n",
    "                      [\"y^2\", c, lambda x, y: y]]\n",
    "        \n",
    "        self.update_vals(a,b,c)\n",
    "        \n",
    "        self.mat = [\n",
    "            [self.a, self.b / 2],\n",
    "            [self.b / 2, c]\n",
    "        ]\n",
    "        \n",
    "        self.det  = self.determinant()\n",
    "        self.disc = self.discriminant()\n",
    "        \n",
    "        if (self.disc == 0): self.type = \"Perfect square\"\n",
    "            \n",
    "        elif (self.disc < 0):\n",
    "            if (self.a > 0): self.type = \"Positive definite\"\n",
    "            else:            self.type = \"Negative definite\"\n",
    "                \n",
    "        else:                self.type = \"Indefinite\"\n",
    "        \n",
    "        self.transform = []\n",
    "        \n",
    "    def __call__(self, x, y):\n",
    "        return sum([i[1] * i[2](x,y) for i in self.terms])\n",
    "    \n",
    "    def __repr__(self):\n",
    "        out = \"\"\n",
    "        for i in range(len(self.terms)):\n",
    "            if self.terms[i][1] != 0:\n",
    "                \n",
    "                if i > 0:\n",
    "                    if self.terms[i][1] > 0:\n",
    "                        out += \"+ \"\n",
    "                    else:\n",
    "                        out += \"- \"\n",
    "                elif (self.terms[i][1] < 0):\n",
    "                    out += \"-\"\n",
    "                        \n",
    "                if abs(self.terms[i][1]) != 1:\n",
    "                    out += str(abs(self.terms[i][1]))\n",
    "                    \n",
    "                out += self.terms[i][0] + \" \"\n",
    "\n",
    "        return out[:-1]\n",
    "    \n",
    "    def __eq__(self, other):\n",
    "        return np.allclose(self.reduce().mat, other.reduce().mat)\n",
    "    \n",
    "    def determinant(self):\n",
    "        return (self.mat[0][0] * self.mat[1][1]) - (self.mat[0][1] * self.mat[1][0])\n",
    "    \n",
    "    def discriminant(self):\n",
    "        return self.determinant() * -4    \n",
    "    \n",
    "    def is_reduced(self):\n",
    "        return -abs(self.a) < self.b <= abs(self.a) < abs(self.c) or\\\n",
    "                0 < self.b <= abs(self.a) == abs(self.c)\n",
    "    \n",
    "    def update_vals(self, a, b, c):\n",
    "        self.a = a\n",
    "        self.b = b\n",
    "        self.c = c\n",
    "        \n",
    "        self.terms[0][1] = a\n",
    "        self.terms[1][1] = b\n",
    "        self.terms[2][1] = c\n",
    "        \n",
    "    def reduce(self):\n",
    "        if (self.is_reduced()):\n",
    "            print(\"already reduced\")\n",
    "            return self\n",
    "        \n",
    "        red = deepcopy(self)\n",
    "        \n",
    "        while (not red.is_reduced()):\n",
    "            print(red.mat)\n",
    "            \n",
    "            if (abs(red.a) > abs(red.c)):\n",
    "                red.mat = np.matmul(red.mat, [[0, 1],[-1, 0]])\n",
    "                print([[0, -1],[1, 0]])\n",
    "            else:\n",
    "                m = 0\n",
    "                # find transformation matrix\n",
    "                if (red.a > 0):\n",
    "                    m = floor((abs(red.a) - red.b)/(2*red.a))\n",
    "                else:\n",
    "                    m = ceil((abs(red.a) - red.b)/(2*red.a))\n",
    "\n",
    "                red.mat = np.matmul(red.mat, [[1, m],[0, 1]])\n",
    "                print([[1, m],[0, 1]])\n",
    "                        \n",
    "            #assert red.mat[0][1] * 2 == red.b\n",
    "            \n",
    "            if (abs(red.a) == abs(red.c) and red.b < 0):\n",
    "                red.mat = np.matmul(red.mat, [[0, 1],[-1,0]])\n",
    "            \n",
    "                red.update_vals(red.mat[0][0], red.mat[0][1] * 2, red.mat[1][1])\n",
    "                    \n",
    "        print(red.mat)\n",
    "        print(\"is reduced\")\n",
    "        assert red.mat[0][1] * 2 == red.b\n",
    "        print(red.mat[0][1])\n",
    "        print(red)\n",
    "        return red"
   ]
  },
  {
   "cell_type": "markdown",
   "metadata": {},
   "source": [
    "### 3.4"
   ]
  },
  {
   "cell_type": "markdown",
   "metadata": {},
   "source": [
    "#### 1. For each of the following, determine whether the form is positive definite, negative definite, or indefinite.\n",
    "(a) $x^2+y^2$\n",
    "\n",
    "(b) $-(x^2)-(y^2)$\n",
    "\n",
    "(c) $x^2 - (2y^2)$\n",
    "\n",
    "(d) $10x^2 - (9xy) + (8y^2)$\n",
    "\n",
    "(e) $x^2-(3xy)+y^2$\n",
    "\n",
    "(f) $17x^2 - (26xy) + 10y^2$"
   ]
  },
  {
   "cell_type": "code",
   "execution_count": 8,
   "metadata": {},
   "outputs": [
    {
     "name": "stdout",
     "output_type": "stream",
     "text": [
      "(a) x^2 + y^2 is Positive definite\n",
      "(b) -x^2 - y^2 is Negative definite\n",
      "(c) x^2 - 2y^2 is Indefinite\n",
      "(d) 10x^2 - 9xy + 8y^2 is Positive definite\n",
      "(e) x^2 - 3xy + y^2 is Indefinite\n",
      "(f) 17x^2 - 26xy + 10y^2 is Positive definite\n"
     ]
    }
   ],
   "source": [
    "bqfs_1 = [\n",
    "    (1, 0, 1),\n",
    "    (-1, 0, -1),\n",
    "    (1, 0, -2),\n",
    "    (10, -9, 8),\n",
    "    (1, -3, 1),\n",
    "    (17, -26, 10)\n",
    "]\n",
    "\n",
    "for i in range(len(bqfs_1)):\n",
    "    bqf = Bqf(*bqfs_1[i])\n",
    "    print(\"({}) {} is {}\".format(chr(ord('`')+ i + 1), bqf, bqf.type))"
   ]
  },
  {
   "cell_type": "markdown",
   "metadata": {},
   "source": [
    "#### 2. Prove that the quadratic form $x^2-(2xy)+y^2$ has discriminant 0. Determine the class of integers represented by this form."
   ]
  },
  {
   "cell_type": "code",
   "execution_count": 9,
   "metadata": {},
   "outputs": [
    {
     "name": "stdout",
     "output_type": "stream",
     "text": [
      "x^2 - 2xy + y^2's determinant is 0\n"
     ]
    }
   ],
   "source": [
    "bqf = Bqf(1, -2, 1)\n",
    "\n",
    "assert bqf.det == 0\n",
    "print(\"{}'s determinant is {}\".format(bqf, int(bqf.det)))"
   ]
  },
  {
   "cell_type": "markdown",
   "metadata": {},
   "source": [
    "$x^2-(2xy)+y^2=(x-y)^2$. Because the domain of $x$ and $y$ are all integers, the BQF can represent all perfect squares."
   ]
  },
  {
   "cell_type": "markdown",
   "metadata": {},
   "source": [
    "#### 4. Use the binomial theorem to give a formula for positive integers $x_k$ and $y_k$ such that $(3+2\\sqrt{2})^k=x_k+y_k\\sqrt{2}$."
   ]
  },
  {
   "cell_type": "markdown",
   "metadata": {},
   "source": [
    "$x_k=\\Sigma_{n=0}^{\\lfloor{k/2}\\rfloor}{k\\choose n}3^{k-2n}2^{3n}$\n",
    "\n",
    "$y_k=\\Sigma_{n=0}^{\\lfloor{k/2}\\rfloor}{k\\choose n}3^{k-(2n+1)}2^{3n+1}$\n",
    "\n",
    "(See attached document for work)"
   ]
  },
  {
   "cell_type": "markdown",
   "metadata": {},
   "source": [
    "#### Show that $(3-2\\sqrt{2})^k=x_k-y_k\\sqrt{2}$.\n",
    "\n",
    "Because $x_k$ represents all even powers in the binomial expansion of the expression, any negations will not effect its value, maintaining its positive status as $x_k$.\n",
    "\n",
    "$y_k$, however, represents the odd powers, so its terms will be negated as shown in the above expression $(-y_k)$."
   ]
  },
  {
   "cell_type": "markdown",
   "metadata": {},
   "source": [
    "#### Deduce that $x_k^2-(2y^2_k)=1$ for $k=1,2,3, \\cdot\\cdot\\cdot$."
   ]
  },
  {
   "cell_type": "markdown",
   "metadata": {},
   "source": [
    "Let us prove this by induction.\n",
    "\n",
    "$x_1^2-(2y^2_1)=9-8=1$\n",
    "\n",
    "Let's assume that this works for $x_n$ and $y_n$. Now, we will prove it for $x_{n+1}$ and $y_{n+1}$.\n",
    "\n",
    "As will be proved later, $x_{n+1}=3x_n+4y_n$ and $y_{n+1}=2x_n+3y_n$\n",
    "\n",
    "We can write $x_{n+1}^2-(2y^2_{n+1})$ as $9x_n^2+24x_ny_n+16y_n^2-(2(4x_n^2+12x_ny_n+9y_n^2))=x^n_n-2y_n^2$ which equals $1$ by the inductive assumption.\n",
    "\n",
    "Therefore, $x_k^2-(2y^2_k)=1$ by induction."
   ]
  },
  {
   "cell_type": "markdown",
   "metadata": {},
   "source": [
    "#### Show that $(x_k, y_k)=1$ for each $k$."
   ]
  },
  {
   "cell_type": "markdown",
   "metadata": {},
   "source": [
    "Let us assume that $(x_k, y_k)\\ne1$\n",
    "\n",
    "It is known that $x_k^2=(2y_k^2)+1$.\n",
    "\n",
    "$\\implies x_k \\cdot x_k =y_k \\cdot y_k +1$\n",
    "\n",
    "$\\implies x_k =\\frac{y_k \\cdot y_k}{x_k}+\\frac{1}{x_k}$\n",
    "\n",
    "Note that $x_k \\mid y_k$, but $x_k \\nmid 1$ (unless $x_k$ is 1, in which the GCD is trivially 1).\n",
    "\n",
    "Therefore, $\\frac{y_k \\cdot y_k}{x_k}+\\frac{1}{x_k} \\not\\in \\mathbb{Z}$.\n",
    "\n",
    "Our assumption must be false, as $x_k \\in \\mathbb{Z}$.\n",
    "\n",
    "$(x_k, y_k)=1$."
   ]
  },
  {
   "cell_type": "markdown",
   "metadata": {},
   "source": [
    "#### Show that $x_{k+1}=3x_k+4y_k$ and $y_{k+1}=2x_k+3y_k$ for $k=1,2,3, \\cdot\\cdot\\cdot$."
   ]
  },
  {
   "cell_type": "markdown",
   "metadata": {},
   "source": [
    "We can find the next iteration of this binomial by observation:\n",
    "\n",
    "First, it is important to acknowledge that $(3+2\\sqrt{2})^{k+1}=(3+2\\sqrt{2})^k(3+2\\sqrt{2})$,\n",
    "\n",
    "So we can just examine what would happen when multiplying $(3+2\\sqrt{2})^k$ by $(3+2\\sqrt{2})$.\n",
    "\n",
    "For the integer term of the expanded binomial, we must consider the integer term of the multiplied binomial, $3$, as multiplied by the \"old\" integer term, and the two rational terms multiplied together.\n",
    "\n",
    "That is, $x_{k+1}=x_k\\cdot3+y_k\\sqrt{2}\\cdot 2\\sqrt{2}=3x_k+4y_k$.\n",
    "\n",
    "Similarly, $y_{k+1}$ is composed of the \"old\" integer term multiplied with the multiplied binomial's rational term added with the \"old\" rational term multiplied with the multiplied binomial's integer term.\n",
    "\n",
    "So, $y_{k+1}=x_k\\cdot2+y_k\\cdot3$."
   ]
  },
  {
   "cell_type": "markdown",
   "metadata": {},
   "source": [
    "#### Show that $\\{x_k\\}$ and $\\{y_k\\}$ are strictly increasing sequences."
   ]
  },
  {
   "cell_type": "markdown",
   "metadata": {},
   "source": [
    "Because $x_{k+1}=3x_k+4y_k$, $y_{k+1}=2x_k+3y_k$, and $x_k, y_k \\ge 0$, their sequence representations must be strictly increasing."
   ]
  },
  {
   "cell_type": "markdown",
   "metadata": {},
   "source": [
    "#### Conclude that the number $1$ has infinitely many proper representations by the quadratic form $x^2-(2y^2)$."
   ]
  },
  {
   "cell_type": "markdown",
   "metadata": {},
   "source": [
    "Because we've proved that $x_k^2-(2y^2_k)=1$ for $k=1,2,3, \\cdot\\cdot\\cdot$, there are infinitely many $k$, and $(x_k, y_k)=1$, we can conclude that there are infinitely many proper representations of $1$ in the BQF."
   ]
  },
  {
   "cell_type": "markdown",
   "metadata": {},
   "source": [
    "### 3.5"
   ]
  },
  {
   "cell_type": "markdown",
   "metadata": {},
   "source": [
    "#### 1. Find a reduced form that is equivalent to the form $7x^2+25xy+23y^2$."
   ]
  },
  {
   "cell_type": "markdown",
   "metadata": {},
   "source": [
    "If we substitute $x=2x-y$ and $y=-x+y$, we get the form $x^2+xy+5y^2$.\n",
    "\n",
    "Note that this transformation is unimodular, so both forms represent the same class of integers.\n",
    "\n",
    "Furthermore, notice that the resultant form is reduced."
   ]
  },
  {
   "cell_type": "markdown",
   "metadata": {},
   "source": [
    "#### 5. Show that $x^2+5y^2$ and $2x^2+2xy+3y^2$ are the only reduced quadratic forms of discriminant $-20$."
   ]
  },
  {
   "cell_type": "markdown",
   "metadata": {},
   "source": [
    "Find all reduced BQFs where $d=b^2-4ac=-20$\n",
    "\n",
    "Case 1: $-|a|<b<=|a|<c$\n",
    "\n",
    "$b^2=-20+4ac$\n",
    "\n",
    "$\\implies -(a^2)<-20+4ac<=(a^2)<c^2$\n",
    "\n",
    "Only integer solutions are $a=1, b=0, c=5$ and $a=2, b=2, c=3$ (found using computer algebra system)\n",
    "\n",
    "Case 2: $0 < b \\leq a = |c|$\n",
    "\n",
    "$b^2=-20+4ac$\n",
    "\n",
    "$\\implies 0<-20+4a^2 \\leq a^2$\n",
    "\n",
    "$\\implies \\sqrt{5}<a\\leq 2 \\sqrt{\\frac{5}{3}}$\n",
    "\n",
    "There are no integer solutions of $a$, so Case 2 yields no BQFs."
   ]
  },
  {
   "cell_type": "markdown",
   "metadata": {},
   "source": [
    "#### Show that the first of these forms does not represent $2$, but that the second one does."
   ]
  },
  {
   "cell_type": "markdown",
   "metadata": {},
   "source": [
    "First, we will consider $x^2+5y^2=2$.\n",
    "\n",
    "Case 1: $x = 0$\n",
    "\n",
    "$5y^2=2$ clearly has no integer solutions, so this case cannot provide a representation.\n",
    "\n",
    "Case 2: $x = 1$\n",
    "\n",
    "$5y^2+1=2$ clearly has no integer solutions, so this case cannot provide a representation.\n",
    "\n",
    "Case 3: $x > 1$\n",
    "\n",
    "$\\implies x^2 > 2$, and $5y^2>0$, so $x^2+5y^2>2$, meaning this case cannot provide a representation.\n",
    "\n",
    "====================================================================================================\n",
    "\n",
    "Now, we will consider $2x^2+2xy+3y^2$.\n",
    "\n",
    "$x=1$, $y=0$ yields $2(1)^2+2(1)(0)+(0)^2=2$."
   ]
  },
  {
   "cell_type": "markdown",
   "metadata": {},
   "source": [
    "#### Deduce that these forms are inequivalent, and hence that $H(-20)=2$. "
   ]
  },
  {
   "cell_type": "markdown",
   "metadata": {},
   "source": [
    "Because $A=x^2+5y^2=2$ does not represent 2, but $B=2x^2+2xy+3y^2$ does, they cannot be equivalent - there is no matrix $M$ such that $A=M^TBM$"
   ]
  },
  {
   "cell_type": "markdown",
   "metadata": {},
   "source": [
    "#### Show that an odd prime $p$ is represented by at least one of these forms if and only if $p\\equiv 1, 3, 7, $ or $9 \\pmod{20}$."
   ]
  },
  {
   "cell_type": "markdown",
   "metadata": {},
   "source": [
    "BQFs $A$ and $B$ are the only reduced BQFs with discriminant $-20$ (as shown previously). Because $-20 = 0 \\mod 4$, we can use Corollary 3.14 to say that $p$ is represented by either $A$ or $B \\iff (\\frac{-20}{p})=1$."
   ]
  },
  {
   "cell_type": "code",
   "execution_count": 11,
   "metadata": {},
   "outputs": [
    {
     "name": "stdout",
     "output_type": "stream",
     "text": [
      "Odd primes equivalent to the following mod 20 are acheivable from a BQF with discriminant -20:\n",
      "1, 3, 9, 7\n",
      "Odd primes equivalent to the following mod 20 are not acheivable from a BQF with discriminant -20:\n",
      "5, 11, 13, 17, 19\n",
      "There are no odd primes equivalent to the following mod 20:\n",
      "0, 2, 4, 6, 8, 10, 12, 14, 15, 16, 18\n"
     ]
    }
   ],
   "source": [
    "# Short prime finder\n",
    "prime_list = [2] + [*filter(lambda i:all(i%j for j in range(3,i,2)), range(3,10000,2))]\n",
    "\n",
    "possible = set()\n",
    "not_possible = set()\n",
    "\n",
    "def legendre(a, p):\n",
    "    return ((a) ** ((p - 1) // 2)) % p\n",
    "\n",
    "for j in range(20):\n",
    "    for i in prime_list:\n",
    "        if (i % 20 == j and i % 2 != 0):\n",
    "            if (legendre(-20, i) == 1):\n",
    "                possible.add(j)\n",
    "            else:\n",
    "                not_possible.add(j)\n",
    "            break;\n",
    "\n",
    "print(\"Odd primes equivalent to the following mod 20 are acheivable from a BQF with discriminant -20:\")\n",
    "print(str(possible)[1:-1])\n",
    "print(\"Odd primes equivalent to the following mod 20 are not acheivable from a BQF with discriminant -20:\")\n",
    "print(str(not_possible)[1:-1])\n",
    "print(\"There are no odd primes equivalent to the following mod 20:\")\n",
    "print(str(set([i for i in range(20)]) - (possible | not_possible))[1:-1])"
   ]
  }
 ],
 "metadata": {
  "kernelspec": {
   "display_name": "Python 3",
   "language": "python",
   "name": "python3"
  },
  "language_info": {
   "codemirror_mode": {
    "name": "ipython",
    "version": 3
   },
   "file_extension": ".py",
   "mimetype": "text/x-python",
   "name": "python",
   "nbconvert_exporter": "python",
   "pygments_lexer": "ipython3",
   "version": "3.8.5"
  }
 },
 "nbformat": 4,
 "nbformat_minor": 4
}
