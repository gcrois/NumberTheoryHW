{
 "cells": [
  {
   "cell_type": "code",
   "execution_count": 209,
   "metadata": {},
   "outputs": [],
   "source": [
    "import numpy as np\n",
    "from copy import deepcopy\n",
    "from math import ceil, floor\n",
    "\n",
    "class Bqf:\n",
    "    def __init__(self, a, b, c):\n",
    "        self.terms = [[\"x^2\", a, lambda x, y: x^2],\n",
    "                      [\"xy\", b, lambda x, y: x * y],\n",
    "                      [\"y^2\", c, lambda x, y: y]]\n",
    "        \n",
    "        self.update_vals(a,b,c)\n",
    "        \n",
    "        self.mat = [\n",
    "            [self.a, self.b / 2],\n",
    "            [self.b / 2, c]\n",
    "        ]\n",
    "        \n",
    "        self.det  = self.determinant()\n",
    "        self.disc = self.discriminant()\n",
    "        \n",
    "        if (self.disc == 0): self.type = \"Perfect square\"\n",
    "            \n",
    "        elif (self.disc < 0):\n",
    "            if (self.a > 0): self.type = \"Positive definite\"\n",
    "            else:            self.type = \"Negative definite\"\n",
    "                \n",
    "        else:                self.type = \"Indefinite\"\n",
    "        \n",
    "        self.transform = []\n",
    "        self.reduced = self.reduce()\n",
    "\n",
    "        \n",
    "    def __call__(self, x, y):\n",
    "        return sum([i[1] * i[2](x,y) for i in self.terms])\n",
    "    \n",
    "    def __repr__(self):\n",
    "        out = \"\"\n",
    "        for i in range(len(self.terms)):\n",
    "            if self.terms[i][1] != 0:\n",
    "                \n",
    "                if i > 0:\n",
    "                    if self.terms[i][1] > 0:\n",
    "                        out += \"+ \"\n",
    "                    else:\n",
    "                        out += \"- \"\n",
    "                elif (self.terms[i][1] < 0):\n",
    "                    out += \"-\"\n",
    "                        \n",
    "                if abs(self.terms[i][1]) != 1:\n",
    "                    out += str(abs(self.terms[i][1]))\n",
    "                    \n",
    "                out += self.terms[i][0] + \" \"\n",
    "\n",
    "        return out[:-1]\n",
    "    \n",
    "    def __eq__(self, other):\n",
    "        if self.det != other.det:\n",
    "            return False\n",
    "        M = other.mat @ np.linalg.inv(self.mat) \n",
    "        print(self.mat @ M)\n",
    "        return np.allclose(other.mat, self.mat @ M)\n",
    "    \n",
    "    def determinant(self):\n",
    "        return (self.mat[0][0] * self.mat[1][1]) - (self.mat[0][1] * self.mat[1][0])\n",
    "    \n",
    "    def discriminant(self):\n",
    "        return self.determinant() * -4    \n",
    "    \n",
    "    def is_reduced(self):\n",
    "        return -abs(self.a) < self.b <= abs(self.a) < abs(self.c) or\\\n",
    "                0 < self.b <= abs(self.a) == abs(self.c)\n",
    "    \n",
    "    def update_vals(self, a, b, c):\n",
    "        self.a = a\n",
    "        self.b = b\n",
    "        self.c = c\n",
    "        \n",
    "        self.terms[0][1] = a\n",
    "        self.terms[1][1] = b\n",
    "        self.terms[2][1] = c\n",
    "        \n",
    "    def reduce(self):\n",
    "        if (self.is_reduced()):\n",
    "            print(\"already reduced\")\n",
    "            return self\n",
    "        \n",
    "        red = deepcopy(self)\n",
    "        \n",
    "        while (not red.is_reduced()):\n",
    "            print(red.mat)\n",
    "            \n",
    "            if (abs(red.a) > abs(red.c)):\n",
    "                red.mat = np.matmul(red.mat, [[0, 1],[-1, 0]])\n",
    "                print([[0, -1],[1, 0]])\n",
    "            else:\n",
    "                m = 0\n",
    "                # find transformation matrix\n",
    "                if (red.a > 0):\n",
    "                    m = floor((abs(red.a) - red.b)/(2*red.a))\n",
    "                else:\n",
    "                    m = ceil((abs(red.a) - red.b)/(2*red.a))\n",
    "\n",
    "                red.mat = np.matmul(red.mat, [[1, m],[0, 1]])\n",
    "                print([[1, m],[0, 1]])\n",
    "            \n",
    "            red.update_vals(red.mat[0][0], red.mat[0][1] * 2, red.mat[1][1])\n",
    "            \n",
    "            assert red.mat[0][1] * 2 == red.b\n",
    "            \n",
    "            if (abs(red.a) == abs(red.c) and red.b < 0):\n",
    "                red.mat = [\n",
    "                    [0, 1],\n",
    "                    [-1,0]\n",
    "                ]\n",
    "                print(\"oop\")\n",
    "                break\n",
    "            \n",
    "            input()\n",
    "        \n",
    "        print(red.mat)\n",
    "        print(\"is reduced\")\n",
    "        assert red.mat[0][1] * 2 == red.b\n",
    "        print(red.mat[0][1])\n",
    "        print(red)\n",
    "        return red"
   ]
  },
  {
   "cell_type": "code",
   "execution_count": 210,
   "metadata": {
    "scrolled": true
   },
   "outputs": [
    {
     "name": "stdout",
     "output_type": "stream",
     "text": [
      "[[2, -7.5], [-7.5, 3]]\n",
      "[[1, 4], [0, 1]]\n",
      "\n",
      "[[  2.    0.5]\n",
      " [ -7.5 -27. ]]\n",
      "is reduced\n",
      "0.5\n",
      "2.0x^2 + xy - 27.0y^2\n",
      "2.0x^2 + xy - 27.0y^2\n"
     ]
    }
   ],
   "source": [
    "a = Bqf(2, -15, 3)\n",
    "print(a.reduced)"
   ]
  },
  {
   "cell_type": "markdown",
   "metadata": {},
   "source": [
    "### 3.4"
   ]
  },
  {
   "cell_type": "markdown",
   "metadata": {},
   "source": [
    "#### 1. For each of the following, determine whether the form is positive definite, negative definite, or indefinite.\n",
    "(a) $x^2+y^2$\n",
    "\n",
    "(b) $-(x^2)-(y^2)$\n",
    "\n",
    "(c) $x^2 - (2y^2)$\n",
    "\n",
    "(d) $10x^2 - (9xy) + (8y^2)$\n",
    "\n",
    "(e) $x^2-(3xy)+y^2$\n",
    "\n",
    "(f) $17x^2 - (26xy) + 10y^2$"
   ]
  },
  {
   "cell_type": "code",
   "execution_count": 117,
   "metadata": {},
   "outputs": [
    {
     "name": "stdout",
     "output_type": "stream",
     "text": [
      "(a) x^2 + y^2 is Positive definite\n",
      "(b) -x^2 - y^2 is Negative definite\n",
      "(c) x^2 - 2y^2 is Indefinite\n",
      "[[10, -5], [-5, 8]]\n",
      "(d) 10x^2 - 9xy + 8y^2 is Positive definite\n",
      "[[1, -2], [-2, 1]]\n",
      "(e) x^2 - 3xy + y^2 is Indefinite\n",
      "[[17, -13], [-13, 10]]\n",
      "(f) 17x^2 - 26xy + 10y^2 is Positive definite\n"
     ]
    }
   ],
   "source": [
    "bqfs_1 = [\n",
    "    (1, 0, 1),\n",
    "    (-1, 0, -1),\n",
    "    (1, 0, -2),\n",
    "    (10, -9, 8),\n",
    "    (1, -3, 1),\n",
    "    (17, -26, 10)\n",
    "]\n",
    "\n",
    "for i in range(len(bqfs_1)):\n",
    "    bqf = Bqf(*bqfs_1[i])\n",
    "    print(\"({}) {} is {}\".format(chr(ord('`')+ i + 1), bqf, bqf.type))"
   ]
  },
  {
   "cell_type": "markdown",
   "metadata": {},
   "source": [
    "#### 2. Prove that the quadratic form $x^2-(2xy)+y^2$ has discriminant 0. Determine the class of integers represented by this form."
   ]
  },
  {
   "cell_type": "code",
   "execution_count": 45,
   "metadata": {},
   "outputs": [
    {
     "name": "stdout",
     "output_type": "stream",
     "text": [
      "x^2 - 2xy + y^2's determinant is 0\n",
      "? :(\n"
     ]
    }
   ],
   "source": [
    "bqf = Bqf(1, -2, 1)\n",
    "\n",
    "assert bqf_2.det == 0\n",
    "print(\"{}'s determinant is {}\".format(bqf, int(bqf.det)))\n",
    "\n",
    "print(\"? :(\")"
   ]
  },
  {
   "cell_type": "markdown",
   "metadata": {},
   "source": [
    "#### 4. Use the binomial theorem to give a formula for positive integers $x_k$ and $y_k$ such that $(3+2\\sqrt{2})^k=x_k+y_k\\sqrt{2}$."
   ]
  },
  {
   "cell_type": "markdown",
   "metadata": {},
   "source": [
    "#### Show that $(3-2\\sqrt{2})^k=x_k-y_k\\sqrt{2}$."
   ]
  },
  {
   "cell_type": "markdown",
   "metadata": {},
   "source": [
    "#### Deduce that $x_k^2-(2y^2_k)=1$ for $k=1,2,3, \\cdot\\cdot\\cdot$."
   ]
  },
  {
   "cell_type": "markdown",
   "metadata": {},
   "source": [
    "#### Show that $(x_k, y_k)=1$ for each $k$."
   ]
  },
  {
   "cell_type": "markdown",
   "metadata": {},
   "source": [
    "#### Show that $x_{k+1}=3x_k+4k_k$ and $y_{k+1}=2x_k+3y_k$ for $k=1,2,3, \\cdot\\cdot\\cdot$."
   ]
  },
  {
   "cell_type": "markdown",
   "metadata": {},
   "source": [
    "#### Show that $\\{x_k\\}$ and $\\{y_k\\}$ are strictly increasing sequences."
   ]
  },
  {
   "cell_type": "markdown",
   "metadata": {},
   "source": [
    "#### Conclude that the number $1$ has infinitely many proper representations by the quadratic form $x^2-(2y^2)$."
   ]
  },
  {
   "cell_type": "markdown",
   "metadata": {},
   "source": [
    "### 3.5"
   ]
  },
  {
   "cell_type": "markdown",
   "metadata": {},
   "source": [
    "#### 1. Find a reduced form that is equivalent to the form $7x^2+25xy+23y^2$."
   ]
  },
  {
   "cell_type": "markdown",
   "metadata": {},
   "source": [
    "#### 5. Show that $x^2+5y^2$ and $2x^2+2xy+3y^2$ are the only reduced quadratic forms of discriminant $-20$."
   ]
  },
  {
   "cell_type": "markdown",
   "metadata": {},
   "source": [
    "#### Show that the first of these forms does not represent $2$, but that the second one does."
   ]
  },
  {
   "cell_type": "markdown",
   "metadata": {},
   "source": [
    "#### Deduce that these forms are inequivalent, and hence that $H(-20)=2$. "
   ]
  },
  {
   "cell_type": "markdown",
   "metadata": {},
   "source": [
    "#### Show that an odd prime $p$ is represented by at least one of these forms if and only if $p\\equiv 1, 3, 7, $ or $9 \\pmod{20}$."
   ]
  }
 ],
 "metadata": {
  "kernelspec": {
   "display_name": "Python 3",
   "language": "python",
   "name": "python3"
  },
  "language_info": {
   "codemirror_mode": {
    "name": "ipython",
    "version": 3
   },
   "file_extension": ".py",
   "mimetype": "text/x-python",
   "name": "python",
   "nbconvert_exporter": "python",
   "pygments_lexer": "ipython3",
   "version": "3.8.2"
  }
 },
 "nbformat": 4,
 "nbformat_minor": 4
}
