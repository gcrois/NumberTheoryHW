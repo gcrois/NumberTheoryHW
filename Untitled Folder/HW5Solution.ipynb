{
 "cells": [
  {
   "cell_type": "code",
   "execution_count": 1,
   "metadata": {},
   "outputs": [],
   "source": [
    "# determines if a is a quadratic residue of p\n",
    "def legendre(a, p, d = 2):\n",
    "    # print(\"a: {}, p: {}\".format(a, p))\n",
    "    symbol = ((a % p) ** ((p - 1) // d)) % p\n",
    "    return symbol if symbol < 2 else -1"
   ]
  },
  {
   "cell_type": "code",
   "execution_count": 2,
   "metadata": {},
   "outputs": [],
   "source": [
    "# computes the floor of an integer\n",
    "def floor(n):\n",
    "    i = 0\n",
    "    while (n >= 1): \n",
    "        n -= 1\n",
    "        i += 1\n",
    "    \n",
    "    return i"
   ]
  },
  {
   "cell_type": "markdown",
   "metadata": {},
   "source": [
    "#### 1. Find $[3/2]$, $[-3/2]$, $[\\pi]$, $[-7]$, and $[x]$ for $0 \\leq x \\lt 1$."
   ]
  },
  {
   "cell_type": "markdown",
   "metadata": {},
   "source": [
    "$[3/2]$: 1\n",
    "\n",
    "$[-3/2]$: -2\n",
    "\n",
    "$[\\pi]$: 3\n",
    "\n",
    "$[-7]$: -7\n",
    "\n",
    "$[x]$ for $0 \\leq x \\lt 1$: 0\n"
   ]
  },
  {
   "cell_type": "markdown",
   "metadata": {},
   "source": [
    "#### 2. With reference to the notation of Theorem 1.2 prove that $q=[b/a]$.\n"
   ]
  },
  {
   "cell_type": "markdown",
   "metadata": {},
   "source": [
    "#### 3. Prove that $3$ is a quadratic residue of $13$, but a not quadratic nonresidue of $7$\n"
   ]
  },
  {
   "cell_type": "markdown",
   "metadata": {},
   "source": [
    "We will accomplish this by finding the necessary Legendre symbols."
   ]
  },
  {
   "cell_type": "code",
   "execution_count": 3,
   "metadata": {},
   "outputs": [
    {
     "name": "stdout",
     "output_type": "stream",
     "text": [
      "3 is a quadratic residue of 13\n",
      "3 is not a quadratic residue of 7\n"
     ]
    }
   ],
   "source": [
    "assert legendre(3, 13) == 1\n",
    "print(\"3 is a quadratic residue of 13\")\n",
    "\n",
    "assert legendre(3,7) == -1\n",
    "print(\"3 is not a quadratic residue of 7\")"
   ]
  },
  {
   "cell_type": "markdown",
   "metadata": {},
   "source": [
    "#### 4. Find the values of $(\\frac{a}{p})$ in each of the $12$ cases, $a= -1, 2, -2, 3$ and $p = 11,13,17$."
   ]
  },
  {
   "cell_type": "code",
   "execution_count": 4,
   "metadata": {},
   "outputs": [
    {
     "name": "stdout",
     "output_type": "stream",
     "text": [
      "p/a | 11 | 13 | 17 |\n",
      "--------------------\n",
      " -1 | -1 |  1 |  1 |\n",
      "  2 | -1 | -1 |  1 |\n",
      " -2 |  1 | -1 |  1 |\n",
      "  3 |  1 |  1 | -1 |\n"
     ]
    }
   ],
   "source": [
    "a = [-1, 2, -2, 3]\n",
    "p = [11, 13, 17]\n",
    "\n",
    "# print header\n",
    "out = \"\"\n",
    "for i in [\"p/a\"] + p: out += \"{:>3}{}\".format(i, \" |\")\n",
    "print(out)\n",
    "print(\"-\" * len(out))\n",
    "\n",
    "# print rows\n",
    "for i in a:\n",
    "    out = \"\"\n",
    "    out += \"{:>3}{}\".format(i, \" |\")\n",
    "    for j in p:\n",
    "        out += \"{:>3}{}\".format(legendre(i, j), \" |\")\n",
    "    print(out)\n"
   ]
  },
  {
   "cell_type": "markdown",
   "metadata": {},
   "source": [
    "#### 5. Prove that the quadratic residues of $11$ are $1,3,4,5,9,$ and list all solutions of each of the ten congruences $x^2\\equiv a (\\textrm{mod } 11)$ and $x^2\\equiv a (\\textrm{mod } 11^2)$ where $a = 1,3,4,5,9$."
   ]
  },
  {
   "cell_type": "code",
   "execution_count": 25,
   "metadata": {},
   "outputs": [
    {
     "name": "stdout",
     "output_type": "stream",
     "text": [
      "Given values verified!\n",
      "\n",
      "\n",
      "Finding solutions of form x ^ 2 = a (mod 11)\n",
      "\n",
      "Finding solutions of 1:\n",
      "1 ^ 2 = 1 mod 11\n",
      "10 ^ 2 = 1 mod 11\n",
      "\n",
      "Finding solutions of 3:\n",
      "5 ^ 2 = 3 mod 11\n",
      "6 ^ 2 = 3 mod 11\n",
      "\n",
      "Finding solutions of 4:\n",
      "2 ^ 2 = 4 mod 11\n",
      "9 ^ 2 = 4 mod 11\n",
      "\n",
      "Finding solutions of 5:\n",
      "4 ^ 2 = 5 mod 11\n",
      "7 ^ 2 = 5 mod 11\n",
      "\n",
      "Finding solutions of 9:\n",
      "3 ^ 2 = 9 mod 11\n",
      "8 ^ 2 = 9 mod 11\n",
      "Done!\n",
      "\n",
      "\n",
      "Finding solutions of form x ^ 2 = a (mod 11 ^ 2)\n",
      "\n",
      "Finding solutions of 1:\n",
      "1 ^ 2 = 1 mod 11 ^ 2\n",
      "120 ^ 2 = 1 mod 11 ^ 2\n",
      "\n",
      "Finding solutions of 3:\n",
      "27 ^ 2 = 3 mod 11 ^ 2\n",
      "94 ^ 2 = 3 mod 11 ^ 2\n",
      "\n",
      "Finding solutions of 4:\n",
      "2 ^ 2 = 4 mod 11 ^ 2\n",
      "119 ^ 2 = 4 mod 11 ^ 2\n",
      "\n",
      "Finding solutions of 5:\n",
      "48 ^ 2 = 5 mod 11 ^ 2\n",
      "73 ^ 2 = 5 mod 11 ^ 2\n",
      "\n",
      "Finding solutions of 9:\n",
      "3 ^ 2 = 9 mod 11 ^ 2\n",
      "118 ^ 2 = 9 mod 11 ^ 2\n"
     ]
    }
   ],
   "source": [
    "# hypothesied residues\n",
    "resd = [1, 3, 4, 5, 9]\n",
    "\n",
    "# loop through natural numbers lt 11, find residues, compare\n",
    "# with given values\n",
    "if [j for j in range(1, 11) if legendre(j, 11) == 1] == resd:\n",
    "    print(\"Given values verified!\\n\")\n",
    "else:\n",
    "    print(\"Math machine broke\")\n",
    "    \n",
    "# find solutions of first form (through brute force!)\n",
    "print(\"\\nFinding solutions of form x ^ 2 = a (mod 11)\")\n",
    "for i in resd:\n",
    "    print(\"\\nFinding solutions of {}:\".format(i))\n",
    "    for j in range(1, 11):\n",
    "        if (j ** 2) % 11 == i:\n",
    "            print(\"{} ^ 2 = {} mod {}\".format(j, i, 11))\n",
    "\n",
    "print(\"Done!\\n\")\n",
    "# find solutions of second form (through brute force!)\n",
    "print(\"\\nFinding solutions of form x ^ 2 = a (mod 11 ^ 2)\")\n",
    "for i in resd:\n",
    "    print(\"\\nFinding solutions of {}:\".format(i))\n",
    "    for j in range(1, 11 ** 2):\n",
    "        if (j ** 2) % (11 ** 2) == i:\n",
    "            print(\"{} ^ 2 = {} mod {} ^ 2\".format(j, i, 11))\n",
    "print(\"Done!\")"
   ]
  },
  {
   "cell_type": "markdown",
   "metadata": {},
   "source": [
    "#### 6. (a) List the quadratic residues of each of the primes $7,13,17,29,37$."
   ]
  },
  {
   "cell_type": "code",
   "execution_count": 32,
   "metadata": {},
   "outputs": [
    {
     "name": "stdout",
     "output_type": "stream",
     "text": [
      "Quadratic residues of 7:\n",
      "1, 2, 4\n",
      "\n",
      "Quadratic residues of 13:\n",
      "1, 3, 4, 9, 10, 12\n",
      "\n",
      "Quadratic residues of 17:\n",
      "1, 2, 4, 8, 9, 13, 15, 16\n",
      "\n",
      "Quadratic residues of 29:\n",
      "1, 4, 5, 6, 7, 9, 13, 16, 20, 22, 23, 24, 25, 28\n",
      "\n",
      "Quadratic residues of 37:\n",
      "1, 3, 4, 7, 9, 10, 11, 12, 16, 21, 25, 26, 27, 28, 30, 33, 34, 36\n",
      "\n"
     ]
    }
   ],
   "source": [
    "p = [7, 13, 17, 29, 37]\n",
    "\n",
    "for i in p:\n",
    "    print(\"Quadratic residues of {}:\".format(i))\n",
    "    print(str([j for j in range(1,i) if legendre(j, i) == 1])[1:-1])\n",
    "    print(\"\")"
   ]
  },
  {
   "cell_type": "markdown",
   "metadata": {},
   "source": [
    "#### (b) For any positive integer $n$, define $F(n)$ to be the minimum value of $|n^2-17x|$, where $x$ runs over all integers. Prove that $F(n)$ is either $0$ or a power of $2$."
   ]
  }
 ],
 "metadata": {
  "kernelspec": {
   "display_name": "Python 3",
   "language": "python",
   "name": "python3"
  },
  "language_info": {
   "codemirror_mode": {
    "name": "ipython",
    "version": 3
   },
   "file_extension": ".py",
   "mimetype": "text/x-python",
   "name": "python",
   "nbconvert_exporter": "python",
   "pygments_lexer": "ipython3",
   "version": "3.8.2"
  }
 },
 "nbformat": 4,
 "nbformat_minor": 4
}
