{
 "cells": [
  {
   "cell_type": "markdown",
   "metadata": {},
   "source": [
    "# Number Theory HW 1\n",
    "### Gregory Croisdale\n",
    "### Fall, 2020"
   ]
  },
  {
   "cell_type": "markdown",
   "metadata": {},
   "source": [
    "# Functions"
   ]
  },
  {
   "cell_type": "code",
   "execution_count": 1,
   "metadata": {},
   "outputs": [],
   "source": [
    "## Euclidean Algorithm\n",
    "def euclid(a, b):\n",
    "    a, b = sorted((a, b))\n",
    "    \n",
    "    # y = coeff(x) + rem\n",
    "    # repeat until remainder is 0\n",
    "    rem = -1\n",
    "    coeff = 0\n",
    "    \n",
    "    while(rem != 0):\n",
    "        coeff = a // b\n",
    "        rem =   a - coeff * b\n",
    "        a = b\n",
    "        b = rem\n",
    "    return a"
   ]
  },
  {
   "cell_type": "code",
   "execution_count": 2,
   "metadata": {},
   "outputs": [],
   "source": [
    "## Extended Euclidean Algorithm\n",
    "def ext_euclid(a, b):\n",
    "    a, b = sorted((a, b))\n",
    "    \n",
    "    # remainders\n",
    "    r = [b, a]\n",
    "    \n",
    "    # coefficient of b\n",
    "    s = [1, 0]\n",
    "    \n",
    "    # coefficient of a\n",
    "    t = [0, 1]\n",
    "    \n",
    "    # compute values until remainder is 0\n",
    "    i = 1\n",
    "    while(r[i] != 0):\n",
    "        q = (r[i - 1] // r[i])\n",
    "        r.append(r[i - 1] - q * r[i])\n",
    "        s.append(s[i - 1] - q * s[i])\n",
    "        t.append(t[i - 1] - q * t[i])\n",
    "        i += 1\n",
    "        \n",
    "    # return relevant coefficients and remainder\n",
    "    return t[i - 1], s[i - 1], r[i - 1]"
   ]
  },
  {
   "cell_type": "code",
   "execution_count": 3,
   "metadata": {},
   "outputs": [],
   "source": [
    "## Linear Diophantine Equation solver:\n",
    "#  ax + by = c\n",
    "def diophantine(a, b, c):\n",
    "    a, b = sorted((a, b))\n",
    "\n",
    "#   first, find the coefficients to make the gcd\n",
    "#   a coeff, b coeff, gcd(a,b)\n",
    "    x,       y,       d = ext_euclid(a, b)\n",
    "\n",
    "#   ensure that the desired result is a multiple of the gcd\n",
    "    assert c % d == 0\n",
    "    \n",
    "#   find value we must multiply gcd by to get result\n",
    "    q = c // d\n",
    "    \n",
    "#   ensure that we get the valid result\n",
    "    assert a * x * q + b * y * q == c \n",
    "    \n",
    "    return x * q, y * q "
   ]
  },
  {
   "cell_type": "code",
   "execution_count": 4,
   "metadata": {},
   "outputs": [],
   "source": [
    "# Prime Factorialization\n",
    "from collections import defaultdict\n",
    "\n",
    "# Short prime finder\n",
    "prime_list = [2] + [*filter(lambda i:all(i%j for j in range(3,i,2)), range(3,10000,2))] \n",
    "\n",
    "# Prime Factoring Algorithm\n",
    "def fact(n):\n",
    "    # dictionary with default value\n",
    "    out = defaultdict(int)\n",
    "    \n",
    "    # fresh new prime list\n",
    "    primes = prime_list.copy()\n",
    "\n",
    "    f = primes.pop(0)\n",
    "    while f <= n:\n",
    "        if n % f == 0:\n",
    "            out[f] += 1\n",
    "            n //= f\n",
    "        else:\n",
    "            f = primes.pop(0)\n",
    "    return out"
   ]
  },
  {
   "cell_type": "markdown",
   "metadata": {},
   "source": [
    "# Solutions"
   ]
  },
  {
   "cell_type": "markdown",
   "metadata": {},
   "source": [
    "### Problem 1"
   ]
  },
  {
   "cell_type": "code",
   "execution_count": 5,
   "metadata": {},
   "outputs": [
    {
     "name": "stdout",
     "output_type": "stream",
     "text": [
      "a: 77\n",
      "b: 1\n",
      "c: 7\n",
      "d: 1\n"
     ]
    }
   ],
   "source": [
    "# Problem 1\n",
    "# We can use the euclidian algorithm for each of these problems\n",
    "problems = {\n",
    "    \"a\": (7469, 2464),\n",
    "    \"b\": (2689, 4001),\n",
    "    \"c\": (2947, 3997),\n",
    "    \"d\": (1109, 4999),\n",
    "}\n",
    "\n",
    "for i in problems.keys():\n",
    "    print(i + \":\", euclid(*problems[i]))"
   ]
  },
  {
   "cell_type": "markdown",
   "metadata": {},
   "source": [
    "### Problem 2"
   ]
  },
  {
   "cell_type": "code",
   "execution_count": 6,
   "metadata": {},
   "outputs": [
    {
     "name": "stdout",
     "output_type": "stream",
     "text": [
      "(71)1819 + (-36)3587 = 17\n"
     ]
    }
   ],
   "source": [
    "# Problem 2\n",
    "# We can use the extended euclidian algorithm for this problem\n",
    "\n",
    "a, b = 1819, 3587\n",
    "# first, find gcd\n",
    "g = euclid(a, b)\n",
    "\n",
    "# now, solve diophantine equation\n",
    "x, y = diophantine(1819, 3587, g)\n",
    "print(\"({}){} + ({}){} = {}\".format(x, a, y, b, g))"
   ]
  },
  {
   "cell_type": "markdown",
   "metadata": {},
   "source": [
    "### Problem 3"
   ]
  },
  {
   "cell_type": "code",
   "execution_count": 7,
   "metadata": {},
   "outputs": [
    {
     "name": "stdout",
     "output_type": "stream",
     "text": [
      "a: (15)(423) + (-7)(198) = 9\n",
      "b: (-27)(71) + (-19)(-50) = 1\n",
      "c: (3)(43) + (-2)(64) = 1\n",
      "d: (8)(93) + (7)(-81) = 3\n",
      "============================== \n",
      "e:\n",
      "(-2)(6) + (1)(15) = 3\n",
      "(-3)(3) + (1)(10) = 1\n",
      "(6)(6) + (-3)(15) + (1)(10) = 1\n"
     ]
    }
   ],
   "source": [
    "# Problem 3\n",
    "# For most of these problems, we can use the extended euclidian algorithm\n",
    "problems = {\n",
    "    \"a\": (423, 198, 9),\n",
    "    \"b\": (71, -50, 1),\n",
    "    \"c\": (43, 64, 1),\n",
    "    \"d\": (93, -81, 3),\n",
    "}\n",
    "\n",
    "for i in problems.keys():\n",
    "    a, b, c = problems[i]\n",
    "    x, y = diophantine(a, b, c)\n",
    "    print(i + \":\", \"({})({}) + ({})({}) = {}\".format(x, a, y, b, c))\n",
    "\n",
    "print(\"=\" * 30, \"\\ne:\")\n",
    "# For problem e, we need to solve a smaller diophantine equation to make a coprime\n",
    "# with the other value.\n",
    "\n",
    "# Let's solve (6)x + (15)y = gcd(6, 15) = 3 first.\n",
    "a, b, c = 6, 15, 3\n",
    "x, y = diophantine(a, b, c)\n",
    "\n",
    "print(\"({})({}) + ({})({}) = {}\".format(x, a, y, b, c))\n",
    "# Now, we can substitute 3 for 6 and 15 in our original equation.\n",
    "# s * ((-2)(6) + (1)(15)) + z * 10 = 1\n",
    "#         Which is the same as\n",
    "#           s(3) + z(10) = 1\n",
    "\n",
    "# If we solve this equation, we can just multiply our '3' term by s and get our answer.\n",
    "a, b, c = 3, 10, 1\n",
    "s, z = diophantine(a, b, c)\n",
    "print(\"({})({}) + ({})({}) = {}\".format(s, a, z, b, c))\n",
    "\n",
    "# Now, we multiply the coefficients we got before:\n",
    "x *= s\n",
    "y *= s\n",
    "\n",
    "# Let's verify that our equation works and print the result:\n",
    "assert 6 * x + 15 * y + 10 * z == 1\n",
    "print(\"({})({}) + ({})({}) + ({})({}) = {}\".format(x, 6, y, 15, z, 10, 1))"
   ]
  },
  {
   "cell_type": "markdown",
   "metadata": {},
   "source": [
    "### Problem 4"
   ]
  },
  {
   "cell_type": "code",
   "execution_count": 8,
   "metadata": {},
   "outputs": [
    {
     "name": "stdout",
     "output_type": "stream",
     "text": [
      "a: 3374\n",
      "b: 3660\n"
     ]
    }
   ],
   "source": [
    "# Problem 4 (I didn't realize it wasn't required... Ooops...)\n",
    "# Multiply prime factors by maximum quantity in prime factorialization of each number\n",
    "problems = {\n",
    "    \"a\": (482, 1687),\n",
    "    \"b\": (60, 61),\n",
    "}\n",
    "\n",
    "for i in problems.keys():\n",
    "    a, b = problems[i]\n",
    "    a_fact, b_fact = fact(a), fact(b)\n",
    "    \n",
    "    lcm = 1\n",
    "    \n",
    "    # loop through each unique factor in combined list\n",
    "    for j in set(list(a_fact.keys()) + list(b_fact.keys())):\n",
    "        # multiply lcm by maximum instances of factor\n",
    "        lcm *= j * max(a_fact[j], b_fact[j])\n",
    "    \n",
    "    print(i + \":\", lcm)"
   ]
  },
  {
   "cell_type": "markdown",
   "metadata": {},
   "source": [
    "### Problem 6\n",
    "By Theorem 1.21 in the book (pg 36), it is known that \"The product of any $k$ consecutive integers is divisible by $k!$\". I'll prove this another way as an exercise in diminishing laziness."
   ]
  },
  {
   "cell_type": "markdown",
   "metadata": {},
   "source": [
    "Using the table below, we can prove that for a sequence of $n$ consecutive integers $a_i$, exactly $1$ is divisible by $n$ ($a_i = 0$ when $i == j$). Furthermore, it follows that at least $1$ of the consecutive integers is divisble by $d$ $\\forall d \\in \\mathbb{Z}: |d| < n$."
   ]
  },
  {
   "cell_type": "code",
   "execution_count": 2,
   "metadata": {},
   "outputs": [
    {
     "data": {
      "image/png": "[encoded data removed]",
      "text/plain": [
       "<IPython.core.display.Image object>"
      ]
     },
     "execution_count": 2,
     "metadata": {},
     "output_type": "execute_result"
    }
   ],
   "source": [
    "from IPython.display import Image\n",
    "Image(filename='table.png')"
   ]
  },
  {
   "cell_type": "markdown",
   "metadata": {},
   "source": [
    "#### Part I\n",
    "Let us call this consecutive product $p$. Because of the above table, we know that $2|p$ and $3|p$, as $2,3 \\leq 3$. Because of the properties of divisibility, we know that $6 | p$ because $2$ and $3$ are co-prime and $2\\cdot3=6$.\n",
    "\n",
    "We can verify this using the Theorem 1.21 - It is known that $3$ consecutive integers are divisble by $3! = 6$.\n",
    "#### Part II\n",
    "\n",
    "Let us call this consecutive product $p$. Because of the above table, we know that $4|p$ and $3|p$, as $3,4 \\leq 4$. We also know that $2$ of the numbers are divisible by $2$ and exactly one of them is also divisible by $4$ as mentioned before. Now we know that one of the integers is divisible by $2$ and not $4$, one is divisible by $3$, and one is divisible by $4$. Therefore, $2\\cdot 3\\cdot 4|P\\Rightarrow 24 | P$.\n",
    "\n",
    "We can verify this using the Theorem 1.21 - It is known that $4$ consecutive integers are divisble by $4! = 24$."
   ]
  },
  {
   "cell_type": "markdown",
   "metadata": {},
   "source": [
    "### Problem 9\n",
    "\n",
    "$ac|bc\\Rightarrow ac * k = bc$ for some $k \\in \\mathbb{Z}$.\n",
    "\n",
    "By dividing both sides by $c$, we get $a*k=b \\Leftrightarrow a|b$."
   ]
  },
  {
   "cell_type": "markdown",
   "metadata": {},
   "source": [
    "### Problem 11\n",
    "\n",
    "Proof by contradiction:\n",
    "\n",
    "Let's assume that $\\exists n \\in \\mathbb{Z}: 4 | (n^2 + 2)$\n",
    "\n",
    "If $n$ is odd, $\\exists k \\in \\mathbb{Z}: (2k + 1)^2 = n^2$\n",
    "\n",
    "$\\Rightarrow n^2 = 4k^2 + 4k + 1 \\Rightarrow (n^2+2)$ is odd $\\Rightarrow 4 \\nmid (n^2+2)$ if $n$ is odd.\n",
    "\n",
    "Therefore, $n$ cannot be odd.\n",
    "\n",
    "Now, let's assume that $n$ is even:\n",
    "\n",
    "$\\exists k \\in \\mathbb{Z}: (2k)^2 = n^2$.\n",
    "\n",
    "$\\Rightarrow n^2 = 4k \\Rightarrow (n^2 + 2) = (4k + 2) \\Rightarrow 4 \\nmid (n^2 + 2)$\n",
    "\n",
    "Therefore, $n$ can neither be even nor odd $\\Rightarrow \\not\\exists n \\in \\mathbb{Z}: 4 | (n^2 + 2)$.\n",
    "\n",
    "Sorry, $n$."
   ]
  },
  {
   "cell_type": "markdown",
   "metadata": {},
   "source": [
    "### Problem 14\n",
    "\n",
    "If $n$ is odd, $\\exists k \\in \\mathbb{Z}: 2k + 1 = n$.\n",
    "\n",
    "$\\Rightarrow n^2 = (2k + 1)^2 = 4k^2 + 4k + 1$.\n",
    "\n",
    "$\\Rightarrow n^2 - 1 = 4k^2 + 4k = 4k(k + 1)$\n",
    "\n",
    "#### Case 1: $k=0$ or $k=-1$\n",
    "\n",
    "$\\Rightarrow 4k(k+1) = 0 \\Rightarrow 8 | 4k(k+1)$\n",
    "\n",
    "#### Case 2: $k$ is odd\n",
    "\n",
    "$\\exists j \\in \\mathbb{Z}: k = (2j + 1)$.\n",
    "\n",
    "$\\Rightarrow 4k(k+1) = 4(2j + 1)((2j + 1) + 1) = 8(2j+1)(j+1)\\Rightarrow 8 | 4k(k+1)\\Rightarrow 8 | n^2 - 1$\n",
    "\n",
    "\n",
    "#### Case 3: $k$ is even\n",
    "\n",
    "$\\exists j \\in \\mathbb{Z}: k = (2j)$.\n",
    "\n",
    "$\\Rightarrow 4k(k+1) = 4(2j)((2j) + 1) = 8j(2j+1)\\Rightarrow 8 | 4k(k+1)\\Rightarrow 8 | n^2 - 1$\n",
    "\n",
    "\n",
    "Therefore, if $n$ is odd, $8 | (n^2 - 1)$"
   ]
  }
 ],
 "metadata": {
  "kernelspec": {
   "display_name": "Python 3",
   "language": "python",
   "name": "python3"
  },
  "language_info": {
   "codemirror_mode": {
    "name": "ipython",
    "version": 3
   },
   "file_extension": ".py",
   "mimetype": "text/x-python",
   "name": "python",
   "nbconvert_exporter": "python",
   "pygments_lexer": "ipython3",
   "version": "3.8.2"
  }
 },
 "nbformat": 4,
 "nbformat_minor": 4
}
