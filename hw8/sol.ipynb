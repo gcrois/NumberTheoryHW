{
 "cells": [
  {
   "cell_type": "code",
   "execution_count": 4,
   "metadata": {},
   "outputs": [
    {
     "ename": "SyntaxError",
     "evalue": "invalid syntax (<ipython-input-4-ade6b830675a>, line 65)",
     "output_type": "error",
     "traceback": [
      "\u001b[0;36m  File \u001b[0;32m\"<ipython-input-4-ade6b830675a>\"\u001b[0;36m, line \u001b[0;32m65\u001b[0m\n\u001b[0;31m    0 < self.b -<= abs(self.a) == abs(self.c)\u001b[0m\n\u001b[0m                ^\u001b[0m\n\u001b[0;31mSyntaxError\u001b[0m\u001b[0;31m:\u001b[0m invalid syntax\n"
     ]
    }
   ],
   "source": [
    "import numpy as np\n",
    "from copy import deepcopy\n",
    "from math import ceil, floor\n",
    "\n",
    "class Bqf:\n",
    "    def __init__(self, a, b, c):\n",
    "        self.terms = [[\"x^2\", a, lambda x, y: x^2],\n",
    "                      [\"xy\", b, lambda x, y: x * y],\n",
    "                      [\"y^2\", c, lambda x, y: y]]\n",
    "        \n",
    "        self.update_vals(a,b,c)\n",
    "        \n",
    "        self.mat = [\n",
    "            [self.a, self.b / 2],\n",
    "            [self.b / 2, c]\n",
    "        ]\n",
    "        \n",
    "        self.det  = self.determinant()\n",
    "        self.disc = self.discriminant()\n",
    "        \n",
    "        if (self.disc == 0): self.type = \"Perfect square\"\n",
    "            \n",
    "        elif (self.disc < 0):\n",
    "            if (self.a > 0): self.type = \"Positive definite\"\n",
    "            else:            self.type = \"Negative definite\"\n",
    "                \n",
    "        else:                self.type = \"Indefinite\"\n",
    "        \n",
    "        self.transform = []\n",
    "        \n",
    "    def __call__(self, x, y):\n",
    "        return sum([i[1] * i[2](x,y) for i in self.terms])\n",
    "    \n",
    "    def __repr__(self):\n",
    "        out = \"\"\n",
    "        for i in range(len(self.terms)):\n",
    "            if self.terms[i][1] != 0:\n",
    "                \n",
    "                if i > 0:\n",
    "                    if self.terms[i][1] > 0:\n",
    "                        out += \"+ \"\n",
    "                    else:\n",
    "                        out += \"- \"\n",
    "                elif (self.terms[i][1] < 0):\n",
    "                    out += \"-\"\n",
    "                        \n",
    "                if abs(self.terms[i][1]) != 1:\n",
    "                    out += str(abs(self.terms[i][1]))\n",
    "                    \n",
    "                out += self.terms[i][0] + \" \"\n",
    "\n",
    "        return out[:-1]\n",
    "    \n",
    "    def __eq__(self, other):\n",
    "        return np.allclose(self.reduce().mat, other.reduce().mat)\n",
    "    \n",
    "    def determinant(self):\n",
    "        return (self.mat[0][0] * self.mat[1][1]) - (self.mat[0][1] * self.mat[1][0])\n",
    "    \n",
    "    def discriminant(self):\n",
    "        return self.determinant() * -4    \n",
    "    \n",
    "    def is_reduced(self):\n",
    "        return -abs(self.a) < self.b <= abs(self.a) < abs(self.c) or\\\n",
    "                0 < self.b -<= abs(self.a) == abs(self.c)\n",
    "    \n",
    "    def update_vals(self, a, b, c):\n",
    "        self.a = a\n",
    "        self.b = b\n",
    "        self.c = c\n",
    "        \n",
    "        self.terms[0][1] = a\n",
    "        self.terms[1][1] = b\n",
    "        self.terms[2][1] = c\n",
    "        \n",
    "    def reduce(self):\n",
    "        if (self.is_reduced()):\n",
    "            print(\"already reduced\")\n",
    "            return self\n",
    "        \n",
    "        red = deepcopy(self)\n",
    "        \n",
    "        while (not red.is_reduced()):\n",
    "            print(red.mat)\n",
    "            \n",
    "            if (abs(red.a) > abs(red.c)):\n",
    "                red.mat = np.matmul(red.mat, [[0, 1],[-1, 0]])\n",
    "                print([[0, -1],[1, 0]])\n",
    "            else:\n",
    "                m = 0\n",
    "                # find transformation matrix\n",
    "                if (red.a > 0):\n",
    "                    m = floor((abs(red.a) - red.b)/(2*red.a))\n",
    "                else:\n",
    "                    m = ceil((abs(red.a) - red.b)/(2*red.a))\n",
    "\n",
    "                red.mat = np.matmul(red.mat, [[1, m],[0, 1]])\n",
    "                print([[1, m],[0, 1]])\n",
    "                        \n",
    "            #assert red.mat[0][1] * 2 == red.b\n",
    "            \n",
    "            if (abs(red.a) == abs(red.c) and red.b < 0):\n",
    "                red.mat = np.matmul(red.mat, [[0, 1],[-1,0]])\n",
    "            \n",
    "                red.update_vals(red.mat[0][0], red.mat[0][1] * 2, red.mat[1][1])\n",
    "                    \n",
    "        print(red.mat)\n",
    "        print(\"is reduced\")\n",
    "        assert red.mat[0][1] * 2 == red.b\n",
    "        print(red.mat[0][1])\n",
    "        print(red)\n",
    "        return red"
   ]
  },
  {
   "cell_type": "markdown",
   "metadata": {},
   "source": [
    "### 3.6\n",
    "#### 4.) Use the method of Example 3 to find integers x and y such that $x^2+y^2=89753$, given that this number is prime."
   ]
  },
  {
   "cell_type": "code",
   "execution_count": 8,
   "metadata": {},
   "outputs": [],
   "source": [
    "# find bqf with determinant -4 and f(1,0) = target number\n",
    "\n",
    "def pgen_bqf(x: int):\n",
    "    # verify primality\n",
    "    assert x % \n",
    "    return Bqf()"
   ]
  },
  {
   "cell_type": "markdown",
   "metadata": {},
   "source": [
    "### 9.1"
   ]
  },
  {
   "cell_type": "markdown",
   "metadata": {},
   "source": [
    "#### 1.) If $f(x)|g(x)$ and $g(x)|f(x)$, prove that there is a rational number c such that $g(x) = cf(x)$. "
   ]
  },
  {
   "cell_type": "markdown",
   "metadata": {},
   "source": [
    "$f(x)|g(x) \\implies \\exists u_1(x): f(x)u_1(x)=g(x)$.\n",
    "\n",
    "Likewise, $g(x)|f(x) \\implies \\exists u_2(x): g(x)u_2(x)=f(x)$.\n",
    "\n",
    "Using substitution, we can form the following equation:\n",
    "\n",
    "$f(x)=f(x)u_1(x)u_2(x) \\implies u_1(x)u_2(x)=1 \\implies u_1(x)=u_2(x)^{-1}$\n",
    "\n",
    "Note that if $u_2(x)$ was not a rational number, its inverse would not be in $\\mathbb{Q}[x]$, as one of its terms would be of the form $x^{-i}$ for some positive integer i.\n",
    "\n",
    "Therefore, $u_2(x)$ must be a rational number, which implies that $u_1(x) = u_2(x)^{-1}$ is a rational number.\n",
    "\n",
    "If we set $c = u_1(x)$, $g(x)=cf(x)$."
   ]
  },
  {
   "cell_type": "markdown",
   "metadata": {},
   "source": [
    "#### 2.) If $f(x)|g(x)$ and $g(x)|h(x)$, prove that $f(x)|h(x)$."
   ]
  },
  {
   "cell_type": "markdown",
   "metadata": {},
   "source": [
    "$f(x)|g(x) \\implies \\exists u_1(x): f(x)u_1(x)=g(x)$.\n",
    "\n",
    "$g(x)|h(x) \\implies \\exists u_2(x): g(x)u_2(x)=h(x)$.\n",
    "\n",
    "$\\implies f(x)u_1(x)u_2(x)=h(x)$ by substitution.\n",
    "\n",
    "Let $u_3(x)=u_1(x)u_2(x)$, so $f(x)u_3(x)=h(x)$.\n",
    "\n",
    "Therefore, $f(x)|h(x)$."
   ]
  },
  {
   "cell_type": "markdown",
   "metadata": {},
   "source": [
    "#### 3.) If $p(x)$ is irreducible and $g(x)|p(x)$, prove that either $g(x)$ is a constant or $g(x) = cp(x)$ for some rational number $c$. "
   ]
  },
  {
   "cell_type": "markdown",
   "metadata": {},
   "source": [
    "Because $p(x)$ is irreducable, it cannot be factored.\n",
    "\n",
    "However, observe that any polynomail in $\\mathbb{Q}[x]$ can be divided by some constant in $\\mathbb{Q}$ without leaving $\\mathbb{Q}[x]$.\n",
    "\n",
    "Additionally, if $g(x)$ is some constant multiple of $p(x)$, $\\frac{p(x)}{g(x)}=c$ where $c$ is some rational number.\n",
    "\n",
    "Any other case, however, counts as factoring, so the above two cases are the only possible for $g(x)|p(x)$."
   ]
  },
  {
   "cell_type": "markdown",
   "metadata": {},
   "source": [
    "#### 5.) If a polynomial $f(x)$ with integral coefficients factors into a product $g(x)h(x)$ of two polynomials with coefficients in $\\mathbb{Q}$, prove that there is a factoring $g_1(x)h_1(x)$ with integral coefficients. "
   ]
  },
  {
   "cell_type": "markdown",
   "metadata": {},
   "source": [
    "$f(x)$ can be expressed as a multiple of the an equivalent primitive polynomial; a primitive polynomial multiplied by the gcd of the coefficients. We will call this $cp(x)$.\n",
    "\n",
    "By Gauss's Lemma, $p(x)=g(x)h(x)$ implies that both $g(x)$ and $h(x)$ are primitive."
   ]
  },
  {
   "cell_type": "markdown",
   "metadata": {},
   "source": [
    "#### 6.)  If $f(x)$ and $g(x)$ are primitive polynomials, and if $f(x)|g(x)$ and $g(x)|f(x)$, prove that $f(x) = \\pm g(x)$. "
   ]
  },
  {
   "cell_type": "markdown",
   "metadata": {},
   "source": [
    "As proved in problem 9.1.1, $\\exists c: g(x) = c f(x)$.\n",
    "\n",
    "Let us assume that $c$ is not $\\pm 1$.\n",
    "\n",
    "Because $c|g(x)$, we've found a contradiction to $f(x)$'s primitivity, as a primitive polynomial must also be irreducable, but $g(x)$ is a nontrivial polynomial which divides $f(x)$. \n",
    "\n",
    "Therefore, $c$ must be $\\pm 1$."
   ]
  },
  {
   "cell_type": "markdown",
   "metadata": {},
   "source": [
    "Format for straight edge and compass construction?"
   ]
  }
 ],
 "metadata": {
  "kernelspec": {
   "display_name": "Python 3",
   "language": "python",
   "name": "python3"
  },
  "language_info": {
   "codemirror_mode": {
    "name": "ipython",
    "version": 3
   },
   "file_extension": ".py",
   "mimetype": "text/x-python",
   "name": "python",
   "nbconvert_exporter": "python",
   "pygments_lexer": "ipython3",
   "version": "3.8.5"
  }
 },
 "nbformat": 4,
 "nbformat_minor": 4
}
