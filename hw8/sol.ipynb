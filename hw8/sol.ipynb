{
 "cells": [
  {
   "cell_type": "markdown",
   "metadata": {},
   "source": [
    "### 3.6\n",
    "#### 4.) Use the method of Example 3 to find integers x and y such that $x^2+y^2=89753$, given that this number is prime."
   ]
  },
  {
   "cell_type": "code",
   "execution_count": 1,
   "metadata": {},
   "outputs": [],
   "source": [
    "import numpy as np\n",
    "from copy import deepcopy\n",
    "from math import ceil, floor\n",
    "\n",
    "def bqf_app(trans, mat):\n",
    "    return np.matmul(np.matmul(np.transpose(trans), mat), trans)\n",
    "\n",
    "class Bqf:\n",
    "    def __init__(self, a, b, c):\n",
    "        self.terms = [[\"x^2\", a, lambda x, y: x ** 2],\n",
    "                      [\"xy\", b, lambda x, y: x * y],\n",
    "                      [\"y^2\", c, lambda x, y: y]]\n",
    "        \n",
    "        self.update_vals(a,b,c)\n",
    "        \n",
    "        self.mat = [\n",
    "            [self.a, self.b / 2],\n",
    "            [self.b / 2, c]\n",
    "        ]\n",
    "        \n",
    "        self.det  = self.determinant()\n",
    "        self.disc = self.discriminant()\n",
    "        \n",
    "        if (self.disc == 0): self.type = \"Perfect square\"\n",
    "            \n",
    "        elif (self.disc < 0):\n",
    "            if (self.a > 0): self.type = \"Positive definite\"\n",
    "            else:            self.type = \"Negative definite\"\n",
    "                \n",
    "        else:                self.type = \"Indefinite\"\n",
    "        \n",
    "        self.transform = []\n",
    "        \n",
    "    def __call__(self, x, y):\n",
    "        return sum([i[1] * i[2](x, y) for i in self.terms])\n",
    "    \n",
    "    def __repr__(self):\n",
    "        out = \"\"\n",
    "        for i in range(len(self.terms)):\n",
    "            if self.terms[i][1] != 0:\n",
    "                \n",
    "                if i > 0:\n",
    "                    if self.terms[i][1] > 0:\n",
    "                        out += \"+ \"\n",
    "                    else:\n",
    "                        out += \"- \"\n",
    "                elif (self.terms[i][1] < 0):\n",
    "                    out += \"-\"\n",
    "                        \n",
    "                if abs(self.terms[i][1]) != 1:\n",
    "                    out += str(abs(self.terms[i][1]))\n",
    "                    \n",
    "                out += self.terms[i][0] + \" \"\n",
    "\n",
    "        return out[:-1]\n",
    "    \n",
    "    def __eq__(self, other):\n",
    "        return np.allclose(self.reduce().mat, other.reduce().mat)\n",
    "    \n",
    "    def determinant(self):\n",
    "        return (self.mat[0][0] * self.mat[1][1]) - (self.mat[0][1] * self.mat[1][0])\n",
    "    \n",
    "    def discriminant(self):\n",
    "        return self.determinant() * -4    \n",
    "    \n",
    "    def is_reduced(self):\n",
    "        return -abs(self.a) < self.b <= abs(self.a) < abs(self.c) or\\\n",
    "                0 <= self.b <= abs(self.a) == abs(self.c)\n",
    "    \n",
    "    def update_vals(self, a, b, c):\n",
    "        self.a = a\n",
    "        self.b = b\n",
    "        self.c = c\n",
    "        \n",
    "        self.terms[0][1] = a\n",
    "        self.terms[1][1] = b\n",
    "        self.terms[2][1] = c\n",
    "        \n",
    "    def reduce(self):\n",
    "        if (self.is_reduced()):\n",
    "            print(\"already reduced\")\n",
    "            return self\n",
    "        \n",
    "        red = deepcopy(self)\n",
    "        trans = [1,0]\n",
    "        \n",
    "        while (not red.is_reduced()):\n",
    "            if abs(red.c) < abs(red.a) or (abs(red.c) == abs(red.a) and -abs(red.a) <= red.b < 0):\n",
    "                red.mat = bqf_app([[0, 1],[-1, 0]], red.mat)\n",
    "                trans = np.linalg.inv([[0, 1],[-1, 0]]) @ trans\n",
    "            else:\n",
    "                m = abs(floor(red.b / red.a)) * (1 if red.a > red.b else -1) / 2\n",
    "                red.mat = bqf_app([[1, m],[0, 1]], red.mat)\n",
    "                trans = np.linalg.inv([[1, m],[0, 1]]) @ trans\n",
    "            \n",
    "            red.update_vals(red.mat[0][0], red.mat[0][1] * 2, red.mat[1][1])\n",
    "        return red, trans"
   ]
  },
  {
   "cell_type": "code",
   "execution_count": 2,
   "metadata": {},
   "outputs": [],
   "source": [
    "prime_list = set([2] + [*filter(lambda i:all(i%j for j in range(3,i,2)), range(3,100000,2))])"
   ]
  },
  {
   "cell_type": "code",
   "execution_count": 3,
   "metadata": {},
   "outputs": [],
   "source": [
    "# find two integers such that a^2 + b^2 = prime = 1 mod 4\n",
    "def find_xy(p):\n",
    "    # make sure number is good\n",
    "    assert p in prime_list\n",
    "    assert p % 4 == 1\n",
    "    # find a starting equation\n",
    "    c = 1\n",
    "    while (int((4 * p * c - 4) ** .5) != (4 * p * c - 4) ** .5): c += 1\n",
    "    b = Bqf(p, (4 * p * c - 4) ** .5, c)\n",
    "    # reduce, verify, and return\n",
    "    reduced = b.reduce()[1]\n",
    "    if reduced[0] ** 2 + reduced[1] ** 2 != p:\n",
    "        print(p, reduced)\n",
    "        assert 0\n",
    "    return int(reduced[0]), int(reduced[1])"
   ]
  },
  {
   "cell_type": "code",
   "execution_count": 4,
   "metadata": {},
   "outputs": [
    {
     "name": "stdout",
     "output_type": "stream",
     "text": [
      "(-67)^2 + (292)^2 = 89753\n"
     ]
    }
   ],
   "source": [
    "x, y = find_xy(89753)\n",
    "print(\"({})^2 + ({})^2 = {}\".format(x, y, x ** 2 + y ** 2))"
   ]
  },
  {
   "cell_type": "markdown",
   "metadata": {},
   "source": [
    "I was trying to find all of the values of a and b possible to generate a prime, but weirdly, my program broke at 13. Something to do with the way I'm handling fractions, I believe. Regardless, the program can't be too bad, as it handles the case for 89753..."
   ]
  },
  {
   "cell_type": "markdown",
   "metadata": {},
   "source": [
    "### 9.1"
   ]
  },
  {
   "cell_type": "markdown",
   "metadata": {},
   "source": [
    "#### 1.) If $f(x)|g(x)$ and $g(x)|f(x)$, prove that there is a rational number c such that $g(x) = cf(x)$. "
   ]
  },
  {
   "cell_type": "markdown",
   "metadata": {},
   "source": [
    "$f(x)|g(x) \\implies \\exists u_1(x): f(x)u_1(x)=g(x)$.\n",
    "\n",
    "Likewise, $g(x)|f(x) \\implies \\exists u_2(x): g(x)u_2(x)=f(x)$.\n",
    "\n",
    "Using substitution, we can form the following equation:\n",
    "\n",
    "$f(x)=f(x)u_1(x)u_2(x) \\implies u_1(x)u_2(x)=1 \\implies u_1(x)=u_2(x)^{-1}$\n",
    "\n",
    "Note that if $u_2(x)$ was not a rational number, its inverse would not be in $\\mathbb{Q}[x]$, as one of its terms would be of the form $x^{-i}$ for some positive integer i.\n",
    "\n",
    "Therefore, $u_2(x)$ must be a rational number, which implies that $u_1(x) = u_2(x)^{-1}$ is a rational number.\n",
    "\n",
    "If we set $c = u_1(x)$, $g(x)=cf(x)$."
   ]
  },
  {
   "cell_type": "markdown",
   "metadata": {},
   "source": [
    "#### 2.) If $f(x)|g(x)$ and $g(x)|h(x)$, prove that $f(x)|h(x)$."
   ]
  },
  {
   "cell_type": "markdown",
   "metadata": {},
   "source": [
    "$f(x)|g(x) \\implies \\exists u_1(x): f(x)u_1(x)=g(x)$.\n",
    "\n",
    "$g(x)|h(x) \\implies \\exists u_2(x): g(x)u_2(x)=h(x)$.\n",
    "\n",
    "$\\implies f(x)u_1(x)u_2(x)=h(x)$ by substitution.\n",
    "\n",
    "Let $u_3(x)=u_1(x)u_2(x)$, so $f(x)u_3(x)=h(x)$.\n",
    "\n",
    "Therefore, $f(x)|h(x)$."
   ]
  },
  {
   "cell_type": "markdown",
   "metadata": {},
   "source": [
    "#### 3.) If $p(x)$ is irreducible and $g(x)|p(x)$, prove that either $g(x)$ is a constant or $g(x) = cp(x)$ for some rational number $c$. "
   ]
  },
  {
   "cell_type": "markdown",
   "metadata": {},
   "source": [
    "Because $p(x)$ is irreducable, it cannot be factored.\n",
    "\n",
    "However, observe that any polynomial in $\\mathbb{Q}[x]$ can be divided by some constant in $\\mathbb{Q}$ without leaving $\\mathbb{Q}[x]$.\n",
    "\n",
    "Additionally, if $g(x)$ is some constant multiple of $p(x)$, $\\frac{p(x)}{g(x)}=c$ where $c$ is some rational number.\n",
    "\n",
    "Any other case, however, would imply that $p(x)$ is a nontrivial polynomial, so the above two cases are the only possible for $g(x)|p(x)$."
   ]
  },
  {
   "cell_type": "markdown",
   "metadata": {},
   "source": [
    "#### 5.) If a polynomial $f(x)$ with integral coefficients factors into a product $g(x)h(x)$ of two polynomials with coefficients in $\\mathbb{Q}$, prove that there is a factoring $g_1(x)h_1(x)$ with integral coefficients. "
   ]
  },
  {
   "cell_type": "markdown",
   "metadata": {},
   "source": [
    "I got help from you on this one.\n",
    "\n",
    "Tools we need:\n",
    "\n",
    "1. If $f(x)$ is any rational polynomial, $\\exists r: rf(x)$ is a primitive polynomial. This can be found by finding a constant which generates an equivalent integral polynomial and multiplying that constant with the gcd of the integral polynomial.\n",
    "\n",
    "2. The product of two primitive polynomials are primitive.\n",
    "\n",
    "3. If $f(x)$ is primitive, $cf(x)$ is primitive $\\iff c=\\pm 1$\n",
    "\n",
    "Case 1: $f(x)$ is a primitive polynomial.\n",
    "\n",
    "First, we find $a,b: ag(x)$ and $bh(x)$ are primitive. We know that $(ab)(g(x)h(x))$ is primitive by (2). By (3), $f(x)$ and $abf(x)$ being primitive imply that $ab=\\pm 1$. $g_1(x)=ag(x)$ and $h_1(x)=bh(x)$ fit our requirements.\n",
    "\n",
    "Case 2: $f(x)$ is any polynomial with integer coefficients.\n",
    "\n",
    "From (1), we can find a primitive polynomial from $f(x)$ by dividing it by the gcd of its coefficients which we will represent by the constant $c$. $f_1(x)=\\frac{1}{c}f(x)\\implies \\frac{1}{c}g(x)h(x)=f_1(x)$. From the previous case, we know that $\\exists a,b:\\frac{1}{c}ag(x)bh(x)=f_1(x)$ where $g(x), h(x)$ are integral polynomials. We also know from the previous case that $ab=\\pm 1$. $g_1(x)=ag(x)$ and $h_1(x)=bh(x)$ now fit our requirements."
   ]
  },
  {
   "cell_type": "markdown",
   "metadata": {},
   "source": [
    "#### 6.)  If $f(x)$ and $g(x)$ are primitive polynomials, and if $f(x)|g(x)$ and $g(x)|f(x)$, prove that $f(x) = \\pm g(x)$. "
   ]
  },
  {
   "cell_type": "markdown",
   "metadata": {},
   "source": [
    "As proved in problem 9.1.1, $\\exists c: g(x) = c f(x)$.\n",
    "\n",
    "Let us assume that $c$ is not $\\pm 1$.\n",
    "\n",
    "Because $c|g(x)$, we've found a contradiction to $f(x)$'s primitivity, as a primitive polynomial must also be irreducable, but $g(x)$ is a nontrivial polynomial which divides $f(x)$. \n",
    "\n",
    "Therefore, $c$ must be $\\pm 1$. Again, this case works as an irreducable can only be divided by a unit multiple of itself or a unit."
   ]
  }
 ],
 "metadata": {
  "kernelspec": {
   "display_name": "Python 3",
   "language": "python",
   "name": "python3"
  },
  "language_info": {
   "codemirror_mode": {
    "name": "ipython",
    "version": 3
   },
   "file_extension": ".py",
   "mimetype": "text/x-python",
   "name": "python",
   "nbconvert_exporter": "python",
   "pygments_lexer": "ipython3",
   "version": "3.8.5"
  }
 },
 "nbformat": 4,
 "nbformat_minor": 4
}
