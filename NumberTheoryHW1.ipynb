{
 "cells": [
  {
   "cell_type": "code",
   "execution_count": 1,
   "metadata": {},
   "outputs": [],
   "source": [
    "## Euclidean Algorithm\n",
    "def euclid(a, b):\n",
    "    a, b = sorted((a, b))\n",
    "    \n",
    "    # y = coeff(x) + rem\n",
    "    # repeat until remainder is 0\n",
    "    rem = -1\n",
    "    coeff = 0\n",
    "    \n",
    "    while(rem != 0):\n",
    "        coeff = a // b\n",
    "        rem =   a - coeff * b\n",
    "        a = b\n",
    "        b = rem\n",
    "    return a"
   ]
  },
  {
   "cell_type": "code",
   "execution_count": 2,
   "metadata": {},
   "outputs": [],
   "source": [
    "## Extended Euclidean Algorithm\n",
    "def ext_euclid(a, b):\n",
    "    a, b = sorted((a, b))\n",
    "    \n",
    "    # remainders\n",
    "    r = [b, a]\n",
    "    \n",
    "    # coefficient of b\n",
    "    s = [1, 0]\n",
    "    \n",
    "    # coefficient of a\n",
    "    t = [0, 1]\n",
    "    \n",
    "    # compute values until remainder is 0\n",
    "    i = 1\n",
    "    while(r[i] != 0):\n",
    "        q = (r[i - 1] // r[i])\n",
    "        r.append(r[i - 1] - q * r[i])\n",
    "        s.append(s[i - 1] - q * s[i])\n",
    "        t.append(t[i - 1] - q * t[i])\n",
    "        i += 1\n",
    "        \n",
    "    # return relevant coefficients and remainder\n",
    "    return t[i - 1], s[i - 1], r[i - 1]"
   ]
  },
  {
   "cell_type": "code",
   "execution_count": 3,
   "metadata": {},
   "outputs": [],
   "source": [
    "## Diophantine Equation:\n",
    "#  ax + by = c\n",
    "def diophantine(a, b, c):\n",
    "    a, b = sorted((a, b))\n",
    "\n",
    "#   first, find the coefficients to make the gcd\n",
    "#   a coeff, b coeff, gcd(a,b)\n",
    "    x,       y,       d = ext_euclid(a, b)\n",
    "\n",
    "#   ensure that the desired result is a multiple of the gcd\n",
    "    assert c % d == 0\n",
    "    \n",
    "#   find value we must multiply gcd by to get result\n",
    "    q = c // d\n",
    "    \n",
    "#   ensure that we get the valid result\n",
    "    assert a * x * q + b * y * q == c \n",
    "    \n",
    "    return x * q, y * q "
   ]
  },
  {
   "cell_type": "code",
   "execution_count": 4,
   "metadata": {},
   "outputs": [
    {
     "name": "stdout",
     "output_type": "stream",
     "text": [
      "a: 77\n",
      "b: 1\n",
      "c: 7\n",
      "d: 1\n"
     ]
    }
   ],
   "source": [
    "# Problem 1\n",
    "# We can use the euclidian algorithm for each of these problems\n",
    "problems = {\n",
    "    \"a\": (7469, 2464),\n",
    "    \"b\": (2689, 4001),\n",
    "    \"c\": (2947, 3997),\n",
    "    \"d\": (1109, 4999),\n",
    "}\n",
    "\n",
    "for i in problems.keys():\n",
    "    print(i + \":\", euclid(*problems[i]))"
   ]
  },
  {
   "cell_type": "code",
   "execution_count": 5,
   "metadata": {},
   "outputs": [
    {
     "name": "stdout",
     "output_type": "stream",
     "text": [
      "(71)1819 + (-36)3587 = 17\n"
     ]
    }
   ],
   "source": [
    "# Problem 2\n",
    "# We can use the extended euclidian algorithm for this problem\n",
    "\n",
    "a, b = 1819, 3587\n",
    "# first, find gcd\n",
    "g = euclid(a, b)\n",
    "\n",
    "# now, solve diophantine equation\n",
    "x, y = diophantine(1819, 3587, g)\n",
    "print(\"({}){} + ({}){} = {}\".format(x, a, y, b, g))"
   ]
  },
  {
   "cell_type": "code",
   "execution_count": 6,
   "metadata": {},
   "outputs": [
    {
     "name": "stdout",
     "output_type": "stream",
     "text": [
      "a: (15)(423) + (-7)(198) = 9\n",
      "b: (-27)(71) + (-19)(-50) = 1\n",
      "c: (3)(43) + (-2)(64) = 1\n",
      "d: (8)(93) + (7)(-81) = 3\n",
      "============================== \n",
      "e:\n",
      "(-2)(6) + (1)(15) = 3\n",
      "(-3)(3) + (1)(10) = 1\n",
      "(6)(6) + (-3)(15) + (1)(10) = 1\n"
     ]
    }
   ],
   "source": [
    "# Problem 3\n",
    "# For most of these problems, we can use the extended euclidian algorithm\n",
    "problems = {\n",
    "    \"a\": (423, 198, 9),\n",
    "    \"b\": (71, -50, 1),\n",
    "    \"c\": (43, 64, 1),\n",
    "    \"d\": (93, -81, 3),\n",
    "}\n",
    "\n",
    "for i in problems.keys():\n",
    "    a, b, c = problems[i]\n",
    "    x, y = diophantine(a, b, c)\n",
    "    print(i + \":\", \"({})({}) + ({})({}) = {}\".format(x, a, y, b, c))\n",
    "\n",
    "print(\"=\" * 30, \"\\ne:\")\n",
    "# For problem e, we need to solve a smaller diophantine equation to make a coprime\n",
    "# with the other value.\n",
    "\n",
    "# Let's solve (6)x + (15)y = gcd(6, 15) = 3 first.\n",
    "a, b, c = 6, 15, 3\n",
    "x, y = diophantine(a, b, c)\n",
    "\n",
    "print(\"({})({}) + ({})({}) = {}\".format(x, a, y, b, c))\n",
    "# Now, we can substitute 3 for 6 and 15 in our original equation.\n",
    "# s * ((-2)(6) + (1)(15)) + z * 10 = 1\n",
    "#         Which is the same as\n",
    "#           s(3) + z(10) = 1\n",
    "\n",
    "# If we solve this equation, we can just multiply our '3' term by s and get our answer.\n",
    "a, b, c = 3, 10, 1\n",
    "s, z = diophantine(a, b, c)\n",
    "print(\"({})({}) + ({})({}) = {}\".format(s, a, z, b, c))\n",
    "\n",
    "# Now, we multiply the coefficients we got before:\n",
    "x *= s\n",
    "y *= s\n",
    "\n",
    "# Let's verify that our equation works and print the result:\n",
    "assert 6 * x + 15 * y + 10 * z == 1\n",
    "print(\"({})({}) + ({})({}) + ({})({}) = {}\".format(x, 6, y, 15, z, 10, 1))"
   ]
  }
 ],
 "metadata": {
  "kernelspec": {
   "display_name": "Python 3",
   "language": "python",
   "name": "python3"
  },
  "language_info": {
   "codemirror_mode": {
    "name": "ipython",
    "version": 3
   },
   "file_extension": ".py",
   "mimetype": "text/x-python",
   "name": "python",
   "nbconvert_exporter": "python",
   "pygments_lexer": "ipython3",
   "version": "3.8.2"
  }
 },
 "nbformat": 4,
 "nbformat_minor": 4
}
