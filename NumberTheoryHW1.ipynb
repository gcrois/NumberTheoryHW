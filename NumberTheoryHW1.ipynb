{
 "cells": [
  {
   "cell_type": "code",
   "execution_count": 1,
   "metadata": {},
   "outputs": [],
   "source": [
    "## Euclidean Algorithm\n",
    "def euclid(a, b):\n",
    "    a, b = sorted((a, b))\n",
    "    \n",
    "    # y = coeff(x) + rem\n",
    "    # repeat until remainder is 0\n",
    "    rem = -1\n",
    "    coeff = 0\n",
    "    \n",
    "    while(rem != 0):\n",
    "        coeff = a // b\n",
    "        rem =   a - coeff * b\n",
    "        a = b\n",
    "        b = rem\n",
    "    return a"
   ]
  },
  {
   "cell_type": "code",
   "execution_count": 2,
   "metadata": {},
   "outputs": [],
   "source": [
    "## Extended Euclidean Algorithm\n",
    "def ext_euclid(a, b):\n",
    "    a, b = sorted((a, b))\n",
    "    \n",
    "    # remainders\n",
    "    r = [b, a]\n",
    "    \n",
    "    # coefficient of b\n",
    "    s = [1, 0]\n",
    "    \n",
    "    # coefficient of a\n",
    "    t = [0, 1]\n",
    "    \n",
    "    # compute values until remainder is 0\n",
    "    i = 1\n",
    "    while(r[i] != 0):\n",
    "        q = (r[i - 1] // r[i])\n",
    "        r.append(r[i - 1] - q * r[i])\n",
    "        s.append(s[i - 1] - q * s[i])\n",
    "        t.append(t[i - 1] - q * t[i])\n",
    "        i += 1\n",
    "        \n",
    "    # return relevant coefficients and remainder\n",
    "    return t[i - 1], s[i - 1], r[i - 1]"
   ]
  },
  {
   "cell_type": "code",
   "execution_count": 3,
   "metadata": {},
   "outputs": [],
   "source": [
    "## Linear Diophantine Equation solver:\n",
    "#  ax + by = c\n",
    "def diophantine(a, b, c):\n",
    "    a, b = sorted((a, b))\n",
    "\n",
    "#   first, find the coefficients to make the gcd\n",
    "#   a coeff, b coeff, gcd(a,b)\n",
    "    x,       y,       d = ext_euclid(a, b)\n",
    "\n",
    "#   ensure that the desired result is a multiple of the gcd\n",
    "    assert c % d == 0\n",
    "    \n",
    "#   find value we must multiply gcd by to get result\n",
    "    q = c // d\n",
    "    \n",
    "#   ensure that we get the valid result\n",
    "    assert a * x * q + b * y * q == c \n",
    "    \n",
    "    return x * q, y * q "
   ]
  },
  {
   "cell_type": "code",
   "execution_count": 16,
   "metadata": {},
   "outputs": [],
   "source": [
    "# Prime Factorialization\n",
    "from collections import defaultdict\n",
    "\n",
    "# Short prime finder\n",
    "prime_list = [2] + [*filter(lambda i:all(i%j for j in range(3,i,2)), range(3,10000,2))] \n",
    "\n",
    "# Prime Factoring Algorithm\n",
    "def fact(n):\n",
    "    # dictionary with default value\n",
    "    out = defaultdict(int)\n",
    "    \n",
    "    # fresh new prime list\n",
    "    primes = prime_list.copy()\n",
    "\n",
    "    f = primes.pop(0)\n",
    "    while f <= n:\n",
    "        if n % f == 0:\n",
    "            out[f] += 1\n",
    "            n //= f\n",
    "        else:\n",
    "            f = primes.pop(0)\n",
    "    return out"
   ]
  },
  {
   "cell_type": "code",
   "execution_count": 5,
   "metadata": {},
   "outputs": [
    {
     "name": "stdout",
     "output_type": "stream",
     "text": [
      "a: 77\n",
      "b: 1\n",
      "c: 7\n",
      "d: 1\n"
     ]
    }
   ],
   "source": [
    "# Problem 1\n",
    "# We can use the euclidian algorithm for each of these problems\n",
    "problems = {\n",
    "    \"a\": (7469, 2464),\n",
    "    \"b\": (2689, 4001),\n",
    "    \"c\": (2947, 3997),\n",
    "    \"d\": (1109, 4999),\n",
    "}\n",
    "\n",
    "for i in problems.keys():\n",
    "    print(i + \":\", euclid(*problems[i]))"
   ]
  },
  {
   "cell_type": "code",
   "execution_count": 6,
   "metadata": {},
   "outputs": [
    {
     "name": "stdout",
     "output_type": "stream",
     "text": [
      "(71)1819 + (-36)3587 = 17\n"
     ]
    }
   ],
   "source": [
    "# Problem 2\n",
    "# We can use the extended euclidian algorithm for this problem\n",
    "\n",
    "a, b = 1819, 3587\n",
    "# first, find gcd\n",
    "g = euclid(a, b)\n",
    "\n",
    "# now, solve diophantine equation\n",
    "x, y = diophantine(1819, 3587, g)\n",
    "print(\"({}){} + ({}){} = {}\".format(x, a, y, b, g))"
   ]
  },
  {
   "cell_type": "code",
   "execution_count": 7,
   "metadata": {},
   "outputs": [
    {
     "name": "stdout",
     "output_type": "stream",
     "text": [
      "a: (15)(423) + (-7)(198) = 9\n",
      "b: (-27)(71) + (-19)(-50) = 1\n",
      "c: (3)(43) + (-2)(64) = 1\n",
      "d: (8)(93) + (7)(-81) = 3\n",
      "============================== \n",
      "e:\n",
      "(-2)(6) + (1)(15) = 3\n",
      "(-3)(3) + (1)(10) = 1\n",
      "(6)(6) + (-3)(15) + (1)(10) = 1\n"
     ]
    }
   ],
   "source": [
    "# Problem 3\n",
    "# For most of these problems, we can use the extended euclidian algorithm\n",
    "problems = {\n",
    "    \"a\": (423, 198, 9),\n",
    "    \"b\": (71, -50, 1),\n",
    "    \"c\": (43, 64, 1),\n",
    "    \"d\": (93, -81, 3),\n",
    "}\n",
    "\n",
    "for i in problems.keys():\n",
    "    a, b, c = problems[i]\n",
    "    x, y = diophantine(a, b, c)\n",
    "    print(i + \":\", \"({})({}) + ({})({}) = {}\".format(x, a, y, b, c))\n",
    "\n",
    "print(\"=\" * 30, \"\\ne:\")\n",
    "# For problem e, we need to solve a smaller diophantine equation to make a coprime\n",
    "# with the other value.\n",
    "\n",
    "# Let's solve (6)x + (15)y = gcd(6, 15) = 3 first.\n",
    "a, b, c = 6, 15, 3\n",
    "x, y = diophantine(a, b, c)\n",
    "\n",
    "print(\"({})({}) + ({})({}) = {}\".format(x, a, y, b, c))\n",
    "# Now, we can substitute 3 for 6 and 15 in our original equation.\n",
    "# s * ((-2)(6) + (1)(15)) + z * 10 = 1\n",
    "#         Which is the same as\n",
    "#           s(3) + z(10) = 1\n",
    "\n",
    "# If we solve this equation, we can just multiply our '3' term by s and get our answer.\n",
    "a, b, c = 3, 10, 1\n",
    "s, z = diophantine(a, b, c)\n",
    "print(\"({})({}) + ({})({}) = {}\".format(s, a, z, b, c))\n",
    "\n",
    "# Now, we multiply the coefficients we got before:\n",
    "x *= s\n",
    "y *= s\n",
    "\n",
    "# Let's verify that our equation works and print the result:\n",
    "assert 6 * x + 15 * y + 10 * z == 1\n",
    "print(\"({})({}) + ({})({}) + ({})({}) = {}\".format(x, 6, y, 15, z, 10, 1))"
   ]
  },
  {
   "cell_type": "code",
   "execution_count": 17,
   "metadata": {},
   "outputs": [
    {
     "name": "stdout",
     "output_type": "stream",
     "text": [
      "a: 3374\n",
      "b: 3660\n"
     ]
    }
   ],
   "source": [
    "# Problem 4 (I didn't realize it wasn't required... Ooops...)\n",
    "# Multiply prime factors by maximum quantity in prime factorialization of each number\n",
    "problems = {\n",
    "    \"a\": (482, 1687),\n",
    "    \"b\": (60, 61),\n",
    "}\n",
    "\n",
    "for i in problems.keys():\n",
    "    a, b = problems[i]\n",
    "    a_fact, b_fact = fact(a), fact(b)\n",
    "    \n",
    "    lcm = 1\n",
    "    \n",
    "    # loop through each unique factor in combined list\n",
    "    for j in set(list(a_fact.keys()) + list(b_fact.keys())):\n",
    "        # multiply lcm by maximum instances of factor\n",
    "        lcm *= j * max(a_fact[j], b_fact[j])\n",
    "    \n",
    "    print(i + \":\", lcm)"
   ]
  },
  {
   "cell_type": "code",
   "execution_count": 1,
   "metadata": {},
   "outputs": [
    {
     "data": {
      "text/html": [
       "<style type=\"text/css\">\n",
       "    table.dataframe td, table.dataframe th {\n",
       "        border-style: solid;\n",
       "    }\n",
       "</style>\n"
      ],
      "text/plain": [
       "<IPython.core.display.HTML object>"
      ]
     },
     "metadata": {},
     "output_type": "display_data"
    }
   ],
   "source": [
    "%%HTML\n",
    "<style type=\"text/css\">\n",
    "    table.dataframe td, table.dataframe th {\n",
    "        border-style: solid;\n",
    "    }\n",
    "</style>"
   ]
  },
  {
   "cell_type": "markdown",
   "metadata": {},
   "source": [
    "Problem 6\n",
    "\n",
    "To make our lives easier, let's first prove that the product of $n$ consecutive integers $a_0,a_1,...a_n$ are divisible by $d \\in \\mathbb{N}$ where $d < n$.\n",
    "\n",
    "According to the properties of the modulo operator, it is known that there are $n$ distinct possibilities for $i \\mod n \\forall i \\in \\mathbb{Z}$. It can also be said that $(i + 1) \\mod n = ((i \\mod n) + 1) \\mod n$. With this information, we can make the following table of possible values of $a_0,a_1,...a_n \\mod n$:\n",
    "\n",
    "|              \t| Case 0     \t| Case 1         \t| Case j  \t| Case n       \t|\n",
    "|--------------\t|------------\t|----------------\t|-----\t|--------------\t|\n",
    "| $a_1 \\mod n$ \t| $1 \\mod n$ \t| $2 \\mod n$     \t| $j + 1 \\mod n$ \t| $n \\mod n$   \t|\n",
    "| $a_2 \\mod n$ \t| $2 \\mod n$ \t| $3 \\mod n$     \t| $j + 2 \\mod n$ \t| $n-1 \\mod n$ \t|\n",
    "| $a_i \\mod n$ \t| $i \\mod n$ \t| $i + 1 \\mod n$ \t| $j + i \\mod n$ \t| $n-i \\mod n$ \t|\n",
    "| $a_n \\mod n$ \t| $n \\mod n$ \t| $n + 1 \\mod n$ \t| $j + n \\mod n$ \t| $n-i \\mod n$ \t|\n",
    "\n",
    "Prove that the product of three consecutive integers is divisble by 6.\n",
    "\n",
    "Let's call the integers $a_1, a_2, a_3$.\n",
    "\n",
    "Consider the table below:\n",
    "\n",
    "|    | Case 1 | Case 2 |\n",
    "|----|--------|--------|\n",
    "| $a_1 \\mod 2$ | 0      | 1      |\n",
    "| $a_2 \\mod 2$| 1      | 0      |\n",
    "\n",
    "$\\Rightarrow a_1*a_2*a_3 | 2$\n",
    "\n",
    "Likewise,\n",
    "\n",
    "|              | Case 1 | Case 2 | Case 3 |\n",
    "|--------------|--------|--------|--------|\n",
    "| $a_1 \\mod 3$ | 0      | 1      | 2      |\n",
    "| $a_2 \\mod 3$ | 1      | 2      | 0      |\n",
    "| $a_3 \\mod 3$ | 2      | 0      | 1      |\n",
    "\n",
    "$\\Rightarrow a_1*a_2*a_3 | 3$\n",
    "\n",
    "$a_1*a_2*a_3 | 3 \\textrm{ and } a_1*a_2*a_3 | 2 \\iff a_1*a_2*a_3 | 2*3 \\iff a_1*a_2*a_3 | 6$"
   ]
  },
  {
   "cell_type": "markdown",
   "metadata": {},
   "source": [
    "Problem 6 Part II\n",
    "\n",
    "Prove that the product of four consecutive integers is divisble by 24.\n",
    "\n",
    "Let's call the integers $a_1, a_2, a_3, a_4$.\n",
    "\n",
    "Consider the table below:\n",
    "\n",
    "|              | Case 1 | Case 2 |\n",
    "|--------------|--------|--------|\n",
    "| $a_1 \\mod 2$ | 0      | 1      |\n",
    "| $a_2 \\mod 2$ | 1      | 0      |\n",
    "| $a_3 \\mod 2$ | 0      | 1      |\n",
    "| $a_4 \\mod 2$ | 1      | 0      |\n",
    "\n",
    "$\\Rightarrow a_1|2 \\textrm{ and } a_3|2 = 0 \\oplus a_2|2 = 0 \\textrm{ and } a_4|2 = 0$<br>\n",
    "$\\Rightarrow a_1 * a_2 * a_3 * a_4|4$\n",
    "\n",
    "Likewise,\n",
    "\n",
    "|              | Case 1 | Case 2 | Case 3 |\n",
    "|--------------|--------|--------|--------|\n",
    "| $a_1 \\mod 3$ | 0      | 1      | 2      |\n",
    "| $a_2 \\mod 3$ | 1      | 2      | 0      |\n",
    "| $a_3 \\mod 3$ | 2      | 0      | 1      |\n",
    "\n",
    "$\\Rightarrow a_1*a_2*a_3 | 3$\n",
    "\n",
    "$a_1*a_2*a_3 | 3 \\textrm{ and } a_1*a_2*a_3 | 2 \\iff a_1*a_2*a_3 | 2*3 \\iff a_1*a_2*a_3 | 6$"
   ]
  },
  {
   "cell_type": "markdown",
   "metadata": {},
   "source": [
    "Problem 9\n",
    "\n",
    "Let's try the following values: $a = "
   ]
  }
 ],
 "metadata": {
  "kernelspec": {
   "display_name": "Python 3",
   "language": "python",
   "name": "python3"
  },
  "language_info": {
   "codemirror_mode": {
    "name": "ipython",
    "version": 3
   },
   "file_extension": ".py",
   "mimetype": "text/x-python",
   "name": "python",
   "nbconvert_exporter": "python",
   "pygments_lexer": "ipython3",
   "version": "3.8.2"
  }
 },
 "nbformat": 4,
 "nbformat_minor": 4
}
