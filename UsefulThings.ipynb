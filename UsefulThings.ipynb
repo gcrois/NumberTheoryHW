{
 "cells": [
  {
   "cell_type": "code",
   "execution_count": 1,
   "metadata": {},
   "outputs": [
    {
     "data": {
      "text/plain": [
       "(5-4i)"
      ]
     },
     "execution_count": 1,
     "metadata": {},
     "output_type": "execute_result"
    }
   ],
   "source": [
    "class GaussInt:\n",
    "    def __init__(self, real, imaginary=None):\n",
    "        # allow native complex type construction or parameter construction\n",
    "        if (imaginary == None):\n",
    "            self.r = int(real.real)\n",
    "            self.i = int(real.imag)\n",
    "        else:\n",
    "            self.r = real\n",
    "            self.i = imaginary\n",
    "        \n",
    "    def __mul__(self, other):\n",
    "        # construct GaussInt from non-GaussInt\n",
    "        if not isinstance(other, GaussInt):\n",
    "            other = GaussInt(other)      \n",
    "\n",
    "        # (a + bi) (c + di) = ac - bd\n",
    "        a, b, c, d = self.r, self.i, other.r, other.i\n",
    "        r = (a * c) - (b * d)\n",
    "        i = (a * d) + (b * c)\n",
    "        return GaussInt(r, i)\n",
    "    \n",
    "    def divide(self, other):\n",
    "        if not isinstance(other, GaussInt):\n",
    "            r_r = int(round(self.r / other))\n",
    "            r_i = int(round(self.i / other))\n",
    "            return GaussInt(r_r, r_i), self - (GaussInt(r_r, r_i) * other)\n",
    "        else:\n",
    "            a, b, c, d = self.r, self.i, other.r, other.i\n",
    "            conj = GaussInt(other.r, -other.i)\n",
    "            # (a + bi) / (c + di)\n",
    "            # (a + bi) * (c - di) / ((c + di) * (c - di))\n",
    "            # (a + bi) * (c + di) / (c ** 2 - d ** 2)\n",
    "            res = (self * conj) / (other * conj).r\n",
    "            \n",
    "            r_r = int(round(res.r))\n",
    "            r_i = int(round(res.i))\n",
    "            return GaussInt(r_r, r_i), self - (GaussInt(r_r, r_i) * other)\n",
    "    \n",
    "    def __truediv__(self, other):\n",
    "        return self.divide(other)[0]\n",
    "    \n",
    "    def __mod__(self, other):\n",
    "        return self.divide(other)[1]\n",
    "        \n",
    "    def __sub__(self, other):\n",
    "        return self + (other * -1)\n",
    "    \n",
    "    def __add__(self, other):\n",
    "        if not isinstance(other, GaussInt):\n",
    "            other = GaussInt(other)\n",
    "            \n",
    "        return GaussInt(self.r + other.r, self.i + other.i)\n",
    "\n",
    "    def __repr__(self):\n",
    "        return \"({}{}{}i)\".format(self.r, \"+\" if (self.i >= 0) else \"\", self.i)\n",
    "    \n",
    "    def __eq__(self, other):\n",
    "        # construct GaussInt from non-GaussInt\n",
    "        if not isinstance(other, GaussInt):\n",
    "            other = GaussInt(other)\n",
    "        return (self.r == other.r) and (self.i == other.i)\n",
    "    \n",
    "    def __neq__(self, other):\n",
    "        return not (self == other)\n",
    "    \n",
    "    def norm(self):\n",
    "        return self.r ** 2 + self.i ** 2\n",
    "\n",
    "a = GaussInt(5+6j)\n",
    "b = GaussInt(1+2j)\n",
    "\n",
    "(a % 10)"
   ]
  }
 ],
 "metadata": {
  "kernelspec": {
   "display_name": "Python 3",
   "language": "python",
   "name": "python3"
  },
  "language_info": {
   "codemirror_mode": {
    "name": "ipython",
    "version": 3
   },
   "file_extension": ".py",
   "mimetype": "text/x-python",
   "name": "python",
   "nbconvert_exporter": "python",
   "pygments_lexer": "ipython3",
   "version": "3.8.2"
  }
 },
 "nbformat": 4,
 "nbformat_minor": 4
}
